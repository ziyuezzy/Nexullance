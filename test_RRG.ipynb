{
 "cells": [
  {
   "cell_type": "code",
   "execution_count": 7,
   "metadata": {},
   "outputs": [],
   "source": [
    "from topologies import RRG as RRG\n",
    "import matplotlib.pyplot as plt\n",
    "import matplotlib.patches as mpatches\n",
    "import pickle"
   ]
  },
  {
   "cell_type": "code",
   "execution_count": 8,
   "metadata": {},
   "outputs": [],
   "source": [
    "parameter_list = [(98, 11), (242, 17)] #(Number of vertices, Number of degree)\n",
    "# parameter_list = [(98, 11), (242, 17), (338, 19), (578, 25), (722, 29), (1058, 35)] #(Number of vertices, Number of degree)"
   ]
  },
  {
   "cell_type": "code",
   "execution_count": 9,
   "metadata": {},
   "outputs": [],
   "source": [
    "params=parameter_list[0]\n",
    "rrg=RRG.RRGtopo(params[1], params[0] )"
   ]
  },
  {
   "cell_type": "code",
   "execution_count": 10,
   "metadata": {},
   "outputs": [
    {
     "data": {
      "text/plain": [
       "3"
      ]
     },
     "execution_count": 10,
     "metadata": {},
     "output_type": "execute_result"
    }
   ],
   "source": [
    "rrg.calculate_diameter()"
   ]
  },
  {
   "cell_type": "code",
   "execution_count": 11,
   "metadata": {},
   "outputs": [],
   "source": [
    "length_3_routing_table=rrg.calculate_all_paths_within_length(3)"
   ]
  },
  {
   "cell_type": "code",
   "execution_count": null,
   "metadata": {},
   "outputs": [],
   "source": []
  },
  {
   "cell_type": "code",
   "execution_count": null,
   "metadata": {},
   "outputs": [],
   "source": []
  },
  {
   "cell_type": "code",
   "execution_count": 12,
   "metadata": {},
   "outputs": [
    {
     "ename": "NameError",
     "evalue": "name 'calculate_ave_paths_length' is not defined",
     "output_type": "error",
     "traceback": [
      "\u001b[0;31m---------------------------------------------------------------------------\u001b[0m",
      "\u001b[0;31mNameError\u001b[0m                                 Traceback (most recent call last)",
      "Cell \u001b[0;32mIn[12], line 27\u001b[0m\n\u001b[1;32m     25\u001b[0m gdbg \u001b[39m=\u001b[39m pickle\u001b[39m.\u001b[39mload(\u001b[39mopen\u001b[39m(\u001b[39m'\u001b[39m\u001b[39m./pickled_data/GDBG_(\u001b[39m\u001b[39m{}\u001b[39;00m\u001b[39m,\u001b[39m\u001b[39m{}\u001b[39;00m\u001b[39m).pickle\u001b[39m\u001b[39m'\u001b[39m\u001b[39m.\u001b[39mformat(num_vertices, degree), \u001b[39m'\u001b[39m\u001b[39mrb\u001b[39m\u001b[39m'\u001b[39m))\n\u001b[1;32m     26\u001b[0m gdbg_ALLPATH_H_paths \u001b[39m=\u001b[39m pickle\u001b[39m.\u001b[39mload(\u001b[39mopen\u001b[39m(\u001b[39m'\u001b[39m\u001b[39m./pickled_data/ALLPATH_\u001b[39m\u001b[39m{}\u001b[39;00m\u001b[39m_paths_GDBG_(\u001b[39m\u001b[39m{}\u001b[39;00m\u001b[39m,\u001b[39m\u001b[39m{}\u001b[39;00m\u001b[39m).pickle\u001b[39m\u001b[39m'\u001b[39m\u001b[39m.\u001b[39mformat(\u001b[39m2\u001b[39m,num_vertices, degree), \u001b[39m'\u001b[39m\u001b[39mrb\u001b[39m\u001b[39m'\u001b[39m)) \n\u001b[0;32m---> 27\u001b[0m gdbg_ALLPATH_H_ave_length \u001b[39m=\u001b[39m calculate_ave_paths_length(gdbg_ALLPATH_H_paths)\n\u001b[1;32m     28\u001b[0m gdbg_k_shortest_paths, gdbg_ave_length \u001b[39m=\u001b[39m calculate_m_shortest_paths(pickle\u001b[39m.\u001b[39mload(\u001b[39mopen\u001b[39m(\u001b[39m'\u001b[39m\u001b[39m./pickled_data/\u001b[39m\u001b[39m{}\u001b[39;00m\u001b[39m_shortest_paths_GDBG_(\u001b[39m\u001b[39m{}\u001b[39;00m\u001b[39m,\u001b[39m\u001b[39m{}\u001b[39;00m\u001b[39m).pickle\u001b[39m\u001b[39m'\u001b[39m\u001b[39m.\u001b[39mformat(degree,num_vertices, degree), \u001b[39m'\u001b[39m\u001b[39mrb\u001b[39m\u001b[39m'\u001b[39m)), k)\n\u001b[1;32m     29\u001b[0m gdbg_arc_load_k_shortest\u001b[39m=\u001b[39mGDBG\u001b[39m.\u001b[39mdistribute_flow_on_paths(gdbg\u001b[39m.\u001b[39medges(), gdbg_k_shortest_paths)\n",
      "\u001b[0;31mNameError\u001b[0m: name 'calculate_ave_paths_length' is not defined"
     ]
    },
    {
     "data": {
      "image/png": "[encoded data removed]",
      "text/plain": [
       "<Figure size 640x480 with 1 Axes>"
      ]
     },
     "metadata": {},
     "output_type": "display_data"
    },
    {
     "data": {
      "image/png": "[encoded data removed]",
      "text/plain": [
       "<Figure size 640x480 with 1 Axes>"
      ]
     },
     "metadata": {},
     "output_type": "display_data"
    }
   ],
   "source": [
    "labels = []\n",
    "colors=[]\n",
    "line_colors=[]\n",
    "def add_label(violin, label):\n",
    "    color = violin[\"bodies\"][0].get_facecolor().flatten()\n",
    "    colors.append(color)\n",
    "    line_colors.append(violin[\"cbars\"].get_color().flatten())\n",
    "    labels.append((mpatches.Patch(color=color), label))\n",
    "fig1 = plt.figure(0)\n",
    "fig2 = plt.figure(1)\n",
    "# Create an axes instance\n",
    "ax1 = fig1.subplots()\n",
    "ax2 = fig2.subplots()\n",
    "x_labels1 = x_labels2= [\"(98, 11)\", \"(242, 17)\", \"(338, 19)\", \"(578, 25)\", \"(722, 29)\", \"(1058, 35)\"]\n",
    "\n",
    "# ALLPATH_H, H=ceil(log_k N) routing algorithm:\n",
    "counter=0\n",
    "k=1 #compare with 1-shortest path routing\n",
    "\n",
    "for params in parameter_list:\n",
    "    counter+=1\n",
    "    num_vertices=params[0]\n",
    "    degree=params[1]\n",
    "    # Read the pickled data \n",
    "    gdbg = pickle.load(open('./pickled_data/GDBG_({},{}).pickle'.format(num_vertices, degree), 'rb'))\n",
    "    gdbg_ALLPATH_H_paths = pickle.load(open('./pickled_data/ALLPATH_{}_paths_GDBG_({},{}).pickle'.format(2,num_vertices, degree), 'rb')) \n",
    "    gdbg_ALLPATH_H_ave_length = calculate_ave_paths_length(gdbg_ALLPATH_H_paths)\n",
    "    gdbg_k_shortest_paths, gdbg_ave_length = calculate_m_shortest_paths(pickle.load(open('./pickled_data/{}_shortest_paths_GDBG_({},{}).pickle'.format(degree,num_vertices, degree), 'rb')), k)\n",
    "    gdbg_arc_load_k_shortest=GDBG.distribute_flow_on_paths(gdbg.edges(), gdbg_k_shortest_paths)\n",
    "    gdbg_arc_load_ALLPATH_H=GDBG.distribute_flow_on_paths(gdbg.edges(), gdbg_ALLPATH_H_paths)\n",
    "\n",
    "    if counter==1:\n",
    "        add_label(ax1.violinplot(list(gdbg_ALLPATH_H_ave_length.values()), positions = [counter], showmeans=True), \"GDBG with ALLPATH_H\")\n",
    "        add_label(ax1.violinplot(list(gdbg_ave_length.values()), positions = [counter], showmeans=True), \"GDBG with 1-shortest\")\n",
    "    else:\n",
    "        vl1=ax1.violinplot(list(gdbg_ALLPATH_H_ave_length.values()), positions = [counter], showmeans=True)\n",
    "        vl1[\"bodies\"][0].set_facecolor(colors[0])\n",
    "        vl1[\"cbars\"].set_color(line_colors[0])\n",
    "        vl1[\"cmins\"].set_color(line_colors[0])\n",
    "        vl1[\"cmaxes\"].set_color(line_colors[0])\n",
    "        vl1[\"cmeans\"].set_color(line_colors[0])\n",
    "        vl2=ax1.violinplot(list(gdbg_ave_length.values()), positions = [counter], showmeans=True)\n",
    "        vl2[\"bodies\"][0].set_facecolor(colors[1])\n",
    "        vl2[\"cbars\"].set_color(line_colors[1])\n",
    "        vl2[\"cmins\"].set_color(line_colors[1])\n",
    "        vl2[\"cmaxes\"].set_color(line_colors[1])\n",
    "        vl2[\"cmeans\"].set_color(line_colors[1])\n",
    "\n",
    "    vl1=ax2.violinplot(list(gdbg_arc_load_ALLPATH_H.values()), positions = [counter], showmeans=True)\n",
    "    vl1[\"bodies\"][0].set_facecolor(colors[0])\n",
    "    vl1[\"cbars\"].set_color(line_colors[0])\n",
    "    vl1[\"cmins\"].set_color(line_colors[0])\n",
    "    vl1[\"cmaxes\"].set_color(line_colors[0])\n",
    "    vl1[\"cmeans\"].set_color(line_colors[0])\n",
    "    vl2=ax2.violinplot(list(gdbg_arc_load_k_shortest.values()), positions = [counter], showmeans=True)\n",
    "    vl2[\"bodies\"][0].set_facecolor(colors[1])\n",
    "    vl2[\"cbars\"].set_color(line_colors[1])\n",
    "    vl2[\"cmins\"].set_color(line_colors[1])\n",
    "    vl2[\"cmaxes\"].set_color(line_colors[1])\n",
    "    vl2[\"cmeans\"].set_color(line_colors[1])\n",
    "\n",
    "ax1.set_xticks(list(range(1, 1+len(x_labels1))))\n",
    "ax1.set_xticklabels(x_labels1)\n",
    "ax1.set_xlabel(\"network size (#Router, #radix)\")\n",
    "ax1.set_ylabel(\"average path lengths\")\n",
    "ax1.legend(*zip(*labels), loc=3)\n",
    "\n",
    "ax2.set_xticks(list(range(1, 1+len(x_labels2))))\n",
    "ax2.set_xticklabels(x_labels2)\n",
    "ax2.set_xlabel(\"network size (#Router, #radix)\")\n",
    "ax2.set_ylabel(\"Arc load\")\n",
    "ax2.legend(*zip(*labels), loc=2)\n",
    "plt.show()\n"
   ]
  },
  {
   "cell_type": "code",
   "execution_count": null,
   "metadata": {},
   "outputs": [],
   "source": []
  },
  {
   "cell_type": "code",
   "execution_count": null,
   "metadata": {},
   "outputs": [],
   "source": []
  }
 ],
 "metadata": {
  "kernelspec": {
   "display_name": "Python 3",
   "language": "python",
   "name": "python3"
  },
  "language_info": {
   "codemirror_mode": {
    "name": "ipython",
    "version": 3
   },
   "file_extension": ".py",
   "mimetype": "text/x-python",
   "name": "python",
   "nbconvert_exporter": "python",
   "pygments_lexer": "ipython3",
   "version": "3.8.2"
  },
  "orig_nbformat": 4
 },
 "nbformat": 4,
 "nbformat_minor": 2
}
