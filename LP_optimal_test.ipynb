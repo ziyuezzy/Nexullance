{
 "cells": [
  {
   "cell_type": "code",
   "execution_count": 2,
   "metadata": {},
   "outputs": [],
   "source": [
    "import topologies.DDF as DDF\n",
    "import globals as gl\n",
    "import nexullance.LP_optimal as LP"
   ]
  },
  {
   "cell_type": "code",
   "execution_count": 3,
   "metadata": {},
   "outputs": [],
   "source": [
    "#define edge_list, traffic_matrix\n",
    "# config=(6, 2)\n",
    "config=(36, 5)\n",
    "EPR=3\n",
    "topo='ddf'\n",
    "_network=DDF.DDFtopo(config[0], config[1])\n",
    "_nx_graph=_network.nx_graph\n",
    "M_EPs=gl.generate_shift_traffic_pattern(config[0], EPR)\n",
    "local_link_flows=gl.local_link_flows_from_M_EPs(M_EPs)\n",
    "M_R=gl.convert_M_EPs_to_M_R(M_EPs, config[0], EPR)"
   ]
  },
  {
   "cell_type": "code",
   "execution_count": 5,
   "metadata": {},
   "outputs": [
    {
     "name": "stdout",
     "output_type": "stream",
     "text": [
      "Set parameter WLSAccessID\n",
      "Set parameter WLSSecret\n",
      "Set parameter LicenseID to value 2411299\n",
      "Academic license - for non-commercial use only - registered to ziyue.zhang@ugent.be\n",
      "Set parameter Threads to value 1\n",
      "Set parameter Method to value 0\n",
      "Gurobi Optimizer version 10.0.2 build v10.0.2rc0 (linux64)\n",
      "\n",
      "CPU model: Intel(R) Xeon(R) CPU           E5645  @ 2.40GHz, instruction set [SSE2]\n",
      "Thread count: 12 physical cores, 24 logical processors, using up to 24 threads\n",
      "\n",
      "Academic license - for non-commercial use only - registered to ziyue.zhang@ugent.be\n",
      "Optimize a model with 45720 rows, 226981 columns and 460620 nonzeros\n",
      "Model fingerprint: 0x6c8e60ce\n",
      "Coefficient statistics:\n",
      "  Matrix range     [1e+00, 3e+00]\n",
      "  Objective range  [1e+00, 1e+00]\n",
      "  Bounds range     [1e+00, 1e+00]\n",
      "  RHS range        [1e+00, 1e+00]\n",
      "Presolve removed 180 rows and 110340 columns\n",
      "Iteration    Objective       Primal Inf.    Dual Inf.      Time\n",
      "       0    2.6169649e+00   2.143577e-02   7.265000e+08      1s\n",
      "    8750    2.4000000e+00   0.000000e+00   0.000000e+00      1s\n",
      "\n",
      "Use crossover to convert LP symmetric solution to basic solution...\n",
      "Crossover log...\n",
      "\n",
      "       0 DPushes remaining with DInf 0.0000000e+00                 1s\n",
      "\n",
      "      75 PPushes remaining with PInf 0.0000000e+00                 1s\n",
      "       0 PPushes remaining with PInf 0.0000000e+00                 1s\n",
      "\n",
      "  Push phase complete: Pinf 0.0000000e+00, Dinf 1.6375790e-15      1s\n",
      "\n",
      "Iteration    Objective       Primal Inf.    Dual Inf.      Time\n",
      "    9023    2.4000000e+00   0.000000e+00   0.000000e+00      1s\n",
      "\n",
      "Solved in 9023 iterations and 1.26 seconds (0.45 work units)\n",
      "Optimal objective  2.400000000e+00\n",
      "Optimal solution found\n",
      "LP stats:\n",
      "\n",
      "Statistics for modelUnnamed:\n",
      "  Linear constraint matrix    : 45720 Constrs, 226981 Vars, 460620 NZs\n",
      "  Matrix coefficient range    : [ 1, 3 ]\n",
      "  Objective coefficient range : [ 1, 1 ]\n",
      "  Variable bound range        : [ 1, 1 ]\n",
      "  RHS coefficient range       : [ 1, 1 ]\n",
      "Max link load is: 2.4\n"
     ]
    }
   ],
   "source": [
    "_,_,max_link_load=LP.Solve_load_balancing(_nx_graph, M_R, _verbose=1)"
   ]
  },
  {
   "cell_type": "code",
   "execution_count": 4,
   "metadata": {},
   "outputs": [
    {
     "name": "stdout",
     "output_type": "stream",
     "text": [
      "predicted saturation load = 0.4166666666666667\n"
     ]
    }
   ],
   "source": [
    "print(f'predicted saturation load = {max(local_link_flows)/max_link_load}')"
   ]
  },
  {
   "cell_type": "code",
   "execution_count": 8,
   "metadata": {},
   "outputs": [
    {
     "name": "stdout",
     "output_type": "stream",
     "text": [
      "Set parameter WLSAccessID\n",
      "Set parameter WLSSecret\n",
      "Set parameter LicenseID to value 2411299\n",
      "Academic license - for non-commercial use only - registered to ziyue.zhang@ugent.be\n",
      "Set parameter Threads to value 1\n",
      "Set parameter Method to value 0\n",
      "Gurobi Optimizer version 10.0.2 build v10.0.2rc0 (linux64)\n",
      "\n",
      "CPU model: Intel(R) Xeon(R) CPU           E5645  @ 2.40GHz, instruction set [SSE2]\n",
      "Thread count: 12 physical cores, 24 logical processors, using up to 24 threads\n",
      "\n",
      "Academic license - for non-commercial use only - registered to ziyue.zhang@ugent.be\n",
      "Optimize a model with 45720 rows, 226981 columns and 680940 nonzeros\n",
      "Model fingerprint: 0xfa6c3cb8\n",
      "Coefficient statistics:\n",
      "  Matrix range     [1e+00, 9e+00]\n",
      "  Objective range  [1e+00, 1e+00]\n",
      "  Bounds range     [1e+00, 1e+00]\n",
      "  RHS range        [1e+00, 1e+00]\n",
      "Presolve removed 1440 rows and 180 columns\n",
      "Presolve time: 0.97s\n",
      "Presolved: 44280 rows, 226801 columns, 667980 nonzeros\n",
      "\n",
      "Iteration    Objective       Primal Inf.    Dual Inf.      Time\n",
      "       0    0.0000000e+00   1.506000e+03   4.065000e+09      1s\n",
      "   60446    1.4904878e+02   0.000000e+00   0.000000e+00      4s\n",
      "\n",
      "Use crossover to convert LP symmetric solution to basic solution...\n",
      "Crossover log...\n",
      "\n",
      "       0 DPushes remaining with DInf 0.0000000e+00                 4s\n",
      "\n",
      "     215 PPushes remaining with PInf 0.0000000e+00                 4s\n",
      "       0 PPushes remaining with PInf 0.0000000e+00                 4s\n",
      "\n",
      "  Push phase complete: Pinf 0.0000000e+00, Dinf 1.2054984e-13      4s\n",
      "\n",
      "Iteration    Objective       Primal Inf.    Dual Inf.      Time\n",
      "   60681    1.4904878e+02   0.000000e+00   0.000000e+00      5s\n",
      "\n",
      "Solved in 60681 iterations and 4.53 seconds (1.96 work units)\n",
      "Optimal objective  1.490487805e+02\n",
      "Optimal solution found\n",
      "LP stats:\n",
      "\n",
      "Statistics for modelUnnamed:\n",
      "  Linear constraint matrix    : 45720 Constrs, 226981 Vars, 680940 NZs\n",
      "  Matrix coefficient range    : [ 1, 9 ]\n",
      "  Objective coefficient range : [ 1, 1 ]\n",
      "  Variable bound range        : [ 1, 1 ]\n",
      "  RHS coefficient range       : [ 1, 1 ]\n",
      "Max link load is: 149.04878048780486\n",
      "predicted saturation load = 0.71788577974145\n"
     ]
    }
   ],
   "source": [
    "M_EPs=gl.generate_uniform_traffic_pattern(config[0], EPR)\n",
    "local_link_flows=gl.local_link_flows_from_M_EPs(M_EPs)\n",
    "M_R=gl.convert_M_EPs_to_M_R(M_EPs, config[0], EPR)\n",
    "\n",
    "_,_,max_link_load=LP.Solve_load_balancing(_nx_graph, M_R, _verbose=1)\n",
    "print(f'predicted saturation load = {max(local_link_flows)/max_link_load}')"
   ]
  },
  {
   "cell_type": "code",
   "execution_count": 4,
   "metadata": {},
   "outputs": [
    {
     "name": "stdout",
     "output_type": "stream",
     "text": [
      "number of raw variables:  233281\n",
      "number of raw constraints:  46980\n"
     ]
    }
   ],
   "source": [
    "E=_nx_graph.number_of_edges()\n",
    "V=_nx_graph.number_of_nodes()\n",
    "\n",
    "num_var= 2*E*(V**2-1) + 2*E +1\n",
    "print(\"number of raw variables: \", num_var)\n",
    "num_constr = 2*E +2*E + V*(V**2-1)\n",
    "print(\"number of raw constraints: \", num_constr)"
   ]
  },
  {
   "cell_type": "code",
   "execution_count": null,
   "metadata": {},
   "outputs": [],
   "source": []
  }
 ],
 "metadata": {
  "kernelspec": {
   "display_name": "Python 3",
   "language": "python",
   "name": "python3"
  },
  "language_info": {
   "codemirror_mode": {
    "name": "ipython",
    "version": 3
   },
   "file_extension": ".py",
   "mimetype": "text/x-python",
   "name": "python",
   "nbconvert_exporter": "python",
   "pygments_lexer": "ipython3",
   "version": "3.8.5"
  }
 },
 "nbformat": 4,
 "nbformat_minor": 2
}
