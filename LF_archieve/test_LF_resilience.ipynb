{
 "cells": [
  {
   "cell_type": "code",
   "execution_count": 1,
   "metadata": {},
   "outputs": [],
   "source": [
    "import lp_load_balancing.LP_gurobi as LP\n",
    "import pickle\n",
    "import topologies.DDF as DDF\n",
    "import globals as gl"
   ]
  },
  {
   "cell_type": "code",
   "execution_count": 2,
   "metadata": {},
   "outputs": [],
   "source": [
    "config=(114, 8)\n",
    "EPR=3\n",
    "topo='ddf'\n",
    "_network=DDF.DDFtopo(config[0], config[1])\n",
    "edge_list=list(_network.nx_graph.edges())"
   ]
  },
  {
   "cell_type": "markdown",
   "metadata": {},
   "source": [
    "# Uniform traffic"
   ]
  },
  {
   "cell_type": "code",
   "execution_count": 3,
   "metadata": {},
   "outputs": [],
   "source": [
    "uniform_traffic_matrix=gl.generate_uniform_traffic_pattern(config[0], EPR)\n",
    "R2R_uniform=gl.convert_p2p_traffic_matrix_to_R2R(uniform_traffic_matrix, config[0], EPR)"
   ]
  },
  {
   "cell_type": "markdown",
   "metadata": {},
   "source": [
    "### DDF Benchmark:"
   ]
  },
  {
   "cell_type": "code",
   "execution_count": 4,
   "metadata": {},
   "outputs": [
    {
     "name": "stdout",
     "output_type": "stream",
     "text": [
      "calculation done for (114, 8) with unipath routing\n",
      "predicted saturation load (DDF benchmark) = 1.024024024024024\n"
     ]
    }
   ],
   "source": [
    "results, edgelist, path_dict = gl.calculate_DDF_routing(_network, config)\n",
    "link_loads, local_link_load=_network.distribute_arbitrary_flow_on_paths_with_EPs(path_dict, EPR, uniform_traffic_matrix)\n",
    "print(f'predicted saturation load (DDF benchmark) = {local_link_load/max(link_loads)}')"
   ]
  },
  {
   "cell_type": "code",
   "execution_count": 7,
   "metadata": {},
   "outputs": [
    {
     "name": "stdout",
     "output_type": "stream",
     "text": [
      "s-d average connection success rate = 0.7644775655954045\n"
     ]
    }
   ],
   "source": [
    "weighted_path_dict=gl.convert_path_dict_to_weighted_path_dict(path_dict)\n",
    "ave_success_rate=gl.evaluate_weighted_pathdict_LF_resilience(edgelist, weighted_path_dict, 0.1)\n",
    "print(f's-d average connection success rate = {ave_success_rate}')"
   ]
  },
  {
   "cell_type": "markdown",
   "metadata": {},
   "source": [
    "### Using all shortest paths"
   ]
  },
  {
   "cell_type": "code",
   "execution_count": 8,
   "metadata": {},
   "outputs": [
    {
     "name": "stderr",
     "output_type": "stream",
     "text": [
      "860.47s - pydevd: Sending message related to process being replaced timed-out after 5 seconds\n",
      "860.47s - pydevd: Sending message related to process being replaced timed-out after 5 seconds\n",
      "860.48s - pydevd: Sending message related to process being replaced timed-out after 5 seconds\n",
      "860.49s - pydevd: Sending message related to process being replaced timed-out after 5 seconds\n",
      "860.50s - pydevd: Sending message related to process being replaced timed-out after 5 seconds\n",
      "860.52s - pydevd: Sending message related to process being replaced timed-out after 5 seconds\n"
     ]
    },
    {
     "name": "stdout",
     "output_type": "stream",
     "text": [
      "calculation done for (114, 8) with shortest paths routing\n",
      "predicted saturation load (before optimization) = 0.7090871283011027\n"
     ]
    },
    {
     "data": {
      "text/plain": [
       "{'diameter': 3,\n",
       " 'ave_path_length_statistics': [1.0, 2.5693215339233038, 3.0],\n",
       " 'num_paths_statistics': [1, 1.7817109144542773, 7],\n",
       " 'link_load_statistics': [20.86190476190475,\n",
       "  36.29166666666667,\n",
       "  53.433333333333394]}"
      ]
     },
     "metadata": {},
     "output_type": "display_data"
    },
    {
     "name": "stdout",
     "output_type": "stream",
     "text": [
      "Set parameter WLSAccessID\n",
      "Set parameter WLSSecret\n",
      "Set parameter LicenseID to value 2411299\n",
      "Academic license - for non-commercial use only - registered to ziyue.zhang@ugent.be\n",
      "number of variables = 23864, number of constraints = 4826\n",
      "Set parameter Threads to value 6\n",
      "Optimal solution found\n",
      "Max link load is: 344.0769230769231\n",
      "s-d average connection success rate = 0.7644775655954045\n"
     ]
    }
   ],
   "source": [
    "results, _, path_dict = gl.calculate_data_shortest_paths(_network, config)\n",
    "link_loads, local_link_load=_network.distribute_arbitrary_flow_on_paths_with_EPs(path_dict, EPR, uniform_traffic_matrix)\n",
    "print(f'predicted saturation load (before optimization) = {local_link_load/max(link_loads)}')\n",
    "display(results)\n",
    "all_weighted_paths, result_link_loads=LP.Solve_load_balancing(path_dict, edge_list,R2R_uniform, _verbose=0)\n",
    "# link_loads, local_link_load=_network.distribute_arbitrary_flow_on_weighted_paths_with_EPs(all_weighted_paths, EPR, uniform_traffic_matrix)\n",
    "# print(f'predicted saturation load (after optimization) = {local_link_load/max(link_loads)}')\n",
    "ave_success_rate=gl.evaluate_weighted_pathdict_LF_resilience(edgelist, weighted_path_dict, 0.1)\n",
    "print(f's-d average connection success rate = {ave_success_rate}')"
   ]
  },
  {
   "cell_type": "code",
   "execution_count": null,
   "metadata": {},
   "outputs": [],
   "source": []
  }
 ],
 "metadata": {
  "kernelspec": {
   "display_name": "Python 3",
   "language": "python",
   "name": "python3"
  },
  "language_info": {
   "codemirror_mode": {
    "name": "ipython",
    "version": 3
   },
   "file_extension": ".py",
   "mimetype": "text/x-python",
   "name": "python",
   "nbconvert_exporter": "python",
   "pygments_lexer": "ipython3",
   "version": "3.8.5"
  },
  "orig_nbformat": 4
 },
 "nbformat": 4,
 "nbformat_minor": 2
}
