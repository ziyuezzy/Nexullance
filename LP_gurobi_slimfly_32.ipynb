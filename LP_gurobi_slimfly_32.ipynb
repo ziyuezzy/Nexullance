{
 "cells": [
  {
   "cell_type": "code",
   "execution_count": 1,
   "metadata": {},
   "outputs": [],
   "source": [
    "import nexullance.LP_gurobi as LP\n",
    "import pickle\n",
    "import topologies.Slimfly as Slimfly\n",
    "import globals as gl"
   ]
  },
  {
   "cell_type": "code",
   "execution_count": 2,
   "metadata": {},
   "outputs": [],
   "source": [
    "config=(32, 6)\n",
    "EPR=3\n",
    "topo='ddf'\n",
    "_network=Slimfly.Slimflytopo(config[0], config[1])\n",
    "edge_list=list(_network.nx_graph.edges())"
   ]
  },
  {
   "cell_type": "markdown",
   "metadata": {},
   "source": [
    "# Uniform traffic"
   ]
  },
  {
   "cell_type": "code",
   "execution_count": 3,
   "metadata": {},
   "outputs": [],
   "source": [
    "uniform_traffic_matrix=gl.generate_uniform_traffic_pattern(config[0], EPR)\n",
    "M_R_uniform=gl.convert_M_EPs_to_M_R(uniform_traffic_matrix, config[0], EPR)"
   ]
  },
  {
   "cell_type": "markdown",
   "metadata": {},
   "source": [
    "### Using all shortest paths"
   ]
  },
  {
   "cell_type": "code",
   "execution_count": 4,
   "metadata": {},
   "outputs": [
    {
     "name": "stdout",
     "output_type": "stream",
     "text": [
      "calculation done for (32, 6) with shortest paths routing\n",
      "predicted saturation load (before optimization) = 1.0555555555555556\n"
     ]
    },
    {
     "data": {
      "text/plain": [
       "{'diameter': 2,\n",
       " 'ave_path_length_statistics': [1.0, 1.8064516129032258, 2.0],\n",
       " 'num_paths_statistics': [1, 1.1612903225806452, 2],\n",
       " 'link_load_statistics': [6.0, 9.333333333333334, 10.0]}"
      ]
     },
     "metadata": {},
     "output_type": "display_data"
    },
    {
     "name": "stdout",
     "output_type": "stream",
     "text": [
      "Set parameter WLSAccessID\n",
      "Set parameter WLSSecret\n",
      "Set parameter LicenseID to value 2411299\n",
      "Academic license - for non-commercial use only - registered to ziyue.zhang@ugent.be\n",
      "number of variables = 1344, number of constraints = 352\n",
      "Optimal solution found\n",
      "Max link load is: 90.0\n",
      "predicted saturation load (after optimization) = 1.0555555555555556\n"
     ]
    }
   ],
   "source": [
    "results, _, path_dict = gl.calculate_data_shortest_paths(_network, config)\n",
    "link_flows, local_link_flows=_network.distribute_arbitrary_flow_on_paths_with_EPs(path_dict, EPR, uniform_traffic_matrix)\n",
    "print(f'predicted saturation load (before optimization) = {local_link_flows/max(link_flows)}')\n",
    "display(results)\n",
    "all_weighted_paths, result_link_flows=LP.Solve_load_balancing(path_dict, edge_list,M_R_uniform, _verbose=0)\n",
    "link_flows, local_link_flows=_network.distribute_arbitrary_flow_on_weighted_paths_with_EPs(all_weighted_paths, EPR, uniform_traffic_matrix)\n",
    "print(f'predicted saturation load (after optimization) = {local_link_flows/max(link_flows)}')\n"
   ]
  },
  {
   "cell_type": "markdown",
   "metadata": {},
   "source": [
    "### Using shorter-than-3 paths"
   ]
  },
  {
   "cell_type": "code",
   "execution_count": 5,
   "metadata": {},
   "outputs": [
    {
     "name": "stdout",
     "output_type": "stream",
     "text": [
      "calculation done for (32, 6) with shortest paths routing\n",
      "predicted saturation load (before optimization) = 0.6500488758553301\n"
     ]
    },
    {
     "data": {
      "text/plain": [
       "{'diameter': 2,\n",
       " 'ave_path_length_statistics': [2.0, 2.6820276497695854, 2.857142857142857],\n",
       " 'num_paths_statistics': [2, 6, 7],\n",
       " 'link_load_statistics': [13.380952380952367,\n",
       "  13.857142857142847,\n",
       "  16.23809523809523]}"
      ]
     },
     "metadata": {},
     "output_type": "display_data"
    },
    {
     "name": "stdout",
     "output_type": "stream",
     "text": [
      "Set parameter WLSAccessID\n",
      "Set parameter WLSSecret\n",
      "Set parameter LicenseID to value 2411299\n",
      "Academic license - for non-commercial use only - registered to ziyue.zhang@ugent.be\n",
      "number of variables = 6144, number of constraints = 1184\n",
      "Optimal solution found\n",
      "Max link load is: 90.0\n",
      "predicted saturation load (after optimization) = 1.0555555555555556\n"
     ]
    }
   ],
   "source": [
    "results, _, path_dict = gl.calculate_data_paths_within_length(_network, config, 3)\n",
    "link_flows, local_link_flows=_network.distribute_arbitrary_flow_on_paths_with_EPs(path_dict, EPR, uniform_traffic_matrix)\n",
    "print(f'predicted saturation load (before optimization) = {local_link_flows/max(link_flows)}')\n",
    "display(results)\n",
    "all_weighted_paths, result_link_flows=LP.Solve_load_balancing(path_dict, edge_list,M_R_uniform, _verbose=0)\n",
    "link_flows, local_link_flows=_network.distribute_arbitrary_flow_on_weighted_paths_with_EPs(all_weighted_paths, EPR, uniform_traffic_matrix)\n",
    "print(f'predicted saturation load (after optimization) = {local_link_flows/max(link_flows)}')"
   ]
  },
  {
   "cell_type": "markdown",
   "metadata": {},
   "source": [
    "### Using shorter-than-4 paths"
   ]
  },
  {
   "cell_type": "code",
   "execution_count": 6,
   "metadata": {},
   "outputs": [
    {
     "name": "stdout",
     "output_type": "stream",
     "text": [
      "calculation done for (32, 6) with shortest paths routing\n",
      "predicted saturation load (before optimization) = 0.5406248852663721\n"
     ]
    },
    {
     "data": {
      "text/plain": [
       "{'diameter': 2,\n",
       " 'ave_path_length_statistics': [3.6923076923076925,\n",
       "  3.7524480375677043,\n",
       "  3.8666666666666667],\n",
       " 'num_paths_statistics': [26, 29.870967741935484, 31],\n",
       " 'link_load_statistics': [18.702233250620438,\n",
       "  19.387648194099917,\n",
       "  19.52473118279587]}"
      ]
     },
     "metadata": {},
     "output_type": "display_data"
    },
    {
     "name": "stdout",
     "output_type": "stream",
     "text": [
      "Set parameter WLSAccessID\n",
      "Set parameter WLSSecret\n",
      "Set parameter LicenseID to value 2411299\n",
      "Academic license - for non-commercial use only - registered to ziyue.zhang@ugent.be\n",
      "number of variables = 29824, number of constraints = 1184\n",
      "Optimal solution found\n",
      "Max link load is: 90.0\n",
      "predicted saturation load (after optimization) = 1.0555555555555556\n"
     ]
    }
   ],
   "source": [
    "results, _, path_dict = gl.calculate_data_paths_within_length(_network, config, 4)\n",
    "link_flows, local_link_flows=_network.distribute_arbitrary_flow_on_paths_with_EPs(path_dict, EPR, uniform_traffic_matrix)\n",
    "print(f'predicted saturation load (before optimization) = {local_link_flows/max(link_flows)}')\n",
    "display(results)\n",
    "all_weighted_paths, result_link_flows=LP.Solve_load_balancing(path_dict, edge_list,M_R_uniform, _verbose=0)\n",
    "link_flows, local_link_flows=_network.distribute_arbitrary_flow_on_weighted_paths_with_EPs(all_weighted_paths, EPR, uniform_traffic_matrix)\n",
    "print(f'predicted saturation load (after optimization) = {local_link_flows/max(link_flows)}')"
   ]
  },
  {
   "cell_type": "markdown",
   "metadata": {},
   "source": [
    "### Using shorter-than-4 paths"
   ]
  },
  {
   "cell_type": "code",
   "execution_count": 4,
   "metadata": {},
   "outputs": [
    {
     "name": "stdout",
     "output_type": "stream",
     "text": [
      "calculation done for (32, 6) with shorter-than-4 paths routing\n",
      "predicted saturation load (before optimization) = 0.5406248852663711\n"
     ]
    },
    {
     "data": {
      "text/plain": [
       "{'diameter': 2,\n",
       " 'ave_path_length_statistics': [3.6923076923076925,\n",
       "  3.7524480375677043,\n",
       "  3.8666666666666667],\n",
       " 'num_paths_statistics': [26, 29.870967741935484, 31],\n",
       " 'link_load_statistics': [18.70223325062044,\n",
       "  19.387648194099917,\n",
       "  19.52473118279586]}"
      ]
     },
     "metadata": {},
     "output_type": "display_data"
    },
    {
     "name": "stdout",
     "output_type": "stream",
     "text": [
      "Set parameter WLSAccessID\n",
      "Set parameter WLSSecret\n",
      "Set parameter LicenseID to value 2411299\n",
      "Academic license - for non-commercial use only - registered to ziyue.zhang@ugent.be\n",
      "number of variables = 29824, number of constraints = 1184\n",
      "Set parameter Threads to value 5\n",
      "Optimal solution found\n",
      "Max link load is: 90.0\n",
      "predicted saturation load (after optimization) = 1.055555555555554\n"
     ]
    }
   ],
   "source": [
    "results, _, path_dict = gl.calculate_data_paths_within_length(_network, config, 4)\n",
    "link_flows, local_link_flows=_network.distribute_arbitrary_flow_on_paths_with_EPs(path_dict, EPR, uniform_traffic_matrix)\n",
    "print(f'predicted saturation load (before optimization) = {local_link_flows/max(link_flows)}')\n",
    "display(results)\n",
    "all_weighted_paths, result_link_flows=LP.Solve_load_balancing(path_dict, edge_list,M_R_uniform, _verbose=0)\n",
    "link_flows, local_link_flows=_network.distribute_arbitrary_flow_on_weighted_paths_with_EPs(all_weighted_paths, EPR, uniform_traffic_matrix)\n",
    "print(f'predicted saturation load (after optimization) = {local_link_flows/max(link_flows)}')"
   ]
  },
  {
   "cell_type": "markdown",
   "metadata": {},
   "source": [
    "# With shift traffic"
   ]
  },
  {
   "cell_type": "code",
   "execution_count": 5,
   "metadata": {},
   "outputs": [],
   "source": [
    "shift_traffic_matrix=gl.generate_shift_traffic_pattern(config[0], EPR)\n",
    "M_R_shift=gl.convert_M_EPs_to_M_R(shift_traffic_matrix, config[0], EPR)"
   ]
  },
  {
   "cell_type": "markdown",
   "metadata": {},
   "source": [
    "### Using all shortest paths"
   ]
  },
  {
   "cell_type": "code",
   "execution_count": 8,
   "metadata": {},
   "outputs": [
    {
     "name": "stdout",
     "output_type": "stream",
     "text": [
      "calculation done for (32, 6) with shortest paths routing\n",
      "predicted saturation load (before optimization) = 0.16666666666666666\n"
     ]
    },
    {
     "data": {
      "text/plain": [
       "{'diameter': 2,\n",
       " 'ave_path_length_statistics': [1.0, 1.8064516129032258, 2.0],\n",
       " 'num_paths_statistics': [1, 1.1612903225806452, 2],\n",
       " 'link_load_statistics': [6.0, 9.333333333333334, 10.0]}"
      ]
     },
     "metadata": {},
     "output_type": "display_data"
    },
    {
     "name": "stdout",
     "output_type": "stream",
     "text": [
      "Set parameter WLSAccessID\n",
      "Set parameter WLSSecret\n",
      "Set parameter LicenseID to value 2411299\n",
      "Academic license - for non-commercial use only - registered to ziyue.zhang@ugent.be\n",
      "number of variables = 1344, number of constraints = 352\n",
      "Optimal solution found\n",
      "Max link load is: 6.0\n",
      "predicted saturation load (after optimization) = 0.16666666666666666\n"
     ]
    }
   ],
   "source": [
    "results, _, path_dict = gl.calculate_data_shortest_paths(_network, config)\n",
    "link_flows, local_link_flows=_network.distribute_arbitrary_flow_on_paths_with_EPs(path_dict, EPR, shift_traffic_matrix)\n",
    "print(f'predicted saturation load (before optimization) = {local_link_flows/max(link_flows)}')\n",
    "display(results)\n",
    "all_weighted_paths, result_link_flows=LP.Solve_load_balancing(path_dict, edge_list,M_R_shift, _verbose=0)\n",
    "link_flows, local_link_flows=_network.distribute_arbitrary_flow_on_weighted_paths_with_EPs(all_weighted_paths, EPR, shift_traffic_matrix)\n",
    "print(f'predicted saturation load (after optimization) = {local_link_flows/max(link_flows)}')\n"
   ]
  },
  {
   "cell_type": "markdown",
   "metadata": {},
   "source": [
    "### Using shorter-than-3 paths"
   ]
  },
  {
   "cell_type": "code",
   "execution_count": 9,
   "metadata": {},
   "outputs": [
    {
     "name": "stdout",
     "output_type": "stream",
     "text": [
      "calculation done for (32, 6) with shortest paths routing\n",
      "predicted saturation load (before optimization) = 0.22950819672131145\n"
     ]
    },
    {
     "data": {
      "text/plain": [
       "{'diameter': 2,\n",
       " 'ave_path_length_statistics': [2.0, 2.6820276497695854, 2.857142857142857],\n",
       " 'num_paths_statistics': [2, 6, 7],\n",
       " 'link_load_statistics': [13.380952380952367,\n",
       "  13.857142857142847,\n",
       "  16.23809523809523]}"
      ]
     },
     "metadata": {},
     "output_type": "display_data"
    },
    {
     "name": "stdout",
     "output_type": "stream",
     "text": [
      "Set parameter WLSAccessID\n",
      "Set parameter WLSSecret\n",
      "Set parameter LicenseID to value 2411299\n",
      "Academic license - for non-commercial use only - registered to ziyue.zhang@ugent.be\n",
      "number of variables = 6144, number of constraints = 1184\n",
      "Optimal solution found\n",
      "Max link load is: 3.0\n",
      "predicted saturation load (after optimization) = 0.3333333333333333\n"
     ]
    }
   ],
   "source": [
    "results, _, path_dict = gl.calculate_data_paths_within_length(_network, config, 3)\n",
    "link_flows, local_link_flows=_network.distribute_arbitrary_flow_on_paths_with_EPs(path_dict, EPR, shift_traffic_matrix)\n",
    "print(f'predicted saturation load (before optimization) = {local_link_flows/max(link_flows)}')\n",
    "display(results)\n",
    "all_weighted_paths, result_link_flows=LP.Solve_load_balancing(path_dict, edge_list,M_R_shift, _verbose=0)\n",
    "link_flows, local_link_flows=_network.distribute_arbitrary_flow_on_weighted_paths_with_EPs(all_weighted_paths, EPR, shift_traffic_matrix)\n",
    "print(f'predicted saturation load (after optimization) = {local_link_flows/max(link_flows)}')"
   ]
  },
  {
   "cell_type": "markdown",
   "metadata": {},
   "source": [
    "### Using shorter-than-4 paths"
   ]
  },
  {
   "cell_type": "code",
   "execution_count": 10,
   "metadata": {},
   "outputs": [
    {
     "name": "stdout",
     "output_type": "stream",
     "text": [
      "calculation done for (32, 6) with shortest paths routing\n",
      "predicted saturation load (before optimization) = 0.4092617040723062\n"
     ]
    },
    {
     "data": {
      "text/plain": [
       "{'diameter': 2,\n",
       " 'ave_path_length_statistics': [3.6923076923076925,\n",
       "  3.7524480375677043,\n",
       "  3.8666666666666667],\n",
       " 'num_paths_statistics': [26, 29.870967741935484, 31],\n",
       " 'link_load_statistics': [18.702233250620438,\n",
       "  19.387648194099917,\n",
       "  19.52473118279587]}"
      ]
     },
     "metadata": {},
     "output_type": "display_data"
    },
    {
     "name": "stdout",
     "output_type": "stream",
     "text": [
      "Set parameter WLSAccessID\n",
      "Set parameter WLSSecret\n",
      "Set parameter LicenseID to value 2411299\n",
      "Academic license - for non-commercial use only - registered to ziyue.zhang@ugent.be\n",
      "number of variables = 29824, number of constraints = 1184\n",
      "Optimal solution found\n",
      "Max link load is: 1.5\n",
      "predicted saturation load (after optimization) = 0.6666666666666631\n"
     ]
    }
   ],
   "source": [
    "results, _, path_dict = gl.calculate_data_paths_within_length(_network, config, 4)\n",
    "link_flows, local_link_flows=_network.distribute_arbitrary_flow_on_paths_with_EPs(path_dict, EPR, shift_traffic_matrix)\n",
    "print(f'predicted saturation load (before optimization) = {local_link_flows/max(link_flows)}')\n",
    "display(results)\n",
    "all_weighted_paths, result_link_flows=LP.Solve_load_balancing(path_dict, edge_list,M_R_shift, _verbose=0)\n",
    "link_flows, local_link_flows=_network.distribute_arbitrary_flow_on_weighted_paths_with_EPs(all_weighted_paths, EPR, shift_traffic_matrix)\n",
    "print(f'predicted saturation load (after optimization) = {local_link_flows/max(link_flows)}')"
   ]
  },
  {
   "cell_type": "markdown",
   "metadata": {},
   "source": [
    "### Using shorter-than-5 paths"
   ]
  },
  {
   "cell_type": "code",
   "execution_count": 11,
   "metadata": {},
   "outputs": [
    {
     "name": "stdout",
     "output_type": "stream",
     "text": [
      "calculation done for (32, 6) with shortest paths routing\n",
      "predicted saturation load (before optimization) = 0.3805446312457904\n"
     ]
    },
    {
     "data": {
      "text/plain": [
       "{'diameter': 2,\n",
       " 'ave_path_length_statistics': [4.679245283018868,\n",
       "  4.738643383498066,\n",
       "  4.773333333333333],\n",
       " 'num_paths_statistics': [106, 142.7741935483871, 150],\n",
       " 'link_load_statistics': [23.686079038769083,\n",
       "  24.482990814740784,\n",
       "  24.64237316993537]}"
      ]
     },
     "metadata": {},
     "output_type": "display_data"
    },
    {
     "name": "stdout",
     "output_type": "stream",
     "text": [
      "Set parameter WLSAccessID\n",
      "Set parameter WLSSecret\n",
      "Set parameter LicenseID to value 2411299\n",
      "Academic license - for non-commercial use only - registered to ziyue.zhang@ugent.be\n",
      "number of variables = 141824, number of constraints = 1184\n",
      "Optimal solution found\n",
      "Max link load is: 1.5000000000000002\n",
      "predicted saturation load (after optimization) = 0.6666666666666629\n"
     ]
    }
   ],
   "source": [
    "results, _, path_dict = gl.calculate_data_paths_within_length(_network, config, 5)\n",
    "link_flows, local_link_flows=_network.distribute_arbitrary_flow_on_paths_with_EPs(path_dict, EPR, shift_traffic_matrix)\n",
    "print(f'predicted saturation load (before optimization) = {local_link_flows/max(link_flows)}')\n",
    "display(results)\n",
    "all_weighted_paths, result_link_flows=LP.Solve_load_balancing(path_dict, edge_list,M_R_shift, _verbose=0)\n",
    "link_flows, local_link_flows=_network.distribute_arbitrary_flow_on_weighted_paths_with_EPs(all_weighted_paths, EPR, shift_traffic_matrix)\n",
    "print(f'predicted saturation load (after optimization) = {local_link_flows/max(link_flows)}')"
   ]
  },
  {
   "cell_type": "markdown",
   "metadata": {},
   "source": [
    "### Using shorter-than-6 paths"
   ]
  },
  {
   "cell_type": "code",
   "execution_count": 4,
   "metadata": {},
   "outputs": [
    {
     "name": "stdout",
     "output_type": "stream",
     "text": [
      "calculation done for (32, 6) with shorter-than-6 paths routing\n",
      "predicted saturation load (before optimization) = 0.3290376038826825\n"
     ]
    },
    {
     "data": {
      "text/plain": [
       "{'diameter': 2,\n",
       " 'ave_path_length_statistics': [5.662650602409639,\n",
       "  5.724639361365979,\n",
       "  5.737891737891738],\n",
       " 'num_paths_statistics': [498, 660.8387096774194, 702],\n",
       " 'link_load_statistics': [29.00737299866731,\n",
       "  29.577303367061155,\n",
       "  29.69128944074101]}"
      ]
     },
     "metadata": {},
     "output_type": "display_data"
    },
    {
     "name": "stdout",
     "output_type": "stream",
     "text": [
      "Set parameter WLSAccessID\n",
      "Set parameter WLSSecret\n",
      "Set parameter LicenseID to value 2411299\n",
      "Academic license - for non-commercial use only - registered to ziyue.zhang@ugent.be\n",
      "number of variables = 655744, number of constraints = 1184\n",
      "Optimal solution found\n",
      "Max link load is: 1.5\n",
      "predicted saturation load (after optimization) = 0.6666666666666661\n"
     ]
    }
   ],
   "source": [
    "results, _, path_dict = gl.calculate_data_paths_within_length(_network, config, 6)\n",
    "link_flows, local_link_flows=_network.distribute_arbitrary_flow_on_paths_with_EPs(path_dict, EPR, shift_traffic_matrix)\n",
    "print(f'predicted saturation load (before optimization) = {local_link_flows/max(link_flows)}')\n",
    "display(results)\n",
    "all_weighted_paths, result_link_flows=LP.Solve_load_balancing(path_dict, edge_list,M_R_shift, _verbose=0)\n",
    "link_flows, local_link_flows=_network.distribute_arbitrary_flow_on_weighted_paths_with_EPs(all_weighted_paths, EPR, shift_traffic_matrix)\n",
    "print(f'predicted saturation load (after optimization) = {local_link_flows/max(link_flows)}')"
   ]
  },
  {
   "cell_type": "markdown",
   "metadata": {},
   "source": [
    "### Using 20-shortest paths"
   ]
  },
  {
   "cell_type": "code",
   "execution_count": 6,
   "metadata": {},
   "outputs": [
    {
     "name": "stdout",
     "output_type": "stream",
     "text": [
      "calculation done for (32, 6) with 20 shortest paths routing\n",
      "predicted saturation load (before optimization) = 0.33333333333333365\n"
     ]
    },
    {
     "data": {
      "text/plain": [
       "{'diameter': 2,\n",
       " 'ave_path_length_statistics': [3.6, 3.632258064516129, 3.8],\n",
       " 'num_paths_statistics': [20, 20, 20],\n",
       " 'link_load_statistics': [11.750000000000032,\n",
       "  18.766666666666797,\n",
       "  23.850000000000204]}"
      ]
     },
     "metadata": {},
     "output_type": "display_data"
    },
    {
     "name": "stdout",
     "output_type": "stream",
     "text": [
      "Set parameter WLSAccessID\n",
      "Set parameter WLSSecret\n",
      "Set parameter LicenseID to value 2411299\n",
      "Academic license - for non-commercial use only - registered to ziyue.zhang@ugent.be\n",
      "number of variables = 20032, number of constraints = 1184\n",
      "Set parameter Threads to value 5\n",
      "Optimal solution found\n",
      "Max link load is: 1.5000000000000004\n",
      "predicted saturation load (after optimization) = 0.6666666666666495\n"
     ]
    }
   ],
   "source": [
    "results, _, path_dict = gl.calculate_data_k_shortest_paths(_network, config, 20)\n",
    "link_flows, local_link_flows=_network.distribute_arbitrary_flow_on_paths_with_EPs(path_dict, EPR, shift_traffic_matrix)\n",
    "print(f'predicted saturation load (before optimization) = {local_link_flows/max(link_flows)}')\n",
    "display(results)\n",
    "all_weighted_paths, result_link_flows=LP.Solve_load_balancing(path_dict, edge_list,M_R_shift, _verbose=0)\n",
    "link_flows, local_link_flows=_network.distribute_arbitrary_flow_on_weighted_paths_with_EPs(all_weighted_paths, EPR, shift_traffic_matrix)\n",
    "print(f'predicted saturation load (after optimization) = {local_link_flows/max(link_flows)}')"
   ]
  },
  {
   "cell_type": "code",
   "execution_count": null,
   "metadata": {},
   "outputs": [],
   "source": []
  }
 ],
 "metadata": {
  "kernelspec": {
   "display_name": "Python 3",
   "language": "python",
   "name": "python3"
  },
  "language_info": {
   "codemirror_mode": {
    "name": "ipython",
    "version": 3
   },
   "file_extension": ".py",
   "mimetype": "text/x-python",
   "name": "python",
   "nbconvert_exporter": "python",
   "pygments_lexer": "ipython3",
   "version": "3.8.5"
  },
  "orig_nbformat": 4
 },
 "nbformat": 4,
 "nbformat_minor": 2
}
