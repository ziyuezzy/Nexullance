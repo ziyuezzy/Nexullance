{
 "cells": [
  {
   "cell_type": "code",
   "execution_count": 1,
   "metadata": {},
   "outputs": [],
   "source": [
    "from Nexullance_OPT import Nexullance_OPT\n",
    "from Nexullance_MP import Nexullance_MP\n",
    "import os\n",
    "import sys\n",
    "sys.path.append(os.path.abspath(os.path.join(os.getcwd(), '..')))\n",
    "sys.path.append(os.path.abspath(os.path.join(os.getcwd(), '../..')))\n",
    "from topologies.DDF import DDFtopo\n",
    "import globals as gl\n",
    "import numpy as np"
   ]
  },
  {
   "cell_type": "code",
   "execution_count": 2,
   "metadata": {},
   "outputs": [],
   "source": [
    "config=(36, 5)\n",
    "EPR=3\n",
    "ddf_network = DDFtopo(config[0], config[1])"
   ]
  },
  {
   "cell_type": "code",
   "execution_count": 3,
   "metadata": {},
   "outputs": [],
   "source": [
    "Cap_remote = 10 #GBps\n",
    "Cap_local = 10 #GBps\n",
    "M_EPs = gl.generate_half_shift_traffic_pattern(config[0], EPR) # a matrix filled with 1s\n",
    "scaling_factor = 3\n",
    "M_EPs = scaling_factor * M_EPs\n",
    "M_R = gl.convert_M_EPs_to_M_R(M_EPs, config[0], EPR)"
   ]
  },
  {
   "cell_type": "code",
   "execution_count": 4,
   "metadata": {},
   "outputs": [
    {
     "name": "stdout",
     "output_type": "stream",
     "text": [
      "Max remote link load:  1.8\n",
      "Max local link load:  0.3\n",
      "network congestion may present\n",
      "mu = 0.16666666666666666 < 1, max remote link load is higher\n",
      "network_total_throughput =  180.0 GBps\n"
     ]
    }
   ],
   "source": [
    "ASP = ddf_network.calculate_all_shortest_paths()\n",
    "ECMP_ASP = gl.ECMP(ASP)\n",
    "remote_link_flows, local_link_flows = ddf_network.distribute_M_EPs_on_weighted_paths(ECMP_ASP, EPR, M_EPs)\n",
    "max_remote_link_load = np.max(remote_link_flows)/Cap_remote\n",
    "max_local_link_load = np.max(local_link_flows)/Cap_local\n",
    "print(\"Max remote link load: \", max_remote_link_load)\n",
    "print(\"Max local link load: \", max_local_link_load)\n",
    "if max_remote_link_load > 1.0 or max_local_link_load > 1.0:\n",
    "    print(\"network congestion may present\")\n",
    "    mu = max_local_link_load/max_remote_link_load\n",
    "    if mu > 1.0:\n",
    "        print(f\"mu = {mu} > 1, max local link load is higher\")\n",
    "    else:\n",
    "        print(f\"mu = {mu} < 1, max remote link load is higher\")\n",
    "else:\n",
    "    print(\"network is probably not congested\")\n",
    "print(\"network_total_throughput = \", gl.network_total_throughput(M_EPs, max_remote_link_load, max_local_link_load), \"GBps\")\n"
   ]
  },
  {
   "cell_type": "code",
   "execution_count": 5,
   "metadata": {},
   "outputs": [
    {
     "name": "stdout",
     "output_type": "stream",
     "text": [
      "Set parameter WLSAccessID\n",
      "Set parameter WLSSecret\n",
      "Set parameter LicenseID to value 2411299\n",
      "Academic license 2411299 - for non-commercial use only - registered to zi___@ugent.be\n",
      "Set parameter Threads to value 1\n",
      "Optimal solution found\n",
      "updated max remote link load:  0.7200000000000003\n",
      "network_total_throughput =  324.0 GBps\n"
     ]
    }
   ],
   "source": [
    "nexu_opt = Nexullance_OPT(ddf_network.nx_graph, M_R, Cap_remote, 0, False)\n",
    "nexu_opt.init_model()\n",
    "new_max_remote_link_load = nexu_opt.solve()\n",
    "print(\"updated max remote link load: \", new_max_remote_link_load)\n",
    "print(\"network_total_throughput = \", gl.network_total_throughput(M_EPs, new_max_remote_link_load, max_local_link_load), \"GBps\")\n"
   ]
  },
  {
   "cell_type": "code",
   "execution_count": 6,
   "metadata": {},
   "outputs": [
    {
     "name": "stdout",
     "output_type": "stream",
     "text": [
      "Set parameter WLSAccessID\n",
      "Set parameter WLSSecret\n",
      "Set parameter LicenseID to value 2411299\n",
      "Academic license 2411299 - for non-commercial use only - registered to zi___@ugent.be\n",
      "Set parameter Threads to value 1\n"
     ]
    },
    {
     "name": "stdout",
     "output_type": "stream",
     "text": [
      "Optimal solution found\n",
      "updated max remote link load:  1.8\n",
      "network_total_throughput =  180.0 GBps\n"
     ]
    }
   ],
   "source": [
    "nexu_opt = Nexullance_MP(ddf_network.nx_graph, ASP, M_R, Cap_remote, 0, False)\n",
    "nexu_opt.init_model()\n",
    "new_max_remote_link_load, weighted_path_dict = nexu_opt.solve()\n",
    "print(\"updated max remote link load: \", new_max_remote_link_load)\n",
    "print(\"network_total_throughput = \", gl.network_total_throughput(M_EPs, new_max_remote_link_load, max_local_link_load), \"GBps\")\n"
   ]
  },
  {
   "cell_type": "code",
   "execution_count": 7,
   "metadata": {},
   "outputs": [
    {
     "name": "stdout",
     "output_type": "stream",
     "text": [
      "Set parameter WLSAccessID\n",
      "Set parameter WLSSecret\n",
      "Set parameter LicenseID to value 2411299\n",
      "Academic license 2411299 - for non-commercial use only - registered to zi___@ugent.be\n",
      "Set parameter Threads to value 1\n",
      "Optimal solution found\n",
      "updated max remote link load:  0.7499999999999997\n",
      "network_total_throughput =  324.0 GBps\n"
     ]
    }
   ],
   "source": [
    "APST_4 = ddf_network.calculate_all_paths_within_length(4)\n",
    "nexu_opt = Nexullance_MP(ddf_network.nx_graph, APST_4, M_R, Cap_remote, 0, False)\n",
    "nexu_opt.init_model()\n",
    "new_max_remote_link_load, weighted_path_dict = nexu_opt.solve()\n",
    "print(\"updated max remote link load: \", new_max_remote_link_load)\n",
    "print(\"network_total_throughput = \", gl.network_total_throughput(M_EPs, new_max_remote_link_load, max_local_link_load), \"GBps\")\n"
   ]
  },
  {
   "cell_type": "code",
   "execution_count": null,
   "metadata": {},
   "outputs": [],
   "source": []
  }
 ],
 "metadata": {
  "kernelspec": {
   "display_name": "Python 3",
   "language": "python",
   "name": "python3"
  },
  "language_info": {
   "codemirror_mode": {
    "name": "ipython",
    "version": 3
   },
   "file_extension": ".py",
   "mimetype": "text/x-python",
   "name": "python",
   "nbconvert_exporter": "python",
   "pygments_lexer": "ipython3",
   "version": "3.8.5"
  }
 },
 "nbformat": 4,
 "nbformat_minor": 2
}
