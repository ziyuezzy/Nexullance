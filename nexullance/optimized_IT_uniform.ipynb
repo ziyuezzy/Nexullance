{
 "cells": [
  {
   "cell_type": "code",
   "execution_count": 1,
   "metadata": {},
   "outputs": [],
   "source": [
    "import matplotlib.pyplot as plt\n",
    "import numpy as np\n",
    "from Nexullance_IT import Nexullance_IT\n",
    "import os\n",
    "import sys\n",
    "sys.path.append(os.path.abspath(os.path.join(os.getcwd(), '..')))\n",
    "sys.path.append(os.path.abspath(os.path.join(os.getcwd(), '../..')))\n",
    "from topologies.DDF import DDFtopo\n",
    "import globals as gl\n",
    "import copy\n",
    "from joblib import Parallel, delayed\n",
    "%matplotlib widget"
   ]
  },
  {
   "cell_type": "markdown",
   "metadata": {},
   "source": [
    "# setup network, not yet using nexullance"
   ]
  },
  {
   "cell_type": "code",
   "execution_count": 2,
   "metadata": {},
   "outputs": [],
   "source": [
    "config=(36, 5)\n",
    "EPR=3\n",
    "ddf_network = DDFtopo(config[0], config[1])\n",
    "Cap_remote = 10 #GBps\n",
    "Cap_local = 10 #GBps\n",
    "M_EPs = gl.generate_uniform_traffic_pattern(config[0], EPR) # an numpy matrix filled with ones\n",
    "scaling_factor = 1\n",
    "M_EPs = scaling_factor * M_EPs\n",
    "M_R = gl.convert_M_EPs_to_M_R(M_EPs, config[0], EPR)"
   ]
  },
  {
   "cell_type": "code",
   "execution_count": 3,
   "metadata": {},
   "outputs": [
    {
     "name": "stdout",
     "output_type": "stream",
     "text": [
      "Max remote link load:  20.775\n",
      "Max local link load:  10.7\n",
      "network congestion may present\n",
      "mu = 0.5150421179302046 < 1, max remote link load is higher\n",
      "network_total_throughput =  556.245487364621 GBps\n"
     ]
    }
   ],
   "source": [
    "ASP = ddf_network.calculate_all_shortest_paths()\n",
    "ECMP_ASP = gl.ECMP(ASP)\n",
    "remote_link_flows, local_link_flows = ddf_network.distribute_M_EPs_on_weighted_paths(ECMP_ASP, EPR, M_EPs)\n",
    "max_remote_link_load = np.max(remote_link_flows)/Cap_remote\n",
    "max_local_link_load = np.max(local_link_flows)/Cap_local\n",
    "print(\"Max remote link load: \", max_remote_link_load)\n",
    "print(\"Max local link load: \", max_local_link_load)\n",
    "if max_remote_link_load > 1.0 or max_local_link_load > 1.0:\n",
    "    print(\"network congestion may present\")\n",
    "    mu = max_local_link_load/max_remote_link_load\n",
    "    if mu > 1.0:\n",
    "        print(f\"mu = {mu} > 1, max local link load is higher\")\n",
    "    else:\n",
    "        print(f\"mu = {mu} < 1, max remote link load is higher\")\n",
    "else:\n",
    "    print(\"network is probably not congested\")\n",
    "print(\"network_total_throughput = \", gl.network_total_throughput(M_EPs, max_remote_link_load, max_local_link_load), \"GBps\")"
   ]
  },
  {
   "cell_type": "code",
   "execution_count": 4,
   "metadata": {},
   "outputs": [
    {
     "name": "stdout",
     "output_type": "stream",
     "text": [
      "scaling traffic to:0.48134777376654636x\n",
      "Max remote link load:  10.0\n",
      "Max local link load:  5.150421179302046\n",
      "network congestion may present\n",
      "mu = 0.5150421179302046 < 1, max remote link load is higher\n",
      "network_total_throughput =  556.2454873646209 GBps\n"
     ]
    }
   ],
   "source": [
    "# simply linearly scale everything:\n",
    "traffic_scaling = 10.0/max(max_local_link_load, max_remote_link_load)\n",
    "print(f\"scaling traffic to:{traffic_scaling}x\")\n",
    "M_EPs = M_EPs*traffic_scaling\n",
    "M_R = M_R*traffic_scaling\n",
    "\n",
    "max_remote_link_load = traffic_scaling * max_remote_link_load\n",
    "max_local_link_load = traffic_scaling * max_local_link_load\n",
    "print(\"Max remote link load: \", max_remote_link_load)\n",
    "print(\"Max local link load: \", max_local_link_load)\n",
    "if max_remote_link_load > 1.0 or max_local_link_load > 1.0:\n",
    "    print(\"network congestion may present\")\n",
    "    mu = max_local_link_load/max_remote_link_load\n",
    "    if mu > 1.0:\n",
    "        print(f\"mu = {mu} > 1, max local link load is higher\")\n",
    "    else:\n",
    "        print(f\"mu = {mu} < 1, max remote link load is higher\")\n",
    "else:\n",
    "    print(\"network is probably not congested\")\n",
    "print(\"network_total_throughput = \", gl.network_total_throughput(M_EPs, max_remote_link_load, max_local_link_load), \"GBps\")"
   ]
  },
  {
   "cell_type": "code",
   "execution_count": 5,
   "metadata": {},
   "outputs": [],
   "source": [
    "alpha_1 = 40.0\n",
    "beta_1 = 0.4\n",
    "\n",
    "alpha_2 = 1\n",
    "beta_2 = 8\n",
    "\n",
    "def weighted_method_1(s: int, d: int, edge_attributes: dict):\n",
    "    return alpha_1 + edge_attributes['load']**beta_1\n",
    "\n",
    "def weighted_method_2(s: int, d: int, edge_attributes: dict):\n",
    "    return alpha_2 + edge_attributes['load']**beta_2"
   ]
  },
  {
   "cell_type": "code",
   "execution_count": 6,
   "metadata": {},
   "outputs": [],
   "source": [
    "nexu_it = Nexullance_IT(ddf_network.nx_graph, M_R, Cap_remote)"
   ]
  },
  {
   "cell_type": "code",
   "execution_count": 7,
   "metadata": {},
   "outputs": [],
   "source": [
    "num_method_1 = 2\n",
    "num_method_2 = 10\n",
    "results_method_1, results_method_2 = nexu_it.optimize(num_method_1, num_method_2, weighted_method_1, weighted_method_2)"
   ]
  },
  {
   "cell_type": "code",
   "execution_count": 8,
   "metadata": {},
   "outputs": [],
   "source": [
    "results_method_1 = np.array([gl.network_total_throughput(M_EPs, results_method_1[i], max_local_link_load) for i in range(len(results_method_1))])\n",
    "results_method_2 = np.array([gl.network_total_throughput(M_EPs, results_method_2[i][-1], max_local_link_load) for i in range(len(results_method_2))])\n",
    "OPTIMUM = 775.0  # Nexullance_OPT [GBps]"
   ]
  },
  {
   "cell_type": "code",
   "execution_count": 9,
   "metadata": {},
   "outputs": [
    {
     "data": {
      "text/plain": [
       "array([0.71773611, 0.92043011])"
      ]
     },
     "execution_count": 9,
     "metadata": {},
     "output_type": "execute_result"
    }
   ],
   "source": [
    "results_method_1/OPTIMUM"
   ]
  },
  {
   "cell_type": "code",
   "execution_count": 10,
   "metadata": {},
   "outputs": [
    {
     "data": {
      "text/plain": [
       "array([0.92043011, 0.92043011, 0.93339391, 0.94672811, 0.9501214 ,\n",
       "       0.95182718, 0.95225459, 0.95268238, 0.95289641, 0.953057  ])"
      ]
     },
     "execution_count": 10,
     "metadata": {},
     "output_type": "execute_result"
    }
   ],
   "source": [
    "results_method_2/OPTIMUM"
   ]
  },
  {
   "cell_type": "code",
   "execution_count": null,
   "metadata": {},
   "outputs": [],
   "source": []
  }
 ],
 "metadata": {
  "kernelspec": {
   "display_name": "Python 3",
   "language": "python",
   "name": "python3"
  },
  "language_info": {
   "codemirror_mode": {
    "name": "ipython",
    "version": 3
   },
   "file_extension": ".py",
   "mimetype": "text/x-python",
   "name": "python",
   "nbconvert_exporter": "python",
   "pygments_lexer": "ipython3",
   "version": "3.10.12"
  }
 },
 "nbformat": 4,
 "nbformat_minor": 2
}
