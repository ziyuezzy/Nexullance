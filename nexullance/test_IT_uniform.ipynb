{
 "cells": [
  {
   "cell_type": "code",
   "execution_count": 1,
   "metadata": {},
   "outputs": [],
   "source": [
    "from Nexullance_IT import Nexullance_IT\n",
    "import os\n",
    "import sys\n",
    "sys.path.append(os.path.abspath(os.path.join(os.getcwd(), '..')))\n",
    "sys.path.append(os.path.abspath(os.path.join(os.getcwd(), '../..')))\n",
    "from topologies.DDF import DDFtopo\n",
    "import globals as gl\n",
    "import numpy as np\n",
    "import copy"
   ]
  },
  {
   "cell_type": "code",
   "execution_count": 2,
   "metadata": {},
   "outputs": [],
   "source": [
    "config=(36, 5)\n",
    "EPR=3\n",
    "ddf_network = DDFtopo(config[0], config[1])"
   ]
  },
  {
   "cell_type": "code",
   "execution_count": 3,
   "metadata": {},
   "outputs": [],
   "source": [
    "Cap_remote = 10 #GBps\n",
    "Cap_local = 10 #GBps\n",
    "M_EPs = gl.generate_uniform_traffic_pattern(config[0], EPR) # an numpy matrix filled with ones\n",
    "scaling_factor = 1\n",
    "M_EPs = scaling_factor * M_EPs\n",
    "M_R = gl.convert_M_EPs_to_M_R(M_EPs, config[0], EPR)"
   ]
  },
  {
   "cell_type": "code",
   "execution_count": 4,
   "metadata": {},
   "outputs": [
    {
     "name": "stdout",
     "output_type": "stream",
     "text": [
      "Max remote link load:  20.775\n",
      "Max local link load:  10.7\n",
      "network congestion may present\n",
      "mu = 0.5150421179302046 < 1, max remote link load is higher\n",
      "network_total_throughput =  556.245487364621 GBps\n"
     ]
    }
   ],
   "source": [
    "ASP = ddf_network.calculate_all_shortest_paths()\n",
    "ECMP_ASP = gl.ECMP(ASP)\n",
    "remote_link_flows, local_link_flows = ddf_network.distribute_M_EPs_on_weighted_paths(ECMP_ASP, EPR, M_EPs)\n",
    "max_remote_link_load = np.max(remote_link_flows)/Cap_remote\n",
    "max_local_link_load = np.max(local_link_flows)/Cap_local\n",
    "print(\"Max remote link load: \", max_remote_link_load)\n",
    "print(\"Max local link load: \", max_local_link_load)\n",
    "if max_remote_link_load > 1.0 or max_local_link_load > 1.0:\n",
    "    print(\"network congestion may present\")\n",
    "    mu = max_local_link_load/max_remote_link_load\n",
    "    if mu > 1.0:\n",
    "        print(f\"mu = {mu} > 1, max local link load is higher\")\n",
    "    else:\n",
    "        print(f\"mu = {mu} < 1, max remote link load is higher\")\n",
    "else:\n",
    "    print(\"network is probably not congested\")\n",
    "print(\"network_total_throughput = \", gl.network_total_throughput(M_EPs, max_remote_link_load, max_local_link_load), \"GBps\")\n"
   ]
  },
  {
   "cell_type": "code",
   "execution_count": 5,
   "metadata": {},
   "outputs": [],
   "source": [
    "nexu_it = Nexullance_IT(ddf_network.nx_graph, M_R, Cap_remote)"
   ]
  },
  {
   "cell_type": "code",
   "execution_count": 6,
   "metadata": {},
   "outputs": [],
   "source": [
    "nexu_it.initialize()"
   ]
  },
  {
   "cell_type": "markdown",
   "metadata": {},
   "source": [
    "# test method 1"
   ]
  },
  {
   "cell_type": "code",
   "execution_count": 7,
   "metadata": {},
   "outputs": [
    {
     "data": {
      "text/plain": [
       "20.77500000000001"
      ]
     },
     "execution_count": 7,
     "metadata": {},
     "output_type": "execute_result"
    }
   ],
   "source": [
    "nexu_it_test = copy.deepcopy(nexu_it)\n",
    "nexu_it_test.optimization_method_1(True)"
   ]
  },
  {
   "cell_type": "code",
   "execution_count": 8,
   "metadata": {},
   "outputs": [
    {
     "data": {
      "text/plain": [
       "17.1"
      ]
     },
     "execution_count": 8,
     "metadata": {},
     "output_type": "execute_result"
    }
   ],
   "source": [
    "def test_weight_function( s: int, d: int, edge_attributes: dict):\n",
    "    # define the weight function for the dijkstra or the bellman-ford algorithm.\n",
    "    alpha: float = 10.0\n",
    "    beta: float = 1.0\n",
    "    return alpha+edge_attributes['load']**beta\n",
    "\n",
    "nexu_it_test.optimization_method_1(True, test_weight_function)\n",
    "\n",
    "#TODO: method1 does not converge, need to tune the parameters of weights?"
   ]
  },
  {
   "cell_type": "markdown",
   "metadata": {},
   "source": [
    "# test method 2"
   ]
  },
  {
   "cell_type": "code",
   "execution_count": 9,
   "metadata": {},
   "outputs": [],
   "source": [
    "nexu_it_test_after_1 = copy.deepcopy(nexu_it_test)\n",
    "\n",
    "def test_weight_function( s: int, d: int, edge_attributes: dict):\n",
    "    # define the weight function for the dijkstra or the bellman-ford algorithm.\n",
    "    alpha: float = 10.0\n",
    "    beta: float = 20.0\n",
    "    return alpha+edge_attributes['load']**beta"
   ]
  },
  {
   "cell_type": "code",
   "execution_count": 10,
   "metadata": {},
   "outputs": [],
   "source": [
    "num_method_2 = 10\n",
    "step = 0.5\n",
    "results_method_2 = {}\n",
    "for i in range(num_method_2):\n",
    "    max_link_loads = nexu_it_test_after_1.optimization_method_2(step, test_weight_function)\n",
    "    results_method_2[step] = max_link_loads\n",
    "    step *= 0.5"
   ]
  },
  {
   "cell_type": "code",
   "execution_count": 11,
   "metadata": {},
   "outputs": [
    {
     "data": {
      "text/plain": [
       "{0.5: (True,\n",
       "  [17.1,\n",
       "   17.1,\n",
       "   17.1,\n",
       "   17.1,\n",
       "   16.650000000000002,\n",
       "   16.200000000000003,\n",
       "   16.200000000000003,\n",
       "   16.200000000000003,\n",
       "   16.200000000000003,\n",
       "   16.200000000000003,\n",
       "   16.200000000000003]),\n",
       " 0.25: (True,\n",
       "  [16.200000000000003,\n",
       "   16.200000000000003,\n",
       "   16.200000000000003,\n",
       "   16.200000000000003,\n",
       "   16.200000000000003,\n",
       "   16.200000000000003,\n",
       "   16.200000000000003,\n",
       "   16.200000000000003,\n",
       "   16.200000000000003,\n",
       "   16.200000000000003,\n",
       "   16.200000000000003]),\n",
       " 0.125: (True,\n",
       "  [16.200000000000003,\n",
       "   16.200000000000003,\n",
       "   16.200000000000003,\n",
       "   16.200000000000003,\n",
       "   16.200000000000003,\n",
       "   16.200000000000003,\n",
       "   16.200000000000003,\n",
       "   16.200000000000003,\n",
       "   15.975000000000003,\n",
       "   15.975000000000003,\n",
       "   15.862500000000011,\n",
       "   15.975000000000001]),\n",
       " 0.0625: (True,\n",
       "  [15.975000000000001,\n",
       "   15.862500000000002,\n",
       "   15.862500000000002,\n",
       "   15.975000000000003,\n",
       "   15.806250000000004,\n",
       "   15.750000000000007,\n",
       "   15.806250000000004,\n",
       "   15.750000000000005,\n",
       "   15.80625,\n",
       "   15.80625,\n",
       "   15.750000000000004]),\n",
       " 0.03125: (True,\n",
       "  [15.750000000000004,\n",
       "   15.750000000000002,\n",
       "   15.750000000000002,\n",
       "   15.75,\n",
       "   15.721874999999999,\n",
       "   15.693750000000005,\n",
       "   15.693750000000005,\n",
       "   15.693750000000003,\n",
       "   15.693750000000001,\n",
       "   15.693749999999998,\n",
       "   15.665625000000004]),\n",
       " 0.015625: (True,\n",
       "  [15.665625000000004,\n",
       "   15.665625,\n",
       "   15.6515625,\n",
       "   15.651562499999999,\n",
       "   15.637500000000006,\n",
       "   15.637500000000003,\n",
       "   15.637500000000003,\n",
       "   15.637500000000003,\n",
       "   15.623437500000005,\n",
       "   15.623437500000005,\n",
       "   15.623437499999998]),\n",
       " 0.0078125: (True,\n",
       "  [15.623437499999998,\n",
       "   15.61640625,\n",
       "   15.609375000000005,\n",
       "   15.623437500000003,\n",
       "   15.609375000000004,\n",
       "   15.609375000000005,\n",
       "   15.609375000000002,\n",
       "   15.609375000000002,\n",
       "   15.602343750000001,\n",
       "   15.602343749999996,\n",
       "   15.595312500000004]),\n",
       " 0.00390625: (True,\n",
       "  [15.595312500000004,\n",
       "   15.595312500000004,\n",
       "   15.5953125,\n",
       "   15.595312499999999,\n",
       "   15.588281250000007,\n",
       "   15.588281250000003,\n",
       "   15.588281250000001,\n",
       "   15.584765625000006,\n",
       "   15.584765624999998,\n",
       "   15.584765624999994,\n",
       "   15.581250000000008]),\n",
       " 0.001953125: (True,\n",
       "  [15.581250000000008,\n",
       "   15.581250000000008,\n",
       "   15.581250000000002,\n",
       "   15.581250000000002,\n",
       "   15.581250000000002,\n",
       "   15.581249999999999,\n",
       "   15.579492187500003,\n",
       "   15.579492187499996,\n",
       "   15.577734375000006,\n",
       "   15.577734374999999,\n",
       "   15.575976562500005]),\n",
       " 0.0009765625: (True,\n",
       "  [15.575976562500005,\n",
       "   15.575976562500005,\n",
       "   15.575976562500001,\n",
       "   15.576855468749992,\n",
       "   15.575097656250005,\n",
       "   15.575097656249998,\n",
       "   15.575097656249993,\n",
       "   15.57421875000001,\n",
       "   15.574218750000005,\n",
       "   15.574218750000005,\n",
       "   15.574218750000005])}"
      ]
     },
     "execution_count": 11,
     "metadata": {},
     "output_type": "execute_result"
    }
   ],
   "source": [
    "results_method_2"
   ]
  },
  {
   "cell_type": "markdown",
   "metadata": {},
   "source": [
    "# test optimize()"
   ]
  },
  {
   "cell_type": "code",
   "execution_count": 12,
   "metadata": {},
   "outputs": [],
   "source": [
    "nexu_it = Nexullance_IT(ddf_network.nx_graph, M_R, Cap_remote)\n",
    "\n",
    "def method_1_weights( s: int, d: int, edge_attributes: dict):\n",
    "    # define the weight function for the dijkstra or the bellman-ford algorithm.\n",
    "    alpha: float = 10.0\n",
    "    beta: float = 1.0\n",
    "    return alpha+edge_attributes['load']**beta\n",
    "\n",
    "def method_2_weights( s: int, d: int, edge_attributes: dict):\n",
    "    # define the weight function for the dijkstra or the bellman-ford algorithm.\n",
    "    alpha: float = 10.0\n",
    "    beta: float = 20.0\n",
    "    return alpha+edge_attributes['load']**beta"
   ]
  },
  {
   "cell_type": "code",
   "execution_count": 13,
   "metadata": {},
   "outputs": [],
   "source": [
    "_=nexu_it.optimize(2,10,method_1_weights, method_2_weights)"
   ]
  },
  {
   "cell_type": "code",
   "execution_count": 14,
   "metadata": {},
   "outputs": [
    {
     "name": "stdout",
     "output_type": "stream",
     "text": [
      "updated max remote link load:  15.574218750000005\n",
      "network_total_throughput =  741.9954853273135 GBps\n"
     ]
    }
   ],
   "source": [
    "result_max_load = nexu_it.result_max_link_load\n",
    "print(\"updated max remote link load: \", result_max_load)\n",
    "print(\"network_total_throughput = \", gl.network_total_throughput(M_EPs, result_max_load, max_local_link_load), \"GBps\")\n"
   ]
  }
 ],
 "metadata": {
  "kernelspec": {
   "display_name": "Python 3",
   "language": "python",
   "name": "python3"
  },
  "language_info": {
   "codemirror_mode": {
    "name": "ipython",
    "version": 3
   },
   "file_extension": ".py",
   "mimetype": "text/x-python",
   "name": "python",
   "nbconvert_exporter": "python",
   "pygments_lexer": "ipython3",
   "version": "3.10.12"
  }
 },
 "nbformat": 4,
 "nbformat_minor": 2
}
