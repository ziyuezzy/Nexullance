{
 "cells": [
  {
   "cell_type": "code",
   "execution_count": 1,
   "metadata": {},
   "outputs": [],
   "source": [
    "from Nexullance_IT import Nexullance_IT\n",
    "import os\n",
    "import sys\n",
    "sys.path.append(os.path.abspath(os.path.join(os.getcwd(), '..')))\n",
    "sys.path.append(os.path.abspath(os.path.join(os.getcwd(), '../..')))\n",
    "from topologies.DDF import DDFtopo\n",
    "import globals as gl\n",
    "import numpy as np\n",
    "import copy\n",
    "import time\n"
   ]
  },
  {
   "cell_type": "code",
   "execution_count": 2,
   "metadata": {},
   "outputs": [],
   "source": [
    "config=(36, 5)\n",
    "EPR=3\n",
    "ddf_network = DDFtopo(config[0], config[1])"
   ]
  },
  {
   "cell_type": "code",
   "execution_count": 3,
   "metadata": {},
   "outputs": [],
   "source": [
    "Cap_remote = 10 #GBps\n",
    "Cap_local = 10 #GBps\n",
    "M_EPs = gl.generate_uniform_traffic_pattern(config[0], EPR) # an numpy matrix filled with ones\n",
    "scaling_factor = 1\n",
    "M_EPs = scaling_factor * M_EPs\n",
    "M_R = gl.convert_M_EPs_to_M_R(M_EPs, config[0], EPR)\n",
    "\n",
    "ASP = ddf_network.calculate_all_shortest_paths()\n",
    "ECMP_ASP = gl.ECMP(ASP)\n",
    "remote_link_flows, local_link_flows = ddf_network.distribute_M_EPs_on_weighted_paths(ECMP_ASP, EPR, M_EPs)\n",
    "max_remote_link_load = np.max(remote_link_flows)/Cap_remote\n",
    "max_local_link_load = np.max(local_link_flows)/Cap_local\n",
    "print(\"Max remote link load: \", max_remote_link_load)\n",
    "print(\"Max local link load: \", max_local_link_load)\n",
    "if max_remote_link_load > 1.0 or max_local_link_load > 1.0:\n",
    "    print(\"network congestion may present\")\n",
    "    mu = max_local_link_load/max_remote_link_load\n",
    "    if mu > 1.0:\n",
    "        print(f\"mu = {mu} > 1, max local link load is higher\")\n",
    "    else:\n",
    "        print(f\"mu = {mu} < 1, max remote link load is higher\")\n",
    "else:\n",
    "    print(\"network is probably not congested\")\n",
    "print(\"network_total_throughput = \", gl.network_total_throughput(M_EPs, max_remote_link_load, max_local_link_load), \"GBps\")\n"
   ]
  },
  {
   "cell_type": "code",
   "execution_count": 5,
   "metadata": {},
   "outputs": [],
   "source": [
    "nexu_it = Nexullance_IT(ddf_network.nx_graph, M_R, Cap_remote)"
   ]
  },
  {
   "cell_type": "code",
   "execution_count": 6,
   "metadata": {},
   "outputs": [],
   "source": [
    "nexu_it.initialize()"
   ]
  },
  {
   "cell_type": "markdown",
   "metadata": {},
   "source": [
    "# debug method 1 (RAM and time for multiple invocations)"
   ]
  },
  {
   "cell_type": "code",
   "execution_count": 7,
   "metadata": {},
   "outputs": [
    {
     "data": {
      "text/plain": [
       "20.77500000000001"
      ]
     },
     "execution_count": 7,
     "metadata": {},
     "output_type": "execute_result"
    }
   ],
   "source": [
    "def test_weight_function( s: int, d: int, edge_attributes: dict):\n",
    "    # define the weight function for the dijkstra or the bellman-ford algorithm.\n",
    "    alpha: float = 10.0\n",
    "    beta: float = 1.0\n",
    "    return alpha+edge_attributes['load']**beta\n"
   ]
  },
  {
   "cell_type": "code",
   "execution_count": null,
   "metadata": {},
   "outputs": [],
   "source": [
    "nexu_it_test = copy.deepcopy(nexu_it)\n",
    "nexu_it_test.optimization_method_1(False, test_weight_function)"
   ]
  }
 ],
 "metadata": {
  "kernelspec": {
   "display_name": "Python 3",
   "language": "python",
   "name": "python3"
  },
  "language_info": {
   "codemirror_mode": {
    "name": "ipython",
    "version": 3
   },
   "file_extension": ".py",
   "mimetype": "text/x-python",
   "name": "python",
   "nbconvert_exporter": "python",
   "pygments_lexer": "ipython3",
   "version": "3.10.12"
  }
 },
 "nbformat": 4,
 "nbformat_minor": 2
}
