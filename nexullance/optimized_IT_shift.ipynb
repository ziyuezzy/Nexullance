{
 "cells": [
  {
   "cell_type": "code",
   "execution_count": 1,
   "metadata": {},
   "outputs": [],
   "source": [
    "import matplotlib.pyplot as plt\n",
    "import numpy as np\n",
    "from Nexullance_IT import Nexullance_IT\n",
    "import os\n",
    "import sys\n",
    "sys.path.append(os.path.abspath(os.path.join(os.getcwd(), '..')))\n",
    "sys.path.append(os.path.abspath(os.path.join(os.getcwd(), '../..')))\n",
    "from topologies.DDF import DDFtopo\n",
    "import globals as gl\n",
    "import copy\n",
    "from joblib import Parallel, delayed\n",
    "%matplotlib widget"
   ]
  },
  {
   "cell_type": "markdown",
   "metadata": {},
   "source": [
    "# setup network, not yet using nexullance"
   ]
  },
  {
   "cell_type": "code",
   "execution_count": 2,
   "metadata": {},
   "outputs": [],
   "source": [
    "config=(36, 5)\n",
    "EPR=3\n",
    "ddf_network = DDFtopo(config[0], config[1])\n",
    "Cap_remote = 10 #GBps\n",
    "Cap_local = 10 #GBps\n",
    "M_EPs = gl.generate_half_shift_traffic_pattern(config[0], EPR) # an numpy matrix filled with ones\n",
    "scaling_factor = 3\n",
    "M_EPs = scaling_factor * M_EPs\n",
    "M_R = gl.convert_M_EPs_to_M_R(M_EPs, config[0], EPR)"
   ]
  },
  {
   "cell_type": "code",
   "execution_count": 3,
   "metadata": {},
   "outputs": [
    {
     "name": "stdout",
     "output_type": "stream",
     "text": [
      "Max remote link load:  1.8\n",
      "Max local link load:  0.3\n",
      "network congestion may present\n",
      "mu = 0.16666666666666666 < 1, max remote link load is higher\n",
      "network_total_throughput =  180.0 GBps\n"
     ]
    }
   ],
   "source": [
    "ASP = ddf_network.calculate_all_shortest_paths()\n",
    "ECMP_ASP = gl.ECMP(ASP)\n",
    "remote_link_flows, local_link_flows = ddf_network.distribute_M_EPs_on_weighted_paths(ECMP_ASP, EPR, M_EPs)\n",
    "max_remote_link_load = np.max(remote_link_flows)/Cap_remote\n",
    "max_local_link_load = np.max(local_link_flows)/Cap_local\n",
    "print(\"Max remote link load: \", max_remote_link_load)\n",
    "print(\"Max local link load: \", max_local_link_load)\n",
    "if max_remote_link_load > 1.0 or max_local_link_load > 1.0:\n",
    "    print(\"network congestion may present\")\n",
    "    mu = max_local_link_load/max_remote_link_load\n",
    "    if mu > 1.0:\n",
    "        print(f\"mu = {mu} > 1, max local link load is higher\")\n",
    "    else:\n",
    "        print(f\"mu = {mu} < 1, max remote link load is higher\")\n",
    "else:\n",
    "    print(\"network is probably not congested\")\n",
    "print(\"network_total_throughput = \", gl.network_total_throughput(M_EPs, max_remote_link_load, max_local_link_load), \"GBps\")"
   ]
  },
  {
   "cell_type": "code",
   "execution_count": 4,
   "metadata": {},
   "outputs": [],
   "source": [
    "alpha_1 = 40.0\n",
    "beta_1 = 0.4\n",
    "\n",
    "alpha_2 = 0\n",
    "beta_2 = 7\n",
    "\n",
    "def weighted_method_1(s: int, d: int, edge_attributes: dict):\n",
    "    return alpha_1 + edge_attributes['load']**beta_1\n",
    "\n",
    "def weighted_method_2(s: int, d: int, edge_attributes: dict):\n",
    "    return alpha_2 + edge_attributes['load']**beta_2"
   ]
  },
  {
   "cell_type": "code",
   "execution_count": 5,
   "metadata": {},
   "outputs": [],
   "source": [
    "nexu_it = Nexullance_IT(ddf_network.nx_graph, M_R, Cap_remote)"
   ]
  },
  {
   "cell_type": "code",
   "execution_count": 6,
   "metadata": {},
   "outputs": [],
   "source": [
    "num_method_1 = 5\n",
    "num_method_2 = 5\n",
    "times_method_1, peakRAMs_method_1, time_method_2, peakRAM_method_2, results_method_1 = nexu_it.optimize_and_profile(num_method_1, num_method_2, weighted_method_1, weighted_method_2)"
   ]
  },
  {
   "cell_type": "code",
   "execution_count": 7,
   "metadata": {},
   "outputs": [
    {
     "data": {
      "text/plain": [
       "[1.8, 1.8, 2.25, 1.8, 2.25]"
      ]
     },
     "execution_count": 7,
     "metadata": {},
     "output_type": "execute_result"
    }
   ],
   "source": [
    "results_method_1"
   ]
  },
  {
   "cell_type": "code",
   "execution_count": 8,
   "metadata": {},
   "outputs": [
    {
     "data": {
      "text/plain": [
       "[0.4704113006591797,\n",
       " 0.6685101985931396,\n",
       " 0.6780295372009277,\n",
       " 0.7575597763061523,\n",
       " 0.684873104095459]"
      ]
     },
     "execution_count": 8,
     "metadata": {},
     "output_type": "execute_result"
    }
   ],
   "source": [
    "times_method_1"
   ]
  },
  {
   "cell_type": "code",
   "execution_count": 9,
   "metadata": {},
   "outputs": [
    {
     "data": {
      "text/plain": [
       "[343054, 270840, 280888, 284344, 766784]"
      ]
     },
     "execution_count": 9,
     "metadata": {},
     "output_type": "execute_result"
    }
   ],
   "source": [
    "peakRAMs_method_1"
   ]
  },
  {
   "cell_type": "code",
   "execution_count": 10,
   "metadata": {},
   "outputs": [
    {
     "data": {
      "text/plain": [
       "0.4429166316986084"
      ]
     },
     "execution_count": 10,
     "metadata": {},
     "output_type": "execute_result"
    }
   ],
   "source": [
    "time_method_2"
   ]
  },
  {
   "cell_type": "code",
   "execution_count": 11,
   "metadata": {},
   "outputs": [
    {
     "data": {
      "text/plain": [
       "244236"
      ]
     },
     "execution_count": 11,
     "metadata": {},
     "output_type": "execute_result"
    }
   ],
   "source": [
    "peakRAM_method_2"
   ]
  },
  {
   "cell_type": "code",
   "execution_count": 12,
   "metadata": {},
   "outputs": [
    {
     "data": {
      "text/plain": [
       "50"
      ]
     },
     "execution_count": 12,
     "metadata": {},
     "output_type": "execute_result"
    }
   ],
   "source": [
    "nexu_it.get_method_2_attempts()"
   ]
  },
  {
   "cell_type": "code",
   "execution_count": 13,
   "metadata": {},
   "outputs": [
    {
     "data": {
      "text/plain": [
       "0.9"
      ]
     },
     "execution_count": 13,
     "metadata": {},
     "output_type": "execute_result"
    }
   ],
   "source": [
    "nexu_it.get_result_max_link_load()"
   ]
  },
  {
   "cell_type": "markdown",
   "metadata": {},
   "source": []
  },
  {
   "cell_type": "markdown",
   "metadata": {},
   "source": []
  },
  {
   "cell_type": "code",
   "execution_count": 14,
   "metadata": {},
   "outputs": [],
   "source": [
    "num_method_1 = 2\n",
    "num_method_2 = 10\n",
    "results_method_1, results_method_2 = nexu_it.optimize(num_method_1, num_method_2, weighted_method_1, weighted_method_2)"
   ]
  },
  {
   "cell_type": "code",
   "execution_count": 15,
   "metadata": {},
   "outputs": [
    {
     "data": {
      "text/plain": [
       "[[1.8, 1.8, 1.8, 1.8, 1.8, 1.8, 1.8, 1.8, 1.8, 1.8, 1.35, 1.35],\n",
       " [1.35,\n",
       "  1.35,\n",
       "  1.35,\n",
       "  1.125,\n",
       "  1.125,\n",
       "  1.125,\n",
       "  1.125,\n",
       "  1.125,\n",
       "  1.125,\n",
       "  0.9000000000000001,\n",
       "  1.125],\n",
       " [1.125,\n",
       "  0.9000000000000001,\n",
       "  0.9000000000000001,\n",
       "  1.0125,\n",
       "  1.0125,\n",
       "  1.0125000000000002,\n",
       "  1.0125,\n",
       "  1.0125000000000002,\n",
       "  1.0125,\n",
       "  0.9000000000000001,\n",
       "  0.9000000000000001],\n",
       " [0.9000000000000001,\n",
       "  0.9000000000000001,\n",
       "  0.9000000000000001,\n",
       "  0.9562499999999999,\n",
       "  0.9000000000000001,\n",
       "  0.9000000000000001,\n",
       "  0.95625,\n",
       "  0.9000000000000002,\n",
       "  0.9000000000000001,\n",
       "  0.9000000000000001,\n",
       "  0.9000000000000001],\n",
       " [0.9000000000000001,\n",
       "  0.9000000000000001,\n",
       "  0.9000000000000001,\n",
       "  0.9,\n",
       "  0.9,\n",
       "  0.9,\n",
       "  0.9,\n",
       "  0.9,\n",
       "  0.9,\n",
       "  0.9,\n",
       "  0.928125],\n",
       " [0.928125, 0.9, 0.9, 0.9, 0.9, 0.9, 0.9, 0.9, 0.9, 0.9, 0.9],\n",
       " [0.9,\n",
       "  0.9,\n",
       "  0.9,\n",
       "  0.9,\n",
       "  0.9,\n",
       "  0.8999999999999999,\n",
       "  0.8999999999999999,\n",
       "  0.8999999999999999,\n",
       "  0.9000000000000001,\n",
       "  0.90703125,\n",
       "  0.9000000000000001],\n",
       " [0.9000000000000001,\n",
       "  0.8999999999999999,\n",
       "  0.8929687500000001,\n",
       "  0.8999999999999999,\n",
       "  0.8929687500000001,\n",
       "  0.8964843749999999,\n",
       "  0.8929687500000001,\n",
       "  0.8929687500000001,\n",
       "  0.89296875,\n",
       "  0.89296875,\n",
       "  0.89296875],\n",
       " [0.89296875,\n",
       "  0.8929687499999999,\n",
       "  0.8929687499999999,\n",
       "  0.8912109375,\n",
       "  0.8912109375,\n",
       "  0.8912109375,\n",
       "  0.8912109375,\n",
       "  0.8912109375,\n",
       "  0.8912109375,\n",
       "  0.8912109375,\n",
       "  0.8912109375],\n",
       " [0.8912109375,\n",
       "  0.89033203125,\n",
       "  0.89033203125,\n",
       "  0.89033203125,\n",
       "  0.89033203125,\n",
       "  0.89033203125,\n",
       "  0.89033203125,\n",
       "  0.89033203125,\n",
       "  0.89033203125,\n",
       "  0.8894531250000001,\n",
       "  0.8894531250000001]]"
      ]
     },
     "execution_count": 15,
     "metadata": {},
     "output_type": "execute_result"
    }
   ],
   "source": [
    "results_method_2"
   ]
  },
  {
   "cell_type": "code",
   "execution_count": 16,
   "metadata": {},
   "outputs": [],
   "source": [
    "results_method_1 = np.array([gl.network_total_throughput(M_EPs, results_method_1[i], max_local_link_load) for i in range(len(results_method_1))])\n",
    "results_method_2 = np.array([gl.network_total_throughput(M_EPs, results_method_2[i][-1], max_local_link_load) for i in range(len(results_method_2))])\n",
    "OPTIMUM = 324.0  # Nexullance_OPT [GBps]"
   ]
  },
  {
   "cell_type": "code",
   "execution_count": 17,
   "metadata": {},
   "outputs": [
    {
     "data": {
      "text/plain": [
       "array([0.55555556, 0.55555556])"
      ]
     },
     "execution_count": 17,
     "metadata": {},
     "output_type": "execute_result"
    }
   ],
   "source": [
    "results_method_1/OPTIMUM"
   ]
  },
  {
   "cell_type": "code",
   "execution_count": 18,
   "metadata": {},
   "outputs": [
    {
     "data": {
      "text/plain": [
       "array([0.74074074, 0.88888889, 1.        , 1.        , 1.        ,\n",
       "       1.        , 1.        , 1.        , 1.        , 1.        ])"
      ]
     },
     "execution_count": 18,
     "metadata": {},
     "output_type": "execute_result"
    }
   ],
   "source": [
    "results_method_2/OPTIMUM"
   ]
  },
  {
   "cell_type": "code",
   "execution_count": null,
   "metadata": {},
   "outputs": [],
   "source": []
  }
 ],
 "metadata": {
  "kernelspec": {
   "display_name": "Python 3",
   "language": "python",
   "name": "python3"
  },
  "language_info": {
   "codemirror_mode": {
    "name": "ipython",
    "version": 3
   },
   "file_extension": ".py",
   "mimetype": "text/x-python",
   "name": "python",
   "nbconvert_exporter": "python",
   "pygments_lexer": "ipython3",
   "version": "3.8.5"
  }
 },
 "nbformat": 4,
 "nbformat_minor": 2
}
