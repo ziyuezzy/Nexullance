{
 "cells": [
  {
   "cell_type": "code",
   "execution_count": 1,
   "metadata": {},
   "outputs": [],
   "source": [
    "import sys\n",
    "sys.path.append('../')\n",
    "import nexullance.LP_optimal as LP_optimal\n",
    "# import nexullance.LP_gurobi as LP_MP\n",
    "import topologies.Slimfly as Slimfly\n",
    "import globals as gl\n",
    "import time\n",
    "import tracemalloc\n",
    "from statistics import mean\n",
    "import networkx as nx\n",
    "import pynauty as nauty"
   ]
  },
  {
   "cell_type": "code",
   "execution_count": 2,
   "metadata": {},
   "outputs": [],
   "source": [
    "config = (32, 6)\n",
    "topo_name='slimfly'\n",
    "EPR=config[1]//2\n",
    "_network = Slimfly.Slimflytopo(config[0], config[1])\n",
    "V=config[0]\n",
    "assert(V==_network.nx_graph.number_of_nodes())\n",
    "network_edges=list(_network.nx_graph.edges())"
   ]
  },
  {
   "cell_type": "code",
   "execution_count": 3,
   "metadata": {},
   "outputs": [],
   "source": [
    "p2p_TM=gl.generate_shift_traffic_pattern(config[0], EPR)\n",
    "R2R_TM=gl.convert_p2p_traffic_matrix_to_R2R(p2p_TM, config[0], EPR)"
   ]
  },
  {
   "cell_type": "code",
   "execution_count": 4,
   "metadata": {},
   "outputs": [],
   "source": [
    "#initialize adjacency dict to that of G_1\n",
    "G_adjacency_dict={n: list(nbrdict.keys()) for n, nbrdict in _network.nx_graph.adjacency()}\n",
    "vertex_weight={} #first a dictionary of vertex weights, later converted to a list of sets\n",
    "G_2_edges=0\n",
    "for i in range(V):\n",
    "    for j in range(V):\n",
    "        if R2R_TM[i][j] > 0:\n",
    "            new_v_id=V+G_2_edges\n",
    "            G_adjacency_dict[new_v_id]=[i]\n",
    "            G_adjacency_dict[j].append(new_v_id)\n",
    "            if R2R_TM[i][j] in vertex_weight.keys():\n",
    "                assert(new_v_id not in vertex_weight[R2R_TM[i][j]])\n",
    "                vertex_weight[R2R_TM[i][j]].append(new_v_id)\n",
    "            else:\n",
    "                vertex_weight[R2R_TM[i][j]]=[new_v_id]\n",
    "            G_2_edges+=1\n",
    "\n",
    "# convert vertex weight dict to a list of color sets\n",
    "G_color_sets=[]\n",
    "for color_set in vertex_weight.values():\n",
    "    G_color_sets.append(set(color_set))"
   ]
  },
  {
   "cell_type": "code",
   "execution_count": 5,
   "metadata": {},
   "outputs": [],
   "source": [
    "G=nauty.Graph(V+G_2_edges, directed=True, adjacency_dict=G_adjacency_dict, vertex_coloring=G_color_sets)"
   ]
  },
  {
   "cell_type": "code",
   "execution_count": 6,
   "metadata": {},
   "outputs": [
    {
     "name": "stdout",
     "output_type": "stream",
     "text": [
      "Generators of the automorphism group:\n",
      "[[1, 0, 3, 2, 5, 4, 7, 6, 9, 8, 11, 10, 13, 12, 15, 14, 17, 16, 19, 18, 21, 20, 23, 22, 25, 24, 27, 26, 29, 28, 31, 30, 33, 32, 35, 34, 37, 36, 39, 38, 41, 40, 43, 42, 45, 44, 47, 46, 49, 48, 51, 50, 53, 52, 55, 54, 57, 56, 59, 58, 61, 60, 63, 62], [2, 3, 0, 1, 6, 7, 4, 5, 10, 11, 8, 9, 14, 15, 12, 13, 18, 19, 16, 17, 22, 23, 20, 21, 26, 27, 24, 25, 30, 31, 28, 29, 34, 35, 32, 33, 38, 39, 36, 37, 42, 43, 40, 41, 46, 47, 44, 45, 50, 51, 48, 49, 54, 55, 52, 53, 58, 59, 56, 57, 62, 63, 60, 61], [16, 17, 19, 18, 20, 21, 23, 22, 28, 29, 31, 30, 24, 25, 27, 26, 0, 1, 3, 2, 4, 5, 7, 6, 12, 13, 15, 14, 8, 9, 11, 10, 48, 49, 51, 50, 52, 53, 55, 54, 60, 61, 63, 62, 56, 57, 59, 58, 32, 33, 35, 34, 36, 37, 39, 38, 44, 45, 47, 46, 40, 41, 43, 42]]\n",
      "Size of the generator set: 3\n",
      "Size (order) of the automorphism group: 8.0\n",
      "Orbits of the vertices: [0, 0, 0, 0, 4, 4, 4, 4, 8, 8, 8, 8, 12, 12, 12, 12, 0, 0, 0, 0, 4, 4, 4, 4, 12, 12, 12, 12, 8, 8, 8, 8, 32, 32, 32, 32, 36, 36, 36, 36, 40, 40, 40, 40, 44, 44, 44, 44, 32, 32, 32, 32, 36, 36, 36, 36, 44, 44, 44, 44, 40, 40, 40, 40]\n",
      "Number of orbits: 8\n"
     ]
    }
   ],
   "source": [
    "gen_set=gl.nauty_autgrp_verbose(G, _verbose=True)"
   ]
  },
  {
   "cell_type": "code",
   "execution_count": 7,
   "metadata": {},
   "outputs": [],
   "source": [
    "# apply automorphism on a vector\n",
    "def apply_automorphism(vector, automorphism):\n",
    "    new_vector=[]\n",
    "    for v in vector:\n",
    "        new_vector.append(automorphism[v])\n",
    "    return new_vector\n",
    "        \n",
    "\n",
    "# find representative vector by the automorphism group\n",
    "def representative_vector(vectors, generator_set):\n",
    "    # inputs: \n",
    "    # 1. vectors: a list of vectors of the same size '_n', each vector is in the space of V^n, V is the number of vertices in G_1\n",
    "    # 2. generator: generator set of the automorphism group\n",
    "    num_vectors=len(vectors)\n",
    "    _n=len(vectors[0])\n",
    "\n",
    "    # outputs:\n",
    "    # 1. representative vectors\n",
    "    # 2. the exact automorphisms that maps all vectors to their representatives\n",
    "    rep_vectors_to_all={} # keys: representative vectors, values: represented vectors\n",
    "\n",
    "    # initialzing necessary data structures:\n",
    "    orbit=set()\n",
    "    checked_vectors=set()\n",
    "\n",
    "    # start of the algorithm:\n",
    "    for vector in vectors:\n",
    "        if tuple(vector) in checked_vectors:\n",
    "            continue\n",
    "        representative=tuple(vector)\n",
    "        rep_vectors_to_all[representative]=[]\n",
    "        orbit.add(tuple(vector))\n",
    "        while len(orbit)>0:\n",
    "            _v=orbit.pop()\n",
    "            checked_vectors.add(_v)\n",
    "            for gen in generator_set:\n",
    "                _w=apply_automorphism(_v, gen)\n",
    "                if tuple(_w) not in checked_vectors:\n",
    "                    orbit.add(tuple(_w))\n",
    "                    rep_vectors_to_all[representative].append(_w)\n",
    "\n",
    "    return rep_vectors_to_all\n",
    "\n"
   ]
  },
  {
   "cell_type": "code",
   "execution_count": 8,
   "metadata": {},
   "outputs": [],
   "source": [
    "vectors=[]\n",
    "for s in range(V):\n",
    "    for d in range(V):\n",
    "        for (i, j) in network_edges:\n",
    "            vectors.append([s, d, i, j])\n",
    "            vectors.append([s, d, j, i])"
   ]
  },
  {
   "cell_type": "code",
   "execution_count": 9,
   "metadata": {},
   "outputs": [
    {
     "data": {
      "text/plain": [
       "196608"
      ]
     },
     "execution_count": 9,
     "metadata": {},
     "output_type": "execute_result"
    }
   ],
   "source": [
    "len(vectors)"
   ]
  },
  {
   "cell_type": "code",
   "execution_count": 10,
   "metadata": {},
   "outputs": [],
   "source": [
    "representative_dict=representative_vector(vectors, gen_set)"
   ]
  },
  {
   "cell_type": "code",
   "execution_count": 11,
   "metadata": {},
   "outputs": [
    {
     "data": {
      "text/plain": [
       "24576"
      ]
     },
     "execution_count": 11,
     "metadata": {},
     "output_type": "execute_result"
    }
   ],
   "source": [
    "len(representative_dict)"
   ]
  },
  {
   "cell_type": "code",
   "execution_count": 12,
   "metadata": {},
   "outputs": [
    {
     "data": {
      "text/plain": [
       "0.125"
      ]
     },
     "execution_count": 12,
     "metadata": {},
     "output_type": "execute_result"
    }
   ],
   "source": [
    "len(representative_dict)/len(vectors)"
   ]
  },
  {
   "cell_type": "code",
   "execution_count": null,
   "metadata": {},
   "outputs": [],
   "source": []
  }
 ],
 "metadata": {
  "kernelspec": {
   "display_name": "Python 3",
   "language": "python",
   "name": "python3"
  },
  "language_info": {
   "codemirror_mode": {
    "name": "ipython",
    "version": 3
   },
   "file_extension": ".py",
   "mimetype": "text/x-python",
   "name": "python",
   "nbconvert_exporter": "python",
   "pygments_lexer": "ipython3",
   "version": "3.8.5"
  }
 },
 "nbformat": 4,
 "nbformat_minor": 2
}
