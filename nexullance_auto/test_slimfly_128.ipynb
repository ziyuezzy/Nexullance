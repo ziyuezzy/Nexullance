{
 "cells": [
  {
   "cell_type": "code",
   "execution_count": 1,
   "metadata": {},
   "outputs": [],
   "source": [
    "import sys\n",
    "sys.path.append('../')\n",
    "import nexullance.LP_optimal as LP_optimal\n",
    "# import nexullance.LP_gurobi as LP_MP\n",
    "import topologies.Slimfly as Slimfly\n",
    "import globals as gl\n",
    "import time\n",
    "import tracemalloc\n",
    "from statistics import mean\n",
    "import networkx as nx\n",
    "import pynauty as nauty"
   ]
  },
  {
   "cell_type": "code",
   "execution_count": 2,
   "metadata": {},
   "outputs": [],
   "source": [
    "config = (128, 12)\n",
    "topo_name='slimfly'\n",
    "EPR=config[1]//2\n",
    "_network = Slimfly.Slimflytopo(config[0], config[1])\n",
    "V=config[0]\n",
    "assert(V==_network.nx_graph.number_of_nodes())\n",
    "network_edges=list(_network.nx_graph.edges())"
   ]
  },
  {
   "cell_type": "code",
   "execution_count": 3,
   "metadata": {},
   "outputs": [],
   "source": [
    "p2p_TM=gl.generate_shift_traffic_pattern(config[0], EPR)\n",
    "R2R_TM=gl.convert_p2p_traffic_matrix_to_R2R(p2p_TM, config[0], EPR)"
   ]
  },
  {
   "cell_type": "code",
   "execution_count": 4,
   "metadata": {},
   "outputs": [],
   "source": [
    "#initialize adjacency dict to that of G_1\n",
    "G_adjacency_dict={n: list(nbrdict.keys()) for n, nbrdict in _network.nx_graph.adjacency()}\n",
    "vertex_weight={} #first a dictionary of vertex weights, later converted to a list of sets\n",
    "G_2_edges=0\n",
    "for i in range(V):\n",
    "    for j in range(V):\n",
    "        if R2R_TM[i][j] > 0:\n",
    "            new_v_id=V+G_2_edges\n",
    "            G_adjacency_dict[new_v_id]=[i]\n",
    "            G_adjacency_dict[j].append(new_v_id)\n",
    "            if R2R_TM[i][j] in vertex_weight.keys():\n",
    "                assert(new_v_id not in vertex_weight[R2R_TM[i][j]])\n",
    "                vertex_weight[R2R_TM[i][j]].append(new_v_id)\n",
    "            else:\n",
    "                vertex_weight[R2R_TM[i][j]]=[new_v_id]\n",
    "            G_2_edges+=1\n",
    "\n",
    "# convert vertex weight dict to a list of color sets\n",
    "G_color_sets=[]\n",
    "for color_set in vertex_weight.values():\n",
    "    G_color_sets.append(set(color_set))"
   ]
  },
  {
   "cell_type": "code",
   "execution_count": 5,
   "metadata": {},
   "outputs": [],
   "source": [
    "G=nauty.Graph(V+G_2_edges, directed=True, adjacency_dict=G_adjacency_dict, vertex_coloring=G_color_sets)"
   ]
  },
  {
   "cell_type": "code",
   "execution_count": 6,
   "metadata": {},
   "outputs": [
    {
     "name": "stdout",
     "output_type": "stream",
     "text": [
      "Generators of the automorphism group:\n",
      "[[1, 0, 3, 2, 5, 4, 7, 6, 9, 8, 11, 10, 13, 12, 15, 14, 17, 16, 19, 18, 21, 20, 23, 22, 25, 24, 27, 26, 29, 28, 31, 30, 33, 32, 35, 34, 37, 36, 39, 38, 41, 40, 43, 42, 45, 44, 47, 46, 49, 48, 51, 50, 53, 52, 55, 54, 57, 56, 59, 58, 61, 60, 63, 62, 65, 64, 67, 66, 69, 68, 71, 70, 73, 72, 75, 74, 77, 76, 79, 78, 81, 80, 83, 82, 85, 84, 87, 86, 89, 88, 91, 90, 93, 92, 95, 94, 97, 96, 99, 98, 101, 100, 103, 102, 105, 104, 107, 106, 109, 108, 111, 110, 113, 112, 115, 114, 117, 116, 119, 118, 121, 120, 123, 122, 125, 124, 127, 126, 129, 128, 131, 130, 133, 132, 135, 134, 137, 136, 139, 138, 141, 140, 143, 142, 145, 144, 147, 146, 149, 148, 151, 150, 153, 152, 155, 154, 157, 156, 159, 158, 161, 160, 163, 162, 165, 164, 167, 166, 169, 168, 171, 170, 173, 172, 175, 174, 177, 176, 179, 178, 181, 180, 183, 182, 185, 184, 187, 186, 189, 188, 191, 190, 193, 192, 195, 194, 197, 196, 199, 198, 201, 200, 203, 202, 205, 204, 207, 206, 209, 208, 211, 210, 213, 212, 215, 214, 217, 216, 219, 218, 221, 220, 223, 222, 225, 224, 227, 226, 229, 228, 231, 230, 233, 232, 235, 234, 237, 236, 239, 238, 241, 240, 243, 242, 245, 244, 247, 246, 249, 248, 251, 250, 253, 252, 255, 254], [2, 3, 0, 1, 6, 7, 4, 5, 10, 11, 8, 9, 14, 15, 12, 13, 18, 19, 16, 17, 22, 23, 20, 21, 26, 27, 24, 25, 30, 31, 28, 29, 34, 35, 32, 33, 38, 39, 36, 37, 42, 43, 40, 41, 46, 47, 44, 45, 50, 51, 48, 49, 54, 55, 52, 53, 58, 59, 56, 57, 62, 63, 60, 61, 66, 67, 64, 65, 70, 71, 68, 69, 74, 75, 72, 73, 78, 79, 76, 77, 82, 83, 80, 81, 86, 87, 84, 85, 90, 91, 88, 89, 94, 95, 92, 93, 98, 99, 96, 97, 102, 103, 100, 101, 106, 107, 104, 105, 110, 111, 108, 109, 114, 115, 112, 113, 118, 119, 116, 117, 122, 123, 120, 121, 126, 127, 124, 125, 130, 131, 128, 129, 134, 135, 132, 133, 138, 139, 136, 137, 142, 143, 140, 141, 146, 147, 144, 145, 150, 151, 148, 149, 154, 155, 152, 153, 158, 159, 156, 157, 162, 163, 160, 161, 166, 167, 164, 165, 170, 171, 168, 169, 174, 175, 172, 173, 178, 179, 176, 177, 182, 183, 180, 181, 186, 187, 184, 185, 190, 191, 188, 189, 194, 195, 192, 193, 198, 199, 196, 197, 202, 203, 200, 201, 206, 207, 204, 205, 210, 211, 208, 209, 214, 215, 212, 213, 218, 219, 216, 217, 222, 223, 220, 221, 226, 227, 224, 225, 230, 231, 228, 229, 234, 235, 232, 233, 238, 239, 236, 237, 242, 243, 240, 241, 246, 247, 244, 245, 250, 251, 248, 249, 254, 255, 252, 253], [4, 5, 6, 7, 0, 1, 2, 3, 12, 13, 14, 15, 8, 9, 10, 11, 20, 21, 22, 23, 16, 17, 18, 19, 28, 29, 30, 31, 24, 25, 26, 27, 36, 37, 38, 39, 32, 33, 34, 35, 44, 45, 46, 47, 40, 41, 42, 43, 52, 53, 54, 55, 48, 49, 50, 51, 60, 61, 62, 63, 56, 57, 58, 59, 68, 69, 70, 71, 64, 65, 66, 67, 76, 77, 78, 79, 72, 73, 74, 75, 84, 85, 86, 87, 80, 81, 82, 83, 92, 93, 94, 95, 88, 89, 90, 91, 100, 101, 102, 103, 96, 97, 98, 99, 108, 109, 110, 111, 104, 105, 106, 107, 116, 117, 118, 119, 112, 113, 114, 115, 124, 125, 126, 127, 120, 121, 122, 123, 132, 133, 134, 135, 128, 129, 130, 131, 140, 141, 142, 143, 136, 137, 138, 139, 148, 149, 150, 151, 144, 145, 146, 147, 156, 157, 158, 159, 152, 153, 154, 155, 164, 165, 166, 167, 160, 161, 162, 163, 172, 173, 174, 175, 168, 169, 170, 171, 180, 181, 182, 183, 176, 177, 178, 179, 188, 189, 190, 191, 184, 185, 186, 187, 196, 197, 198, 199, 192, 193, 194, 195, 204, 205, 206, 207, 200, 201, 202, 203, 212, 213, 214, 215, 208, 209, 210, 211, 220, 221, 222, 223, 216, 217, 218, 219, 228, 229, 230, 231, 224, 225, 226, 227, 236, 237, 238, 239, 232, 233, 234, 235, 244, 245, 246, 247, 240, 241, 242, 243, 252, 253, 254, 255, 248, 249, 250, 251]]\n",
      "Size of the generator set: 3\n",
      "Size (order) of the automorphism group: 8.0\n",
      "Orbits of the vertices: [0, 0, 0, 0, 0, 0, 0, 0, 8, 8, 8, 8, 8, 8, 8, 8, 16, 16, 16, 16, 16, 16, 16, 16, 24, 24, 24, 24, 24, 24, 24, 24, 32, 32, 32, 32, 32, 32, 32, 32, 40, 40, 40, 40, 40, 40, 40, 40, 48, 48, 48, 48, 48, 48, 48, 48, 56, 56, 56, 56, 56, 56, 56, 56, 64, 64, 64, 64, 64, 64, 64, 64, 72, 72, 72, 72, 72, 72, 72, 72, 80, 80, 80, 80, 80, 80, 80, 80, 88, 88, 88, 88, 88, 88, 88, 88, 96, 96, 96, 96, 96, 96, 96, 96, 104, 104, 104, 104, 104, 104, 104, 104, 112, 112, 112, 112, 112, 112, 112, 112, 120, 120, 120, 120, 120, 120, 120, 120, 128, 128, 128, 128, 128, 128, 128, 128, 136, 136, 136, 136, 136, 136, 136, 136, 144, 144, 144, 144, 144, 144, 144, 144, 152, 152, 152, 152, 152, 152, 152, 152, 160, 160, 160, 160, 160, 160, 160, 160, 168, 168, 168, 168, 168, 168, 168, 168, 176, 176, 176, 176, 176, 176, 176, 176, 184, 184, 184, 184, 184, 184, 184, 184, 192, 192, 192, 192, 192, 192, 192, 192, 200, 200, 200, 200, 200, 200, 200, 200, 208, 208, 208, 208, 208, 208, 208, 208, 216, 216, 216, 216, 216, 216, 216, 216, 224, 224, 224, 224, 224, 224, 224, 224, 232, 232, 232, 232, 232, 232, 232, 232, 240, 240, 240, 240, 240, 240, 240, 240, 248, 248, 248, 248, 248, 248, 248, 248]\n",
      "Number of orbits: 32\n"
     ]
    }
   ],
   "source": [
    "gen_set=gl.nauty_autgrp_verbose(G, _verbose=True)"
   ]
  },
  {
   "cell_type": "code",
   "execution_count": 7,
   "metadata": {},
   "outputs": [],
   "source": [
    "# apply automorphism on a vector\n",
    "def apply_automorphism(vector, automorphism):\n",
    "    new_vector=[]\n",
    "    for v in vector:\n",
    "        new_vector.append(automorphism[v])\n",
    "    return new_vector\n",
    "        \n",
    "\n",
    "# find representative vector by the automorphism group\n",
    "def representative_vector(vectors, generator_set):\n",
    "    # inputs: \n",
    "    # 1. vectors: a list of vectors of the same size '_n', each vector is in the space of V^n, V is the number of vertices in G_1\n",
    "    # 2. generator: generator set of the automorphism group\n",
    "    num_vectors=len(vectors)\n",
    "    _n=len(vectors[0])\n",
    "\n",
    "    # outputs:\n",
    "    # 1. representative vectors\n",
    "    # 2. the exact automorphisms that maps all vectors to their representatives\n",
    "    rep_vectors_to_all={} # keys: representative vectors, values: represented vectors\n",
    "\n",
    "    # initialzing necessary data structures:\n",
    "    orbit=set()\n",
    "    checked_vectors=set()\n",
    "\n",
    "    # start of the algorithm:\n",
    "    for vector in vectors:\n",
    "        if tuple(vector) in checked_vectors:\n",
    "            continue\n",
    "        representative=tuple(vector)\n",
    "        rep_vectors_to_all[representative]=[]\n",
    "        orbit.add(tuple(vector))\n",
    "        while len(orbit)>0:\n",
    "            _v=orbit.pop()\n",
    "            checked_vectors.add(_v)\n",
    "            for gen in generator_set:\n",
    "                _w=apply_automorphism(_v, gen)\n",
    "                if tuple(_w) not in checked_vectors:\n",
    "                    orbit.add(tuple(_w))\n",
    "                    rep_vectors_to_all[representative].append(_w)\n",
    "\n",
    "    return rep_vectors_to_all\n",
    "\n"
   ]
  },
  {
   "cell_type": "code",
   "execution_count": 8,
   "metadata": {},
   "outputs": [],
   "source": [
    "vectors=[]\n",
    "for s in range(V):\n",
    "    for d in range(V):\n",
    "        for (i, j) in network_edges:\n",
    "            vectors.append([s, d, i, j])\n",
    "            vectors.append([s, d, j, i])"
   ]
  },
  {
   "cell_type": "code",
   "execution_count": 9,
   "metadata": {},
   "outputs": [
    {
     "data": {
      "text/plain": [
       "25165824"
      ]
     },
     "execution_count": 9,
     "metadata": {},
     "output_type": "execute_result"
    }
   ],
   "source": [
    "len(vectors)"
   ]
  },
  {
   "cell_type": "code",
   "execution_count": 10,
   "metadata": {},
   "outputs": [],
   "source": [
    "representative_dict=representative_vector(vectors, gen_set)"
   ]
  },
  {
   "cell_type": "code",
   "execution_count": 11,
   "metadata": {},
   "outputs": [
    {
     "data": {
      "text/plain": [
       "3145728"
      ]
     },
     "execution_count": 11,
     "metadata": {},
     "output_type": "execute_result"
    }
   ],
   "source": [
    "len(representative_dict)"
   ]
  },
  {
   "cell_type": "code",
   "execution_count": 12,
   "metadata": {},
   "outputs": [
    {
     "data": {
      "text/plain": [
       "0.125"
      ]
     },
     "execution_count": 12,
     "metadata": {},
     "output_type": "execute_result"
    }
   ],
   "source": [
    "len(representative_dict)/len(vectors)"
   ]
  },
  {
   "cell_type": "code",
   "execution_count": null,
   "metadata": {},
   "outputs": [],
   "source": []
  }
 ],
 "metadata": {
  "kernelspec": {
   "display_name": "Python 3",
   "language": "python",
   "name": "python3"
  },
  "language_info": {
   "codemirror_mode": {
    "name": "ipython",
    "version": 3
   },
   "file_extension": ".py",
   "mimetype": "text/x-python",
   "name": "python",
   "nbconvert_exporter": "python",
   "pygments_lexer": "ipython3",
   "version": "3.8.5"
  }
 },
 "nbformat": 4,
 "nbformat_minor": 2
}
