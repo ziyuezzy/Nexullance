{
 "cells": [
  {
   "cell_type": "code",
   "execution_count": 1,
   "metadata": {},
   "outputs": [],
   "source": [
    "import sys\n",
    "sys.path.append('../')\n",
    "import nexullance.LP_optimal as LP_optimal\n",
    "# import nexullance.LP_gurobi as LP_MP\n",
    "import topologies.DDF as DDF\n",
    "import globals as gl\n",
    "import time\n",
    "import tracemalloc\n",
    "from statistics import mean\n",
    "import networkx as nx\n",
    "import pynauty as nauty"
   ]
  },
  {
   "cell_type": "code",
   "execution_count": 2,
   "metadata": {},
   "outputs": [],
   "source": [
    "config = (36, 5)\n",
    "topo_name='ddf'\n",
    "EPR=(config[1]+1)//3\n",
    "_network = DDF.DDFtopo(config[0], config[1])\n",
    "V=config[0]\n",
    "assert(V==_network.nx_graph.number_of_nodes())\n",
    "network_edges=list(_network.nx_graph.edges())"
   ]
  },
  {
   "cell_type": "code",
   "execution_count": 3,
   "metadata": {},
   "outputs": [],
   "source": [
    "p2p_TM=gl.generate_shift_traffic_pattern(config[0], EPR)\n",
    "R2R_TM=gl.convert_p2p_traffic_matrix_to_R2R(p2p_TM, config[0], EPR)"
   ]
  },
  {
   "cell_type": "code",
   "execution_count": 4,
   "metadata": {},
   "outputs": [],
   "source": [
    "#initialize adjacency dict to that of G_1\n",
    "G_adjacency_dict={n: list(nbrdict.keys()) for n, nbrdict in _network.nx_graph.adjacency()}\n",
    "vertex_weight={} #first a dictionary of vertex weights, later converted to a list of sets\n",
    "G_2_edges=0\n",
    "for i in range(V):\n",
    "    for j in range(V):\n",
    "        if R2R_TM[i][j] > 0:\n",
    "            new_v_id=V+G_2_edges\n",
    "            G_adjacency_dict[new_v_id]=[i]\n",
    "            G_adjacency_dict[j].append(new_v_id)\n",
    "            if R2R_TM[i][j] in vertex_weight.keys():\n",
    "                assert(new_v_id not in vertex_weight[R2R_TM[i][j]])\n",
    "                vertex_weight[R2R_TM[i][j]].append(new_v_id)\n",
    "            else:\n",
    "                vertex_weight[R2R_TM[i][j]]=[new_v_id]\n",
    "            G_2_edges+=1\n",
    "\n",
    "# convert vertex weight dict to a list of color sets\n",
    "G_color_sets=[]\n",
    "for color_set in vertex_weight.values():\n",
    "    G_color_sets.append(set(color_set))"
   ]
  },
  {
   "cell_type": "code",
   "execution_count": 5,
   "metadata": {},
   "outputs": [],
   "source": [
    "G=nauty.Graph(V+G_2_edges, directed=True, adjacency_dict=G_adjacency_dict, vertex_coloring=G_color_sets)"
   ]
  },
  {
   "cell_type": "code",
   "execution_count": 6,
   "metadata": {},
   "outputs": [
    {
     "name": "stdout",
     "output_type": "stream",
     "text": [
      "Generators of the automorphism group:\n",
      "[[35, 34, 33, 32, 31, 30, 29, 28, 27, 26, 25, 24, 23, 22, 21, 20, 19, 18, 17, 16, 15, 14, 13, 12, 11, 10, 9, 8, 7, 6, 5, 4, 3, 2, 1, 0, 71, 70, 69, 68, 67, 66, 65, 64, 63, 62, 61, 60, 59, 58, 57, 56, 55, 54, 53, 52, 51, 50, 49, 48, 47, 46, 45, 44, 43, 42, 41, 40, 39, 38, 37, 36]]\n",
      "Size of the generator set: 1\n",
      "Size (order) of the automorphism group: 2.0\n",
      "Orbits of the vertices: [0, 1, 2, 3, 4, 5, 6, 7, 8, 9, 10, 11, 12, 13, 14, 15, 16, 17, 17, 16, 15, 14, 13, 12, 11, 10, 9, 8, 7, 6, 5, 4, 3, 2, 1, 0, 36, 37, 38, 39, 40, 41, 42, 43, 44, 45, 46, 47, 48, 49, 50, 51, 52, 53, 53, 52, 51, 50, 49, 48, 47, 46, 45, 44, 43, 42, 41, 40, 39, 38, 37, 36]\n",
      "Number of orbits: 36\n"
     ]
    }
   ],
   "source": [
    "gen_set=gl.nauty_autgrp_verbose(G, _verbose=True)"
   ]
  },
  {
   "cell_type": "code",
   "execution_count": 7,
   "metadata": {},
   "outputs": [],
   "source": [
    "# apply automorphism on a vector\n",
    "def apply_automorphism(vector, automorphism):\n",
    "    new_vector=[]\n",
    "    for v in vector:\n",
    "        new_vector.append(automorphism[v])\n",
    "    return new_vector\n",
    "        \n",
    "\n",
    "# find representative vector by the automorphism group\n",
    "def representative_vector(vectors, generator_set):\n",
    "    # inputs: \n",
    "    # 1. vectors: a list of vectors of the same size '_n', each vector is in the space of V^n, V is the number of vertices in G_1\n",
    "    # 2. generator: generator set of the automorphism group\n",
    "    num_vectors=len(vectors)\n",
    "    _n=len(vectors[0])\n",
    "\n",
    "    # outputs:\n",
    "    # 1. representative vectors\n",
    "    # 2. the exact automorphisms that maps all vectors to their representatives\n",
    "    rep_vectors_to_all={} # keys: representative vectors, values: represented vectors\n",
    "\n",
    "    # initialzing necessary data structures:\n",
    "    orbit=set()\n",
    "    checked_vectors=set()\n",
    "\n",
    "    # start of the algorithm:\n",
    "    for vector in vectors:\n",
    "        if tuple(vector) in checked_vectors:\n",
    "            continue\n",
    "        representative=tuple(vector)\n",
    "        rep_vectors_to_all[representative]=[]\n",
    "        orbit.add(tuple(vector))\n",
    "        while len(orbit)>0:\n",
    "            _v=orbit.pop()\n",
    "            checked_vectors.add(_v)\n",
    "            for gen in generator_set:\n",
    "                _w=apply_automorphism(_v, gen)\n",
    "                if tuple(_w) not in checked_vectors:\n",
    "                    orbit.add(tuple(_w))\n",
    "                    rep_vectors_to_all[representative].append(_w)\n",
    "\n",
    "    return rep_vectors_to_all\n",
    "\n"
   ]
  },
  {
   "cell_type": "code",
   "execution_count": 8,
   "metadata": {},
   "outputs": [],
   "source": [
    "vectors=[]\n",
    "for s in range(V):\n",
    "    for d in range(V):\n",
    "        for (i, j) in network_edges:\n",
    "            vectors.append([s, d, i, j])\n",
    "            vectors.append([s, d, j, i])"
   ]
  },
  {
   "cell_type": "code",
   "execution_count": 9,
   "metadata": {},
   "outputs": [
    {
     "data": {
      "text/plain": [
       "233280"
      ]
     },
     "execution_count": 9,
     "metadata": {},
     "output_type": "execute_result"
    }
   ],
   "source": [
    "len(vectors)"
   ]
  },
  {
   "cell_type": "code",
   "execution_count": 10,
   "metadata": {},
   "outputs": [],
   "source": [
    "representative_dict=representative_vector(vectors, gen_set)"
   ]
  },
  {
   "cell_type": "code",
   "execution_count": 11,
   "metadata": {},
   "outputs": [
    {
     "data": {
      "text/plain": [
       "116640"
      ]
     },
     "execution_count": 11,
     "metadata": {},
     "output_type": "execute_result"
    }
   ],
   "source": [
    "len(representative_dict)"
   ]
  },
  {
   "cell_type": "code",
   "execution_count": 12,
   "metadata": {},
   "outputs": [
    {
     "data": {
      "text/plain": [
       "0.5"
      ]
     },
     "execution_count": 12,
     "metadata": {},
     "output_type": "execute_result"
    }
   ],
   "source": [
    "len(representative_dict)/len(vectors)"
   ]
  },
  {
   "cell_type": "code",
   "execution_count": null,
   "metadata": {},
   "outputs": [],
   "source": []
  }
 ],
 "metadata": {
  "kernelspec": {
   "display_name": "Python 3",
   "language": "python",
   "name": "python3"
  },
  "language_info": {
   "codemirror_mode": {
    "name": "ipython",
    "version": 3
   },
   "file_extension": ".py",
   "mimetype": "text/x-python",
   "name": "python",
   "nbconvert_exporter": "python",
   "pygments_lexer": "ipython3",
   "version": "3.8.5"
  }
 },
 "nbformat": 4,
 "nbformat_minor": 2
}
