{
 "cells": [
  {
   "cell_type": "code",
   "execution_count": 1,
   "metadata": {},
   "outputs": [],
   "source": [
    "import sys\n",
    "sys.path.append('../')\n",
    "import nexullance.LP_optimal as LP_optimal\n",
    "# import nexullance.LP_gurobi as LP_MP\n",
    "import topologies.Slimfly as Slimfly\n",
    "import globals as gl\n",
    "import time\n",
    "import tracemalloc\n",
    "from statistics import mean\n",
    "import networkx as nx\n",
    "import pynauty as nauty"
   ]
  },
  {
   "cell_type": "code",
   "execution_count": 2,
   "metadata": {},
   "outputs": [],
   "source": [
    "config = (98, 11)\n",
    "topo_name='slimfly'\n",
    "EPR=config[1]//2\n",
    "_network = Slimfly.Slimflytopo(config[0], config[1])\n",
    "V=config[0]\n",
    "assert(V==_network.nx_graph.number_of_nodes())\n",
    "network_edges=list(_network.nx_graph.edges())"
   ]
  },
  {
   "cell_type": "code",
   "execution_count": 3,
   "metadata": {},
   "outputs": [],
   "source": [
    "p2p_TM=gl.generate_shift_traffic_pattern(config[0], EPR)\n",
    "R2R_TM=gl.convert_p2p_traffic_matrix_to_R2R(p2p_TM, config[0], EPR)"
   ]
  },
  {
   "cell_type": "code",
   "execution_count": 4,
   "metadata": {},
   "outputs": [],
   "source": [
    "#initialize adjacency dict to that of G_1\n",
    "G_adjacency_dict={n: list(nbrdict.keys()) for n, nbrdict in _network.nx_graph.adjacency()}\n",
    "vertex_weight={} #first a dictionary of vertex weights, later converted to a list of sets\n",
    "G_2_edges=0\n",
    "for i in range(V):\n",
    "    for j in range(V):\n",
    "        if R2R_TM[i][j] > 0:\n",
    "            new_v_id=V+G_2_edges\n",
    "            G_adjacency_dict[new_v_id]=[i]\n",
    "            G_adjacency_dict[j].append(new_v_id)\n",
    "            if R2R_TM[i][j] in vertex_weight.keys():\n",
    "                assert(new_v_id not in vertex_weight[R2R_TM[i][j]])\n",
    "                vertex_weight[R2R_TM[i][j]].append(new_v_id)\n",
    "            else:\n",
    "                vertex_weight[R2R_TM[i][j]]=[new_v_id]\n",
    "            G_2_edges+=1\n",
    "\n",
    "# convert vertex weight dict to a list of color sets\n",
    "G_color_sets=[]\n",
    "for color_set in vertex_weight.values():\n",
    "    G_color_sets.append(set(color_set))"
   ]
  },
  {
   "cell_type": "code",
   "execution_count": 5,
   "metadata": {},
   "outputs": [],
   "source": [
    "G=nauty.Graph(V+G_2_edges, directed=True, adjacency_dict=G_adjacency_dict, vertex_coloring=G_color_sets)"
   ]
  },
  {
   "cell_type": "code",
   "execution_count": 6,
   "metadata": {},
   "outputs": [
    {
     "name": "stdout",
     "output_type": "stream",
     "text": [
      "Generators of the automorphism group:\n",
      "[[0, 1, 2, 3, 4, 5, 6, 42, 43, 44, 45, 46, 47, 48, 35, 36, 37, 38, 39, 40, 41, 28, 29, 30, 31, 32, 33, 34, 21, 22, 23, 24, 25, 26, 27, 14, 15, 16, 17, 18, 19, 20, 7, 8, 9, 10, 11, 12, 13, 49, 50, 51, 52, 53, 54, 55, 91, 92, 93, 94, 95, 96, 97, 84, 85, 86, 87, 88, 89, 90, 77, 78, 79, 80, 81, 82, 83, 70, 71, 72, 73, 74, 75, 76, 63, 64, 65, 66, 67, 68, 69, 56, 57, 58, 59, 60, 61, 62, 98, 99, 100, 101, 102, 103, 104, 140, 141, 142, 143, 144, 145, 146, 133, 134, 135, 136, 137, 138, 139, 126, 127, 128, 129, 130, 131, 132, 119, 120, 121, 122, 123, 124, 125, 112, 113, 114, 115, 116, 117, 118, 105, 106, 107, 108, 109, 110, 111, 147, 148, 149, 150, 151, 152, 153, 189, 190, 191, 192, 193, 194, 195, 182, 183, 184, 185, 186, 187, 188, 175, 176, 177, 178, 179, 180, 181, 168, 169, 170, 171, 172, 173, 174, 161, 162, 163, 164, 165, 166, 167, 154, 155, 156, 157, 158, 159, 160], [1, 2, 3, 4, 5, 6, 0, 8, 9, 10, 11, 12, 13, 7, 15, 16, 17, 18, 19, 20, 14, 22, 23, 24, 25, 26, 27, 21, 29, 30, 31, 32, 33, 34, 28, 36, 37, 38, 39, 40, 41, 35, 43, 44, 45, 46, 47, 48, 42, 50, 51, 52, 53, 54, 55, 49, 57, 58, 59, 60, 61, 62, 56, 64, 65, 66, 67, 68, 69, 63, 71, 72, 73, 74, 75, 76, 70, 78, 79, 80, 81, 82, 83, 77, 85, 86, 87, 88, 89, 90, 84, 92, 93, 94, 95, 96, 97, 91, 99, 100, 101, 102, 103, 104, 98, 106, 107, 108, 109, 110, 111, 105, 113, 114, 115, 116, 117, 118, 112, 120, 121, 122, 123, 124, 125, 119, 127, 128, 129, 130, 131, 132, 126, 134, 135, 136, 137, 138, 139, 133, 141, 142, 143, 144, 145, 146, 140, 148, 149, 150, 151, 152, 153, 147, 155, 156, 157, 158, 159, 160, 154, 162, 163, 164, 165, 166, 167, 161, 169, 170, 171, 172, 173, 174, 168, 176, 177, 178, 179, 180, 181, 175, 183, 184, 185, 186, 187, 188, 182, 190, 191, 192, 193, 194, 195, 189]]\n",
      "Size of the generator set: 2\n",
      "Size (order) of the automorphism group: 14.0\n",
      "Orbits of the vertices: [0, 0, 0, 0, 0, 0, 0, 7, 7, 7, 7, 7, 7, 7, 14, 14, 14, 14, 14, 14, 14, 21, 21, 21, 21, 21, 21, 21, 21, 21, 21, 21, 21, 21, 21, 14, 14, 14, 14, 14, 14, 14, 7, 7, 7, 7, 7, 7, 7, 49, 49, 49, 49, 49, 49, 49, 56, 56, 56, 56, 56, 56, 56, 63, 63, 63, 63, 63, 63, 63, 70, 70, 70, 70, 70, 70, 70, 70, 70, 70, 70, 70, 70, 70, 63, 63, 63, 63, 63, 63, 63, 56, 56, 56, 56, 56, 56, 56, 98, 98, 98, 98, 98, 98, 98, 105, 105, 105, 105, 105, 105, 105, 112, 112, 112, 112, 112, 112, 112, 119, 119, 119, 119, 119, 119, 119, 119, 119, 119, 119, 119, 119, 119, 112, 112, 112, 112, 112, 112, 112, 105, 105, 105, 105, 105, 105, 105, 147, 147, 147, 147, 147, 147, 147, 154, 154, 154, 154, 154, 154, 154, 161, 161, 161, 161, 161, 161, 161, 168, 168, 168, 168, 168, 168, 168, 168, 168, 168, 168, 168, 168, 168, 161, 161, 161, 161, 161, 161, 161, 154, 154, 154, 154, 154, 154, 154]\n",
      "Number of orbits: 16\n"
     ]
    }
   ],
   "source": [
    "gen_set=gl.nauty_autgrp_verbose(G, _verbose=True)"
   ]
  },
  {
   "cell_type": "code",
   "execution_count": 7,
   "metadata": {},
   "outputs": [],
   "source": [
    "# apply automorphism on a vector\n",
    "def apply_automorphism(vector, automorphism):\n",
    "    new_vector=[]\n",
    "    for v in vector:\n",
    "        new_vector.append(automorphism[v])\n",
    "    return new_vector\n",
    "        \n",
    "\n",
    "# find representative vector by the automorphism group\n",
    "def representative_vector(vectors, generator_set):\n",
    "    # inputs: \n",
    "    # 1. vectors: a list of vectors of the same size '_n', each vector is in the space of V^n, V is the number of vertices in G_1\n",
    "    # 2. generator: generator set of the automorphism group\n",
    "    num_vectors=len(vectors)\n",
    "    _n=len(vectors[0])\n",
    "\n",
    "    # outputs:\n",
    "    # 1. representative vectors\n",
    "    # 2. the exact automorphisms that maps all vectors to their representatives\n",
    "    rep_vectors_to_all={} # keys: representative vectors, values: represented vectors\n",
    "\n",
    "    # initialzing necessary data structures:\n",
    "    orbit=set()\n",
    "    checked_vectors=set()\n",
    "\n",
    "    # start of the algorithm:\n",
    "    for vector in vectors:\n",
    "        if tuple(vector) in checked_vectors:\n",
    "            continue\n",
    "        representative=tuple(vector)\n",
    "        rep_vectors_to_all[representative]=[]\n",
    "        orbit.add(tuple(vector))\n",
    "        while len(orbit)>0:\n",
    "            _v=orbit.pop()\n",
    "            checked_vectors.add(_v)\n",
    "            for gen in generator_set:\n",
    "                _w=apply_automorphism(_v, gen)\n",
    "                if tuple(_w) not in checked_vectors:\n",
    "                    orbit.add(tuple(_w))\n",
    "                    rep_vectors_to_all[representative].append(_w)\n",
    "\n",
    "    return rep_vectors_to_all\n",
    "\n"
   ]
  },
  {
   "cell_type": "code",
   "execution_count": 8,
   "metadata": {},
   "outputs": [],
   "source": [
    "vectors=[]\n",
    "for s in range(V):\n",
    "    for d in range(V):\n",
    "        for (i, j) in network_edges:\n",
    "            vectors.append([s, d, i, j])\n",
    "            vectors.append([s, d, j, i])"
   ]
  },
  {
   "cell_type": "code",
   "execution_count": 9,
   "metadata": {},
   "outputs": [
    {
     "data": {
      "text/plain": [
       "10353112"
      ]
     },
     "execution_count": 9,
     "metadata": {},
     "output_type": "execute_result"
    }
   ],
   "source": [
    "len(vectors)"
   ]
  },
  {
   "cell_type": "code",
   "execution_count": 10,
   "metadata": {},
   "outputs": [],
   "source": [
    "representative_dict=representative_vector(vectors, gen_set)"
   ]
  },
  {
   "cell_type": "code",
   "execution_count": 11,
   "metadata": {},
   "outputs": [
    {
     "data": {
      "text/plain": [
       "740488"
      ]
     },
     "execution_count": 11,
     "metadata": {},
     "output_type": "execute_result"
    }
   ],
   "source": [
    "len(representative_dict)"
   ]
  },
  {
   "cell_type": "code",
   "execution_count": 12,
   "metadata": {},
   "outputs": [
    {
     "data": {
      "text/plain": [
       "0.07152322895763129"
      ]
     },
     "execution_count": 12,
     "metadata": {},
     "output_type": "execute_result"
    }
   ],
   "source": [
    "len(representative_dict)/len(vectors)"
   ]
  },
  {
   "cell_type": "code",
   "execution_count": null,
   "metadata": {},
   "outputs": [],
   "source": []
  }
 ],
 "metadata": {
  "kernelspec": {
   "display_name": "Python 3",
   "language": "python",
   "name": "python3"
  },
  "language_info": {
   "codemirror_mode": {
    "name": "ipython",
    "version": 3
   },
   "file_extension": ".py",
   "mimetype": "text/x-python",
   "name": "python",
   "nbconvert_exporter": "python",
   "pygments_lexer": "ipython3",
   "version": "3.8.5"
  }
 },
 "nbformat": 4,
 "nbformat_minor": 2
}
