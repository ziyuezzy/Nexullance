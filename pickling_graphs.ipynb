{
 "cells": [
  {
   "cell_type": "code",
   "execution_count": 1,
   "metadata": {},
   "outputs": [],
   "source": [
    "import topologies.GDBG as GDBG\n",
    "import topologies.RRG as RRG\n",
    "import pickle"
   ]
  },
  {
   "cell_type": "code",
   "execution_count": 2,
   "metadata": {},
   "outputs": [
    {
     "name": "stdout",
     "output_type": "stream",
     "text": [
      "Calculating shortest paths in GDBG:\n"
     ]
    },
    {
     "name": "stdout",
     "output_type": "stream",
     "text": [
      "Progress: 4032/4032\n",
      "Calculation completed.\n",
      "Calculating shortest paths in RRG:\n",
      "Progress: 4032/4032\n",
      "Calculation completed.\n"
     ]
    }
   ],
   "source": [
    "GDBG.pickle_single_network(64,4,4)\n",
    "RRG.pickle_single_network(64,4,4)"
   ]
  },
  {
   "cell_type": "code",
   "execution_count": 3,
   "metadata": {},
   "outputs": [],
   "source": [
    "#To read the pickled data, use:\n",
    "num_vertices=64\n",
    "k=degree=4\n",
    "G = pickle.load(open('./pickled_data/GDBG_({},{}).pickle'.format(num_vertices, degree), 'rb'))"
   ]
  },
  {
   "cell_type": "code",
   "execution_count": null,
   "metadata": {},
   "outputs": [],
   "source": []
  }
 ],
 "metadata": {
  "kernelspec": {
   "display_name": "Python 3",
   "language": "python",
   "name": "python3"
  },
  "language_info": {
   "codemirror_mode": {
    "name": "ipython",
    "version": 3
   },
   "file_extension": ".py",
   "mimetype": "text/x-python",
   "name": "python",
   "nbconvert_exporter": "python",
   "pygments_lexer": "ipython3",
   "version": "3.8.2"
  },
  "orig_nbformat": 4
 },
 "nbformat": 4,
 "nbformat_minor": 2
}
