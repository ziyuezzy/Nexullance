{
 "cells": [
  {
   "cell_type": "code",
   "execution_count": 1,
   "metadata": {},
   "outputs": [],
   "source": [
    "import matplotlib.pyplot as plt\n",
    "import networkx as nx\n",
    "import topologies.Slimfly as Slimfly\n",
    "import topologies.DDF as DDF\n",
    "import topologies.Polarfly as Polarfly\n",
    "import math"
   ]
  },
  {
   "cell_type": "markdown",
   "metadata": {},
   "source": [
    "format for network configuration: (V, D)\n",
    "\n",
    "V = number of vertices (number of routers), \n",
    "\n",
    "D = number of degree in the inter-router graph (inter-router radix)"
   ]
  },
  {
   "cell_type": "markdown",
   "metadata": {},
   "source": [
    "# generating network topologies"
   ]
  },
  {
   "cell_type": "markdown",
   "metadata": {},
   "source": [
    "slimfly"
   ]
  },
  {
   "cell_type": "code",
   "execution_count": 2,
   "metadata": {},
   "outputs": [
    {
     "name": "stdout",
     "output_type": "stream",
     "text": [
      "Searching for slimfly configurations: (num_vertices, k'), Number of routers between 1 and 10000\n",
      "slimfly configuration found: q=3, delta=-1 (18, 5)\n",
      "slimfly configuration found: q=27, delta=-1 (1458, 41)\n",
      "slimfly configuration found: q=7, delta=-1 (98, 11)\n",
      "slimfly configuration found: q=11, delta=-1 (242, 17)\n",
      "slimfly configuration found: q=19, delta=-1 (722, 29)\n",
      "slimfly configuration found: q=23, delta=-1 (1058, 35)\n",
      "slimfly configuration found: q=31, delta=-1 (1922, 47)\n",
      "slimfly configuration found: q=43, delta=-1 (3698, 65)\n",
      "slimfly configuration found: q=47, delta=-1 (4418, 71)\n",
      "slimfly configuration found: q=59, delta=-1 (6962, 89)\n",
      "slimfly configuration found: q=67, delta=-1 (8978, 101)\n",
      "slimfly configuration found: q=4, delta=0 (32, 6)\n",
      "slimfly configuration found: q=8, delta=0 (128, 12)\n",
      "slimfly configuration found: q=16, delta=0 (512, 24)\n",
      "slimfly configuration found: q=32, delta=0 (2048, 48)\n",
      "slimfly configuration found: q=64, delta=0 (8192, 96)\n",
      "slimfly configuration found: q=9, delta=1 (162, 13)\n",
      "slimfly configuration found: q=5, delta=1 (50, 7)\n",
      "slimfly configuration found: q=25, delta=1 (1250, 37)\n",
      "slimfly configuration found: q=49, delta=1 (4802, 73)\n",
      "slimfly configuration found: q=13, delta=1 (338, 19)\n",
      "slimfly configuration found: q=17, delta=1 (578, 25)\n",
      "slimfly configuration found: q=29, delta=1 (1682, 43)\n",
      "slimfly configuration found: q=37, delta=1 (2738, 55)\n",
      "slimfly configuration found: q=41, delta=1 (3362, 61)\n",
      "slimfly configuration found: q=53, delta=1 (5618, 79)\n",
      "slimfly configuration found: q=61, delta=1 (7442, 91)\n"
     ]
    }
   ],
   "source": [
    "# list of prime number less than 100: 2, 3, 5, 7, 11, 13, 17, 19, 23, 29, 31, 37, 41, 43, 47, 53, 59, 61, 67, 71, 73, 79, 83, 89, 97 \n",
    "# This should be enough for finding all slimfly configurations with less than 20k nodes\n",
    "prime_numbers=[2, 3, 5, 7, 11, 13, 17, 19, 23, 29, 31, 37, 41, 43, 47, 53, 59, 61, 67, 71, 73, 79, 83, 89, 97,\n",
    "101, 103, 107, 109, 113, 127, 131, 137, 139, 149, 151, 157, 163, 167, 173, 179, 181, 191, 193, 197, 199\t]\n",
    "\n",
    "\n",
    "search_min=1  #lower bound of the search\n",
    "search_max=10000 #upper bound of the search\n",
    "print(f\"Searching for slimfly configurations: (num_vertices, k'), Number of routers between {search_min} and {search_max}\")\n",
    "\n",
    "SF_configs=[]\n",
    "for delta in [-1, 0, 1]:\n",
    "    for prime in prime_numbers:\n",
    "        power = 1\n",
    "        while(1):\n",
    "            q=pow(prime,power)\n",
    "            num_vertices=q**2*2\n",
    "            if(search_min >= num_vertices):\n",
    "                power+=1\n",
    "                continue\n",
    "            if(num_vertices <= search_max ):\n",
    "                if ((q-delta)%4==0):\n",
    "                    kp=int((3*q-delta)/2)\n",
    "                    print(f\"slimfly configuration found: q={q}, delta={delta} ({num_vertices}, {kp})\")\n",
    "                    SF_configs.append((num_vertices, kp))\n",
    "                power+=1\n",
    "            else:\n",
    "                break\n"
   ]
  },
  {
   "cell_type": "code",
   "execution_count": 3,
   "metadata": {},
   "outputs": [
    {
     "data": {
      "text/plain": [
       "[(18, 5),\n",
       " (32, 6),\n",
       " (50, 7),\n",
       " (98, 11),\n",
       " (128, 12),\n",
       " (162, 13),\n",
       " (242, 17),\n",
       " (338, 19),\n",
       " (512, 24),\n",
       " (578, 25),\n",
       " (722, 29),\n",
       " (1058, 35),\n",
       " (1250, 37),\n",
       " (1458, 41),\n",
       " (1682, 43),\n",
       " (1922, 47),\n",
       " (2048, 48),\n",
       " (2738, 55),\n",
       " (3362, 61),\n",
       " (3698, 65),\n",
       " (4418, 71),\n",
       " (4802, 73),\n",
       " (5618, 79),\n",
       " (6962, 89),\n",
       " (7442, 91),\n",
       " (8192, 96),\n",
       " (8978, 101)]"
      ]
     },
     "metadata": {},
     "output_type": "display_data"
    }
   ],
   "source": [
    "SF_configs.sort()\n",
    "display(SF_configs)"
   ]
  },
  {
   "cell_type": "markdown",
   "metadata": {},
   "source": [
    "DDF"
   ]
  },
  {
   "cell_type": "code",
   "execution_count": 4,
   "metadata": {},
   "outputs": [
    {
     "name": "stdout",
     "output_type": "stream",
     "text": [
      "Searching for Dally Dragonfly configurations: (num_vertices, k'), Number of routers between 0 and 10000\n",
      "DDF config found: (6, 2), (a=2, h=p=1, k=3 g=3, N=6)\n",
      "DDF config found: (36, 5), (a=4, h=p=2, k=7 g=9, N=72)\n",
      "DDF config found: (114, 8), (a=6, h=p=3, k=11 g=19, N=342)\n",
      "DDF config found: (264, 11), (a=8, h=p=4, k=15 g=33, N=1056)\n",
      "DDF config found: (510, 14), (a=10, h=p=5, k=19 g=51, N=2550)\n",
      "DDF config found: (876, 17), (a=12, h=p=6, k=23 g=73, N=5256)\n",
      "DDF config found: (1386, 20), (a=14, h=p=7, k=27 g=99, N=9702)\n",
      "DDF config found: (2064, 23), (a=16, h=p=8, k=31 g=129, N=16512)\n",
      "DDF config found: (2934, 26), (a=18, h=p=9, k=35 g=163, N=26406)\n",
      "DDF config found: (4020, 29), (a=20, h=p=10, k=39 g=201, N=40200)\n",
      "DDF config found: (5346, 32), (a=22, h=p=11, k=43 g=243, N=58806)\n",
      "DDF config found: (6936, 35), (a=24, h=p=12, k=47 g=289, N=83232)\n",
      "DDF config found: (8814, 38), (a=26, h=p=13, k=51 g=339, N=114582)\n"
     ]
    }
   ],
   "source": [
    "#DDF\n",
    "DDF_configs=[]\n",
    "search_min=0  #lower bound of the search\n",
    "search_max=10000 #upper bound of the search\n",
    "print(f\"Searching for Dally Dragonfly configurations: (num_vertices, k'), Number of routers between {search_min} and {search_max}\")\n",
    "a=0\n",
    "\n",
    "while 1:\n",
    "    a+=2\n",
    "    h=a//2\n",
    "    p=a//2\n",
    "    k=a+p+h-1\n",
    "    g=a*h+1\n",
    "    R=a*g\n",
    "    if R<search_min:\n",
    "        continue\n",
    "    elif R>search_max:\n",
    "        break\n",
    "    else:\n",
    "        print(f\"DDF config found: ({R}, {k-p}), (a={a}, h=p={h}, k={k} g={g}, N={R*p})\")\n",
    "        DDF_configs.append((R, k-p))\n",
    "\n"
   ]
  },
  {
   "cell_type": "code",
   "execution_count": 5,
   "metadata": {},
   "outputs": [
    {
     "data": {
      "text/plain": [
       "[(6, 2),\n",
       " (36, 5),\n",
       " (114, 8),\n",
       " (264, 11),\n",
       " (510, 14),\n",
       " (876, 17),\n",
       " (1386, 20),\n",
       " (2064, 23),\n",
       " (2934, 26),\n",
       " (4020, 29),\n",
       " (5346, 32),\n",
       " (6936, 35),\n",
       " (8814, 38)]"
      ]
     },
     "metadata": {},
     "output_type": "display_data"
    }
   ],
   "source": [
    "DDF_configs.sort()\n",
    "display(DDF_configs)"
   ]
  },
  {
   "cell_type": "markdown",
   "metadata": {},
   "source": [
    "polarfly"
   ]
  },
  {
   "cell_type": "code",
   "execution_count": 6,
   "metadata": {},
   "outputs": [],
   "source": [
    "q_candidates = [2, 3, 4, 5, 7, 8, 9, 11, 13, 16, 17, 19, 23, 25, 27, 29, 31, 32, 37, 41, 43, 47, 49, \n",
    "                53, 59, 61, 64, 67, 71, 73, 79, 81, 83, 89, 97, 101, 103, 107, 109, 113, 121, 125, 127, \n",
    "                128, 131, 137, 139, 149, 151, 157, 163, 167, 169, 173, 179, 181, 191, 193, 197, 199, 211, \n",
    "                223, 227, 229, 233, 239, 241, 243, 251]\n",
    "\n",
    "PF_configs=[]\n",
    "for q in q_candidates:\n",
    "    V = (3+(1+2*q)**2)//4\n",
    "    D = q+1\n",
    "    PF_configs.append((V,D))\n"
   ]
  },
  {
   "cell_type": "code",
   "execution_count": 7,
   "metadata": {},
   "outputs": [
    {
     "data": {
      "text/plain": [
       "[(7, 3),\n",
       " (13, 4),\n",
       " (21, 5),\n",
       " (31, 6),\n",
       " (57, 8),\n",
       " (73, 9),\n",
       " (91, 10),\n",
       " (133, 12),\n",
       " (183, 14),\n",
       " (273, 17),\n",
       " (307, 18),\n",
       " (381, 20),\n",
       " (553, 24),\n",
       " (651, 26),\n",
       " (757, 28),\n",
       " (871, 30),\n",
       " (993, 32),\n",
       " (1057, 33),\n",
       " (1407, 38),\n",
       " (1723, 42),\n",
       " (1893, 44),\n",
       " (2257, 48),\n",
       " (2451, 50),\n",
       " (2863, 54),\n",
       " (3541, 60),\n",
       " (3783, 62),\n",
       " (4161, 65),\n",
       " (4557, 68),\n",
       " (5113, 72),\n",
       " (5403, 74),\n",
       " (6321, 80),\n",
       " (6643, 82),\n",
       " (6973, 84),\n",
       " (8011, 90),\n",
       " (9507, 98),\n",
       " (10303, 102),\n",
       " (10713, 104),\n",
       " (11557, 108),\n",
       " (11991, 110),\n",
       " (12883, 114),\n",
       " (14763, 122),\n",
       " (15751, 126),\n",
       " (16257, 128),\n",
       " (16513, 129),\n",
       " (17293, 132),\n",
       " (18907, 138),\n",
       " (19461, 140),\n",
       " (22351, 150),\n",
       " (22953, 152),\n",
       " (24807, 158),\n",
       " (26733, 164),\n",
       " (28057, 168),\n",
       " (28731, 170),\n",
       " (30103, 174),\n",
       " (32221, 180),\n",
       " (32943, 182),\n",
       " (36673, 192),\n",
       " (37443, 194),\n",
       " (39007, 198),\n",
       " (39801, 200),\n",
       " (44733, 212),\n",
       " (49953, 224),\n",
       " (51757, 228),\n",
       " (52671, 230),\n",
       " (54523, 234),\n",
       " (57361, 240),\n",
       " (58323, 242),\n",
       " (59293, 244),\n",
       " (63253, 252)]"
      ]
     },
     "metadata": {},
     "output_type": "display_data"
    }
   ],
   "source": [
    "PF_configs.sort()\n",
    "display(PF_configs)"
   ]
  },
  {
   "cell_type": "markdown",
   "metadata": {},
   "source": [
    "# comparing the scalability of topologies"
   ]
  },
  {
   "cell_type": "code",
   "execution_count": 13,
   "metadata": {},
   "outputs": [
    {
     "data": {
      "image/png": "[encoded data removed]",
      "text/plain": [
       "<Figure size 640x480 with 1 Axes>"
      ]
     },
     "metadata": {},
     "output_type": "display_data"
    }
   ],
   "source": [
    "plt.scatter([config[1] for config in SF_configs]\n",
    "            , [config[0] for config in SF_configs], label='slimfly')\n",
    "            \n",
    "plt.scatter([config[1] for config in DDF_configs]\n",
    "            , [config[0] for config in DDF_configs], label='DDF')\n",
    "\n",
    "plt.scatter([config[1] for config in PF_configs]\n",
    "            , [config[0] for config in PF_configs], label='Polarfly')\n",
    "\n",
    "\n",
    "# Add labels and title\n",
    "plt.xlabel('Routers radix d')\n",
    "plt.ylabel('Number of routers {R}')\n",
    "plt.title('network topology scalability')\n",
    "plt.legend(loc='upper left')\n",
    "plt.ylim(0, 10000)\n",
    "plt.xlim(0, 120)\n",
    "# plt.yscale(\"log\")\n",
    "plt.show()"
   ]
  },
  {
   "cell_type": "code",
   "execution_count": 14,
   "metadata": {},
   "outputs": [
    {
     "data": {
      "image/png": "[encoded data removed]",
      "text/plain": [
       "<Figure size 640x480 with 1 Axes>"
      ]
     },
     "metadata": {},
     "output_type": "display_data"
    }
   ],
   "source": [
    "plt.scatter([config[0] for config in SF_configs]\n",
    "            , [config[1] for config in SF_configs], label='slimfly')\n",
    "            \n",
    "plt.scatter([config[0] for config in DDF_configs]\n",
    "            , [config[1] for config in DDF_configs], label='DDF')\n",
    "\n",
    "plt.scatter([config[0] for config in PF_configs]\n",
    "            , [config[1] for config in PF_configs], label='Polarfly')\n",
    "\n",
    "\n",
    "# Add labels and title\n",
    "plt.ylabel('Routers radix d')\n",
    "plt.xlabel('Number of routers {R}')\n",
    "plt.title('network topology scalability')\n",
    "plt.legend(loc='upper left')\n",
    "plt.xlim(0, 10000)\n",
    "plt.ylim(0, 120)\n",
    "# plt.yscale(\"log\")\n",
    "plt.show()"
   ]
  },
  {
   "cell_type": "code",
   "execution_count": 10,
   "metadata": {},
   "outputs": [],
   "source": [
    "# ddf=DDF.DDFtopo(36,5)\n",
    "# G=ddf.nx_graph\n",
    "\n",
    "# # Draw the graph\n",
    "# pos = nx.circular_layout(G)\n",
    "# nx.draw(G, pos, with_labels=True, node_size=100, node_color='lightblue', font_size=10, font_weight='bold')\n",
    "# plt.title(\"Dally-Dragonfly Network Topology\")\n",
    "# plt.show()"
   ]
  },
  {
   "cell_type": "code",
   "execution_count": null,
   "metadata": {},
   "outputs": [],
   "source": []
  }
 ],
 "metadata": {
  "kernelspec": {
   "display_name": "Python 3",
   "language": "python",
   "name": "python3"
  },
  "language_info": {
   "codemirror_mode": {
    "name": "ipython",
    "version": 3
   },
   "file_extension": ".py",
   "mimetype": "text/x-python",
   "name": "python",
   "nbconvert_exporter": "python",
   "pygments_lexer": "ipython3",
   "version": "3.1.undefined"
  },
  "orig_nbformat": 4
 },
 "nbformat": 4,
 "nbformat_minor": 2
}
