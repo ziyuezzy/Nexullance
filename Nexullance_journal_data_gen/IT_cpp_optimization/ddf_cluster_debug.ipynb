{
 "cells": [
  {
   "cell_type": "code",
   "execution_count": 1,
   "metadata": {},
   "outputs": [],
   "source": [
    "import sys\n",
    "sys.path.append(\"/users/ziyzhang/topology-research/\")\n",
    "from topologies.DDF import DDFtopo\n",
    "import globals as gl\n",
    "import numpy as np\n",
    "# add the path to the Nexullance_IT c++ library\n",
    "sys.path.append(\"/users/ziyzhang/topology-research/nexullance/IT_boost/build\")\n",
    "from Nexullance_IT_cpp import Nexullance_IT_interface\n"
   ]
  },
  {
   "cell_type": "code",
   "execution_count": 2,
   "metadata": {},
   "outputs": [],
   "source": [
    "Cap_remote = 10 #GBps\n",
    "Cap_local = 10 #GBps"
   ]
  },
  {
   "cell_type": "code",
   "execution_count": 3,
   "metadata": {},
   "outputs": [],
   "source": [
    "config = gl.ddf_configs[-1]\n",
    "V= config[0]\n",
    "D= config[1]\n",
    "EPR = (D+1)//2\n",
    "_network = DDFtopo(V, D)\n",
    "arcs = _network.generate_graph_arcs()\n",
    "ASP, _ = _network.calculate_all_shortest_paths()\n",
    "ECMP_ASP = gl.ECMP(ASP)\n",
    "\n",
    "def run_for_traffic_pattern(_arcs, _traffic_pattern, _M_EPs, _alpha, _beta):\n",
    "    remote_link_flows, local_link_flows = _network.distribute_M_EPs_on_weighted_paths(ECMP_ASP, EPR, _M_EPs)\n",
    "    max_remote_link_load = np.max(remote_link_flows)/Cap_remote\n",
    "    max_local_link_load = np.max(local_link_flows)/Cap_local\n",
    "    # adapt the traffic scaling factor to 10x saturation\n",
    "    traffic_scaling = 10.0/max(max_local_link_load, max_remote_link_load)\n",
    "    _M_EPs = traffic_scaling * _M_EPs\n",
    "    remote_link_flows, local_link_flows = _network.distribute_M_EPs_on_weighted_paths(ECMP_ASP, EPR, _M_EPs)\n",
    "    max_remote_link_load = np.max(remote_link_flows)/Cap_remote\n",
    "    max_local_link_load = np.max(local_link_flows)/Cap_local\n",
    "    # run Nexullance_IT\n",
    "    nexu_it = Nexullance_IT_interface(V, _arcs, gl.convert_M_EPs_to_M_R(_M_EPs, V, EPR), True)\n",
    "    nexu_it.set_parameters(_alpha, _beta)\n",
    "    nexu_it.run()\n",
    "    Lremote_NEXU = nexu_it.get_max_link_load()\n",
    "    Phi = gl.network_total_throughput(_M_EPs, Lremote_NEXU, max_local_link_load)\n",
    "    return Phi/(V*EPR)\n",
    "\n",
    "traffic_pattern = \"router-cluster\"\n",
    "M_EPs = gl.generate_uniform_cluster_pattern(V, EPR, 4) # four clusters\n",
    "run_for_traffic_pattern(arcs, traffic_pattern, M_EPs, 0.1, 7.0)"
   ]
  },
  {
   "cell_type": "code",
   "execution_count": null,
   "metadata": {},
   "outputs": [],
   "source": []
  }
 ],
 "metadata": {
  "kernelspec": {
   "display_name": "gt",
   "language": "python",
   "name": "python3"
  },
  "language_info": {
   "codemirror_mode": {
    "name": "ipython",
    "version": 3
   },
   "file_extension": ".py",
   "mimetype": "text/x-python",
   "name": "python",
   "nbconvert_exporter": "python",
   "pygments_lexer": "ipython3",
   "version": "3.12.3"
  }
 },
 "nbformat": 4,
 "nbformat_minor": 2
}
