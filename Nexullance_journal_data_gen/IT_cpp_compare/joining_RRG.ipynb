{
 "cells": [
  {
   "cell_type": "code",
   "execution_count": 1,
   "metadata": {},
   "outputs": [],
   "source": [
    "import os\n",
    "import pandas as pd"
   ]
  },
  {
   "cell_type": "code",
   "execution_count": 2,
   "metadata": {},
   "outputs": [],
   "source": [
    "def merge_csvs(directory):\n",
    "    # Initialize an empty list to store dataframes\n",
    "    dfs = []\n",
    "\n",
    "    # Iterate over files in the directory\n",
    "    for filename in os.listdir(directory):\n",
    "        if filename.startswith(\"RRG_\") and filename.endswith(\".csv\"):\n",
    "            # Read each CSV file into a dataframe and append to the list\n",
    "            df = pd.read_csv(os.path.join(directory, filename))\n",
    "            dfs.append(df)\n",
    "\n",
    "    # Check if any CSV files were found\n",
    "    if not dfs:\n",
    "        print(\"No CSV files found with prefix 'RRG_'\")\n",
    "    else:\n",
    "        # Concatenate all dataframes into one\n",
    "        concatenated_df = pd.concat(dfs, ignore_index=True)\n",
    "\n",
    "        # Sort the concatenated dataframe by the 'V' column\n",
    "        concatenated_df.sort_values(by='V', inplace=True)\n",
    "\n",
    "        # Write the sorted dataframe to a new CSV file\n",
    "        output_file = os.path.join(directory, \"RRG.csv\")\n",
    "        concatenated_df.to_csv(output_file, index=False)\n",
    "\n",
    "        print(f\"Merged and sorted CSV file saved as 'RRG.csv' in {directory}\")\n"
   ]
  },
  {
   "cell_type": "code",
   "execution_count": 3,
   "metadata": {},
   "outputs": [],
   "source": [
    "all_items = [os.path.abspath(item) for item in os.listdir('.') if os.path.isdir(item) and item != '__pycache__']"
   ]
  },
  {
   "cell_type": "code",
   "execution_count": 4,
   "metadata": {},
   "outputs": [
    {
     "name": "stdout",
     "output_type": "stream",
     "text": [
      "Merged and sorted CSV file saved as 'RRG.csv' in /users/ziyzhang/topology-research/Nexullance_journal_data_gen/IT_boost_verify/Nexullance_IT_py\n",
      "Merged and sorted CSV file saved as 'RRG.csv' in /users/ziyzhang/topology-research/Nexullance_journal_data_gen/IT_boost_verify/Nexullance_IT_cpp\n",
      "Merged and sorted CSV file saved as 'RRG.csv' in /users/ziyzhang/topology-research/Nexullance_journal_data_gen/IT_boost_verify/Nexullance_OPT\n"
     ]
    }
   ],
   "source": [
    "for item in all_items:\n",
    "    merge_csvs(item)"
   ]
  },
  {
   "cell_type": "code",
   "execution_count": null,
   "metadata": {},
   "outputs": [],
   "source": []
  }
 ],
 "metadata": {
  "kernelspec": {
   "display_name": "Python 3",
   "language": "python",
   "name": "python3"
  },
  "language_info": {
   "codemirror_mode": {
    "name": "ipython",
    "version": 3
   },
   "file_extension": ".py",
   "mimetype": "text/x-python",
   "name": "python",
   "nbconvert_exporter": "python",
   "pygments_lexer": "ipython3",
   "version": "3.12.3"
  }
 },
 "nbformat": 4,
 "nbformat_minor": 2
}
