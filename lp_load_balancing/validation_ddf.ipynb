{
 "cells": [
  {
   "cell_type": "code",
   "execution_count": 1,
   "metadata": {},
   "outputs": [],
   "source": [
    "import matplotlib.pyplot as plt\n",
    "# import networkx as nx\n",
    "# import topologies.Equality as Equality\n",
    "# import topologies.RRG as RRG\n",
    "# import topologies.Slimfly as Slimfly\n",
    "# from globals import *\n",
    "from statistics import mean\n",
    "import sys\n",
    "import pickle"
   ]
  },
  {
   "cell_type": "code",
   "execution_count": 2,
   "metadata": {},
   "outputs": [],
   "source": [
    "config=(6, 2)\n",
    "topo='ddf'\n",
    "unipath_result = pickle.load(open(f'../pickled_data/statistics/unipath_{config}_{topo}_uniform_flow.pickle', 'rb'))\n",
    "all_shortest_paths_result = pickle.load(open(f'../pickled_data/statistics/all_shortest_paths_{config}_{topo}_uniform_flow.pickle', 'rb'))"
   ]
  },
  {
   "cell_type": "code",
   "execution_count": 3,
   "metadata": {},
   "outputs": [
    {
     "data": {
      "text/plain": [
       "{'diameter': 3,\n",
       " 'ave_path_length_statistics': [1.0, 1.8, 3.0],\n",
       " 'num_paths_statistics': [1, 1, 1],\n",
       " 'link_load_statistics': [4.0, 4.5, 5.0]}"
      ]
     },
     "execution_count": 3,
     "metadata": {},
     "output_type": "execute_result"
    }
   ],
   "source": [
    "unipath_result"
   ]
  },
  {
   "cell_type": "code",
   "execution_count": 4,
   "metadata": {},
   "outputs": [
    {
     "data": {
      "text/plain": [
       "{'diameter': 3,\n",
       " 'ave_path_length_statistics': [1.0, 1.8, 3.0],\n",
       " 'num_paths_statistics': [1, 1.2, 2],\n",
       " 'link_load_statistics': [4.5, 4.5, 4.5]}"
      ]
     },
     "execution_count": 4,
     "metadata": {},
     "output_type": "execute_result"
    }
   ],
   "source": [
    "all_shortest_paths_result"
   ]
  },
  {
   "cell_type": "code",
   "execution_count": 5,
   "metadata": {},
   "outputs": [],
   "source": [
    "config=(36, 5)\n",
    "topo='ddf'\n",
    "unipath_result = pickle.load(open(f'../pickled_data/statistics/unipath_{config}_{topo}_uniform_flow.pickle', 'rb'))\n",
    "all_shortest_paths_result = pickle.load(open(f'../pickled_data/statistics/all_shortest_paths_{config}_{topo}_uniform_flow.pickle', 'rb'))"
   ]
  },
  {
   "cell_type": "code",
   "execution_count": 6,
   "metadata": {},
   "outputs": [
    {
     "data": {
      "text/plain": [
       "{'diameter': 3,\n",
       " 'ave_path_length_statistics': [1.0, 2.3714285714285714, 3.0],\n",
       " 'num_paths_statistics': [1, 1, 1],\n",
       " 'link_load_statistics': [16.0, 16.6, 17.0]}"
      ]
     },
     "execution_count": 6,
     "metadata": {},
     "output_type": "execute_result"
    }
   ],
   "source": [
    "unipath_result"
   ]
  },
  {
   "cell_type": "code",
   "execution_count": 7,
   "metadata": {},
   "outputs": [
    {
     "data": {
      "text/plain": [
       "{'diameter': 3,\n",
       " 'ave_path_length_statistics': [1.0, 2.342857142857143, 3.0],\n",
       " 'num_paths_statistics': [1, 1.542857142857143, 4],\n",
       " 'link_load_statistics': [12.166666666666666, 16.4, 23.083333333333336]}"
      ]
     },
     "execution_count": 7,
     "metadata": {},
     "output_type": "execute_result"
    }
   ],
   "source": [
    "all_shortest_paths_result"
   ]
  },
  {
   "cell_type": "code",
   "execution_count": null,
   "metadata": {},
   "outputs": [],
   "source": []
  },
  {
   "cell_type": "code",
   "execution_count": null,
   "metadata": {},
   "outputs": [],
   "source": []
  },
  {
   "cell_type": "code",
   "execution_count": null,
   "metadata": {},
   "outputs": [],
   "source": []
  },
  {
   "cell_type": "code",
   "execution_count": null,
   "metadata": {},
   "outputs": [],
   "source": [
    "import pickle\n",
    "import topologies.DDF as DDF\n",
    "from statistics import mean"
   ]
  },
  {
   "cell_type": "code",
   "execution_count": null,
   "metadata": {},
   "outputs": [],
   "source": [
    "config=(36, 5)\n",
    "topo='ddf'\n",
    "LP_weighted_path_dict=pickle.load(open(f'./pickled_data/graphs_and_paths/all_shortest_paths_LP_weighted_{config}_{topo}_paths.pickle', 'rb'))\n",
    "all_shortest_paths = dict(pickle.load(open(f'./pickled_data/graphs_and_paths/all_shortest_paths_{config}_{topo}_paths.pickle', 'rb')))\n",
    "edge_list = pickle.load(open(f'./pickled_data/graphs_and_paths/{config}_{topo}_edgelist.pickle', 'rb'))\n",
    "unipaths = pickle.load(open(f'./pickled_data/graphs_and_paths/unipath_{config}_{topo}_paths.pickle', 'rb'))"
   ]
  },
  {
   "cell_type": "code",
   "execution_count": null,
   "metadata": {},
   "outputs": [
    {
     "name": "stdout",
     "output_type": "stream",
     "text": [
      "load with LP weighted paths (min, ave, max): 14.285714285714079 16.4 17.571428571428704\n"
     ]
    }
   ],
   "source": [
    "ddf=DDF.DDFtopo(edge_list)\n",
    "link_loads=list(ddf.distribute_uniform_flow_on_weighted_paths(LP_weighted_path_dict).values())\n",
    "_load_min=min(link_loads)\n",
    "_load_max=max(link_loads)\n",
    "_load_mean=mean(link_loads)\n",
    "print(\"load with LP weighted paths (min, ave, max):\", _load_min, _load_mean, _load_max)"
   ]
  },
  {
   "cell_type": "code",
   "execution_count": null,
   "metadata": {},
   "outputs": [
    {
     "name": "stdout",
     "output_type": "stream",
     "text": [
      "load with all shortest paths (min, ave, max): 12.166666666666666 16.4 23.083333333333336\n"
     ]
    }
   ],
   "source": [
    "ddf=DDF.DDFtopo(edge_list)\n",
    "link_loads=list(ddf.distribute_uniform_flow_on_paths(all_shortest_paths).values())\n",
    "_load_min=min(link_loads)\n",
    "_load_max=max(link_loads)\n",
    "_load_mean=mean(link_loads)\n",
    "print(\"load with all shortest paths (min, ave, max):\", _load_min, _load_mean, _load_max)"
   ]
  },
  {
   "cell_type": "code",
   "execution_count": null,
   "metadata": {},
   "outputs": [
    {
     "name": "stdout",
     "output_type": "stream",
     "text": [
      "load with all unipaths (min, ave, max): 16.0 16.6 17.0\n"
     ]
    }
   ],
   "source": [
    "ddf=DDF.DDFtopo(edge_list)\n",
    "link_loads=list(ddf.distribute_uniform_flow_on_paths(unipaths).values())\n",
    "_load_min=min(link_loads)\n",
    "_load_max=max(link_loads)\n",
    "_load_mean=mean(link_loads)\n",
    "print(\"load with all unipaths (min, ave, max):\", _load_min, _load_mean, _load_max)"
   ]
  },
  {
   "cell_type": "code",
   "execution_count": null,
   "metadata": {},
   "outputs": [
    {
     "name": "stdout",
     "output_type": "stream",
     "text": [
      "load with unipaths (min, ave, max): 16.0 16.6 17.0\n"
     ]
    }
   ],
   "source": [
    "from globals import *\n",
    "\n",
    "weighted_unipaths=convert_path_dict_to_weighted_path_dict(unipaths)\n",
    "link_loads=list(ddf.distribute_uniform_flow_on_weighted_paths(weighted_unipaths).values())\n",
    "_load_min=min(link_loads)\n",
    "_load_max=max(link_loads)\n",
    "_load_mean=mean(link_loads)\n",
    "print(\"load with unipaths (min, ave, max):\", _load_min, _load_mean, _load_max)"
   ]
  },
  {
   "cell_type": "code",
   "execution_count": null,
   "metadata": {},
   "outputs": [],
   "source": []
  }
 ],
 "metadata": {
  "kernelspec": {
   "display_name": "Python 3",
   "language": "python",
   "name": "python3"
  },
  "language_info": {
   "codemirror_mode": {
    "name": "ipython",
    "version": 3
   },
   "file_extension": ".py",
   "mimetype": "text/x-python",
   "name": "python",
   "nbconvert_exporter": "python",
   "pygments_lexer": "ipython3",
   "version": "3.10.12"
  },
  "orig_nbformat": 4
 },
 "nbformat": 4,
 "nbformat_minor": 2
}
