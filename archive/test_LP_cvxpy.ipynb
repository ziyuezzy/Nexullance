{
 "cells": [
  {
   "cell_type": "code",
   "execution_count": 1,
   "metadata": {},
   "outputs": [],
   "source": [
    "from globals import *\n",
    "import topologies.DDF as DDF\n",
    "import cvxpy as cp\n",
    "# import pickle\n",
    "import lp_load_balancing.LP_cvspy as LP"
   ]
  },
  {
   "cell_type": "code",
   "execution_count": 5,
   "metadata": {},
   "outputs": [
    {
     "name": "stdout",
     "output_type": "stream",
     "text": [
      "calculation done for (36, 5) with shortest paths routing\n",
      "calculation done for ddf (36, 5)\n"
     ]
    },
    {
     "data": {
      "text/plain": [
       "{'diameter': 3,\n",
       " 'ave_path_length_statistics': [1.0, 2.342857142857143, 3.0],\n",
       " 'num_paths_statistics': [1, 1.542857142857143, 4],\n",
       " 'link_load_statistics': [12.166666666666666, 16.4, 23.083333333333336]}"
      ]
     },
     "metadata": {},
     "output_type": "display_data"
    },
    {
     "name": "stdout",
     "output_type": "stream",
     "text": [
      "===============================================================================\n",
      "                                     CVXPY                                     \n",
      "                                     v1.3.2                                    \n",
      "===============================================================================\n",
      "(CVXPY) Aug 30 11:08:45 AM: Your problem has 1944 variables, 3 constraints, and 0 parameters.\n",
      "(CVXPY) Aug 30 11:08:45 AM: It is compliant with the following grammars: DCP, DQCP\n",
      "(CVXPY) Aug 30 11:08:45 AM: (If you need to solve this problem multiple times, but with different data, consider using parameters.)\n",
      "(CVXPY) Aug 30 11:08:45 AM: CVXPY will first compile your problem; then, it will invoke a numerical solver to obtain a solution.\n",
      "-------------------------------------------------------------------------------\n",
      "                                  Compilation                                  \n",
      "-------------------------------------------------------------------------------\n",
      "(CVXPY) Aug 30 11:08:45 AM: Compiling problem (target solver=GLPK).\n",
      "(CVXPY) Aug 30 11:08:45 AM: Reduction chain: Dcp2Cone -> CvxAttr2Constr -> ConeMatrixStuffing -> GLPK\n",
      "(CVXPY) Aug 30 11:08:45 AM: Applying reduction Dcp2Cone\n",
      "(CVXPY) Aug 30 11:08:45 AM: Applying reduction CvxAttr2Constr\n",
      "(CVXPY) Aug 30 11:08:45 AM: Applying reduction ConeMatrixStuffing\n",
      "(CVXPY) Aug 30 11:08:45 AM: Applying reduction GLPK\n",
      "(CVXPY) Aug 30 11:08:45 AM: Finished problem compilation (took 1.572e-01 seconds).\n",
      "-------------------------------------------------------------------------------\n",
      "                                Numerical solver                               \n",
      "-------------------------------------------------------------------------------\n",
      "(CVXPY) Aug 30 11:08:45 AM: Invoking solver GLPK  to obtain a solution.\n",
      "GLPK Simplex Optimizer 5.0\n",
      "5328 rows, 1945 columns, 10980 non-zeros\n",
      "      0: obj =   0.000000000e+00 inf =   1.260e+03 (1260)\n",
      "   2592: obj =   1.983333333e+01 inf =   1.263e-13 (0) 20\n",
      "*  3341: obj =   1.757142857e+01 inf =   2.280e-13 (0) 7\n",
      "OPTIMAL LP SOLUTION FOUND\n",
      "-------------------------------------------------------------------------------\n",
      "                                    Summary                                    \n",
      "-------------------------------------------------------------------------------\n",
      "(CVXPY) Aug 30 11:08:48 AM: Problem status: optimal\n",
      "(CVXPY) Aug 30 11:08:48 AM: Optimal value: 1.757e+01\n",
      "(CVXPY) Aug 30 11:08:48 AM: Compilation took 1.572e-01 seconds\n",
      "(CVXPY) Aug 30 11:08:48 AM: Solver (including time spent in interface) took 3.719e+00 seconds\n",
      "Optimal objective funtion found: 17.571428571428672\n",
      "problem solved with cp. GLPK\n",
      "after LP optimization, path length distribution is (min, ave, max): 1.0 2.342857142857143 3.0000000000000004\n",
      "after LP optimization, path diversity distribution is (min, ave, max): 1 1.046031746031746 3\n",
      "after LP optimization, link load distribution is (min, ave, max): 13.714285714285698 16.4 17.571428571428672\n",
      "DDF unipath:\n",
      "calculation done for (36, 5) with unipath routing\n",
      "calculation done for ddf (36, 5)\n"
     ]
    },
    {
     "data": {
      "text/plain": [
       "{'diameter': 3,\n",
       " 'ave_path_length_statistics': [1.0, 2.3714285714285714, 3.0],\n",
       " 'num_paths_statistics': [1, 1, 1],\n",
       " 'link_load_statistics': [16.0, 16.6, 17.0]}"
      ]
     },
     "metadata": {},
     "output_type": "display_data"
    }
   ],
   "source": [
    "topo_name='ddf'\n",
    "config=(36,5)\n",
    "_network = DDF.DDFtopo(config[0], config[1])\n",
    "_result, _graph, paths_dict =calculate_data_shortest_paths(_network, config)\n",
    "print(f\"calculation done for {topo_name} {config}\")\n",
    "# pickle.dump(_result, open(f'./pickled_data/statistics/all_shortest_paths_{config}_{topo_name}_uniform_flow.pickle', 'wb'))\n",
    "# pickle.dump(_graph, open(f'./pickled_data/graphs_and_paths/{config}_{topo_name}_edgelist.pickle', 'wb'))\n",
    "# pickle.dump(paths_dict, open(f'./pickled_data/graphs_and_paths/all_shortest_paths_{config}_{topo_name}_paths.pickle', 'wb'))\n",
    "\n",
    "display(_result)\n",
    "# weighted_paths=LP.LP_load_balancing(all_shortest_paths, edge_list, _integer=True, _solver=cp.CVXOPT)\n",
    "data, problem=LP.Generate_load_balancing_problem(paths_dict, _graph, _integer=False)\n",
    "problem.solve( verbose=True, solver=cp.GLPK)\n",
    "\n",
    "all_weighted_paths={}\n",
    "\n",
    "if problem.status not in [\"infeasible\", \"unbounded\"]:\n",
    "    # Otherwise, problem.value is inf or -inf, respectively.\n",
    "    print(\"Optimal objective funtion found: %s\" % problem.value)\n",
    "    for i, variable in enumerate(problem.variables()[0]):\n",
    "        source, dest=data[i][0]\n",
    "        if not( (source, dest) in all_weighted_paths.keys() ):\n",
    "            all_weighted_paths[(source, dest)]=[]\n",
    "        \n",
    "        all_weighted_paths[(source, dest)].append( (data[i][1], variable.value) )\n",
    "    print(\"problem solved with cp.\", problem.solver_stats.solver_name)\n",
    "else:\n",
    "    print(problem.status)\n",
    "\n",
    "link_load_dict=_network.distribute_uniform_flow_on_weighted_paths(all_weighted_paths)\n",
    "_load_dict=list(link_load_dict.values())\n",
    "_load_min=min(_load_dict)\n",
    "_load_max=max(_load_dict)\n",
    "_load_mean=mean(_load_dict)\n",
    "_average_path_lengths, _num_paths=process_weighted_path_dict(all_weighted_paths)\n",
    "_average_path_length_min=min(_average_path_lengths)\n",
    "_average_path_length_max=max(_average_path_lengths)\n",
    "_average_path_length_mean=mean(_average_path_lengths)\n",
    "_num_paths_min=min(_num_paths)\n",
    "_num_paths_max=max(_num_paths)\n",
    "_num_paths_mean=mean(_num_paths)\n",
    "print(\"after LP optimization, path length distribution is (min, ave, max):\", _average_path_length_min, _average_path_length_mean, _average_path_length_max)\n",
    "print(\"after LP optimization, path diversity distribution is (min, ave, max):\", _num_paths_min, _num_paths_mean, _num_paths_max)\n",
    "print(\"after LP optimization, link load distribution is (min, ave, max):\", _load_min, _load_mean, _load_max)\n",
    "\n",
    "\n",
    "print(\"DDF unipath:\")\n",
    "\n",
    "_network = DDF.DDFtopo(config[0], config[1])\n",
    "_result, _graph, paths_dict =calculate_DDF_routing(_network, config)\n",
    "print(f\"calculation done for {topo_name} {config}\")\n",
    "# pickle.dump(_result, open(f'./pickled_data/statistics/unipath_{config}_{topo_name}_uniform_flow.pickle', 'wb'))\n",
    "# # pickle.dump(_graph, open(f'./pickled_data/graphs_and_paths/{config}_{topo_name}_edgelist.pickle', 'wb'))\n",
    "# pickle.dump(paths_dict, open(f'./pickled_data/graphs_and_paths/unipath_{config}_{topo_name}_paths.pickle', 'wb'))\n",
    "\n",
    "display(_result)\n"
   ]
  },
  {
   "cell_type": "code",
   "execution_count": null,
   "metadata": {},
   "outputs": [],
   "source": []
  }
 ],
 "metadata": {
  "kernelspec": {
   "display_name": "Python 3",
   "language": "python",
   "name": "python3"
  },
  "language_info": {
   "codemirror_mode": {
    "name": "ipython",
    "version": 3
   },
   "file_extension": ".py",
   "mimetype": "text/x-python",
   "name": "python",
   "nbconvert_exporter": "python",
   "pygments_lexer": "ipython3",
   "version": "3.8.5"
  },
  "orig_nbformat": 4
 },
 "nbformat": 4,
 "nbformat_minor": 2
}
