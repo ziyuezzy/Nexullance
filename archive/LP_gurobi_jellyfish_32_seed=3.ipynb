{
 "cells": [
  {
   "cell_type": "code",
   "execution_count": 13,
   "metadata": {},
   "outputs": [],
   "source": [
    "import nexullance.LP_gurobi as LP\n",
    "import pickle\n",
    "import topologies.RRG as RRG\n",
    "import globals as gl"
   ]
  },
  {
   "cell_type": "code",
   "execution_count": 14,
   "metadata": {},
   "outputs": [],
   "source": [
    "config=(32, 6)\n",
    "EPR=3\n",
    "topo='ddf'\n",
    "_network=RRG.RRGtopo(config[0], config[1], 3) # The last int: Seed for RRG\n",
    "edge_list=list(_network.nx_graph.edges())"
   ]
  },
  {
   "cell_type": "markdown",
   "metadata": {},
   "source": [
    "# Uniform traffic"
   ]
  },
  {
   "cell_type": "code",
   "execution_count": 15,
   "metadata": {},
   "outputs": [],
   "source": [
    "uniform_traffic_matrix=gl.generate_uniform_traffic_pattern(config[0], EPR)\n",
    "R2R_uniform=gl.convert_p2p_traffic_matrix_to_R2R(uniform_traffic_matrix, config[0], EPR)"
   ]
  },
  {
   "cell_type": "markdown",
   "metadata": {},
   "source": [
    "### Using all shortest paths"
   ]
  },
  {
   "cell_type": "code",
   "execution_count": 16,
   "metadata": {},
   "outputs": [
    {
     "name": "stdout",
     "output_type": "stream",
     "text": [
      "calculation done for (32, 6) with shortest paths routing\n",
      "predicted saturation load (before optimization) = 0.6150431223843337\n"
     ]
    },
    {
     "data": {
      "text/plain": [
       "{'diameter': 3,\n",
       " 'ave_path_length_statistics': [1.0, 2.0403225806451615, 3.0],\n",
       " 'num_paths_statistics': [1, 2.3830645161290325, 12],\n",
       " 'link_load_statistics': [4.970634920634922,\n",
       "  10.541666666666664,\n",
       "  17.16230158730158]}"
      ]
     },
     "metadata": {},
     "output_type": "display_data"
    },
    {
     "name": "stdout",
     "output_type": "stream",
     "text": [
      "Set parameter WLSAccessID\n",
      "Set parameter WLSSecret\n",
      "Set parameter LicenseID to value 2411299\n",
      "Academic license - for non-commercial use only - registered to ziyue.zhang@ugent.be\n",
      "number of variables = 2556, number of constraints = 646\n",
      "Optimal solution found\n",
      "Max link load is: 105.5\n",
      "predicted saturation load (after optimization) = 0.900473933649284\n"
     ]
    }
   ],
   "source": [
    "results, _, path_dict = gl.calculate_data_shortest_paths(_network, config)\n",
    "link_loads, local_link_load=_network.distribute_arbitrary_flow_on_paths_with_EPs(path_dict, EPR, uniform_traffic_matrix)\n",
    "print(f'predicted saturation load (before optimization) = {local_link_load/max(link_loads)}')\n",
    "display(results)\n",
    "all_weighted_paths, result_link_loads=LP.Solve_load_balancing(path_dict, edge_list,R2R_uniform, _verbose=0)\n",
    "link_loads, local_link_load=_network.distribute_arbitrary_flow_on_weighted_paths_with_EPs(all_weighted_paths, EPR, uniform_traffic_matrix)\n",
    "print(f'predicted saturation load (after optimization) = {local_link_load/max(link_loads)}')\n"
   ]
  },
  {
   "cell_type": "markdown",
   "metadata": {},
   "source": [
    "### Using shorter-than-3 paths"
   ]
  },
  {
   "cell_type": "code",
   "execution_count": 17,
   "metadata": {},
   "outputs": [
    {
     "name": "stdout",
     "output_type": "stream",
     "text": [
      "calculation done for (32, 6) with shorter-than-3 paths routing\n",
      "predicted saturation load (before optimization) = 0.5802147944857786\n"
     ]
    },
    {
     "data": {
      "text/plain": [
       "{'diameter': 3,\n",
       " 'ave_path_length_statistics': [1.5, 2.744836161822049, 3.0],\n",
       " 'num_paths_statistics': [1, 5.879032258064516, 13],\n",
       " 'link_load_statistics': [11.744441669441661,\n",
       "  14.181653502747242,\n",
       "  18.192496392496388]}"
      ]
     },
     "metadata": {},
     "output_type": "display_data"
    },
    {
     "name": "stdout",
     "output_type": "stream",
     "text": [
      "Set parameter WLSAccessID\n",
      "Set parameter WLSSecret\n",
      "Set parameter LicenseID to value 2411299\n",
      "Academic license - for non-commercial use only - registered to ziyue.zhang@ugent.be\n",
      "number of variables = 6024, number of constraints = 1182\n",
      "Optimal solution found\n",
      "Max link load is: 103.5\n",
      "predicted saturation load (after optimization) = 0.9178743961352627\n"
     ]
    }
   ],
   "source": [
    "results, _, path_dict = gl.calculate_data_paths_within_length(_network, config, 3)\n",
    "link_loads, local_link_load=_network.distribute_arbitrary_flow_on_paths_with_EPs(path_dict, EPR, uniform_traffic_matrix)\n",
    "print(f'predicted saturation load (before optimization) = {local_link_load/max(link_loads)}')\n",
    "display(results)\n",
    "all_weighted_paths, result_link_loads=LP.Solve_load_balancing(path_dict, edge_list,R2R_uniform, _verbose=0)\n",
    "link_loads, local_link_load=_network.distribute_arbitrary_flow_on_weighted_paths_with_EPs(all_weighted_paths, EPR, uniform_traffic_matrix)\n",
    "print(f'predicted saturation load (after optimization) = {local_link_load/max(link_loads)}')"
   ]
  },
  {
   "cell_type": "markdown",
   "metadata": {},
   "source": [
    "### Using shorter-than-4 paths"
   ]
  },
  {
   "cell_type": "code",
   "execution_count": 18,
   "metadata": {},
   "outputs": [
    {
     "name": "stdout",
     "output_type": "stream",
     "text": [
      "calculation done for (32, 6) with shorter-than-4 paths routing\n",
      "predicted saturation load (before optimization) = 0.5021379312300471\n"
     ]
    },
    {
     "data": {
      "text/plain": [
       "{'diameter': 3,\n",
       " 'ave_path_length_statistics': [3.2916666666666665,\n",
       "  3.73536067677043,\n",
       "  3.942857142857143],\n",
       " 'num_paths_statistics': [12, 28.266129032258064, 41],\n",
       " 'link_load_statistics': [17.35321944538884,\n",
       "  19.299363496647278,\n",
       "  21.0212272347133]}"
      ]
     },
     "metadata": {},
     "output_type": "display_data"
    },
    {
     "name": "stdout",
     "output_type": "stream",
     "text": [
      "Set parameter WLSAccessID\n",
      "Set parameter WLSSecret\n",
      "Set parameter LicenseID to value 2411299\n",
      "Academic license - for non-commercial use only - registered to ziyue.zhang@ugent.be\n",
      "number of variables = 28232, number of constraints = 1184\n",
      "Optimal solution found\n",
      "Max link load is: 103.5\n",
      "predicted saturation load (after optimization) = 0.9178743961352441\n"
     ]
    }
   ],
   "source": [
    "results, _, path_dict = gl.calculate_data_paths_within_length(_network, config, 4)\n",
    "link_loads, local_link_load=_network.distribute_arbitrary_flow_on_paths_with_EPs(path_dict, EPR, uniform_traffic_matrix)\n",
    "print(f'predicted saturation load (before optimization) = {local_link_load/max(link_loads)}')\n",
    "display(results)\n",
    "all_weighted_paths, result_link_loads=LP.Solve_load_balancing(path_dict, edge_list,R2R_uniform, _verbose=0)\n",
    "link_loads, local_link_load=_network.distribute_arbitrary_flow_on_weighted_paths_with_EPs(all_weighted_paths, EPR, uniform_traffic_matrix)\n",
    "print(f'predicted saturation load (after optimization) = {local_link_load/max(link_loads)}')"
   ]
  },
  {
   "cell_type": "markdown",
   "metadata": {},
   "source": [
    "# With shift traffic"
   ]
  },
  {
   "cell_type": "code",
   "execution_count": 19,
   "metadata": {},
   "outputs": [],
   "source": [
    "shift_traffic_matrix=gl.generate_shift_traffic_pattern(config[0], EPR)\n",
    "R2R_shift=gl.convert_p2p_traffic_matrix_to_R2R(shift_traffic_matrix, config[0], EPR)"
   ]
  },
  {
   "cell_type": "markdown",
   "metadata": {},
   "source": [
    "### Using all shortest paths"
   ]
  },
  {
   "cell_type": "code",
   "execution_count": 20,
   "metadata": {},
   "outputs": [
    {
     "name": "stdout",
     "output_type": "stream",
     "text": [
      "calculation done for (32, 6) with shortest paths routing\n",
      "predicted saturation load (before optimization) = 0.15384615384615385\n"
     ]
    },
    {
     "data": {
      "text/plain": [
       "{'diameter': 3,\n",
       " 'ave_path_length_statistics': [1.0, 2.0403225806451615, 3.0],\n",
       " 'num_paths_statistics': [1, 2.3830645161290325, 12],\n",
       " 'link_load_statistics': [4.970634920634922,\n",
       "  10.541666666666664,\n",
       "  17.16230158730158]}"
      ]
     },
     "metadata": {},
     "output_type": "display_data"
    },
    {
     "name": "stdout",
     "output_type": "stream",
     "text": [
      "Set parameter WLSAccessID\n",
      "Set parameter WLSSecret\n",
      "Set parameter LicenseID to value 2411299\n",
      "Academic license - for non-commercial use only - registered to ziyue.zhang@ugent.be\n",
      "number of variables = 2556, number of constraints = 646\n",
      "Optimal solution found\n",
      "Max link load is: 6.0\n",
      "predicted saturation load (after optimization) = 0.16666666666666666\n"
     ]
    }
   ],
   "source": [
    "results, _, path_dict = gl.calculate_data_shortest_paths(_network, config)\n",
    "link_loads, local_link_load=_network.distribute_arbitrary_flow_on_paths_with_EPs(path_dict, EPR, shift_traffic_matrix)\n",
    "print(f'predicted saturation load (before optimization) = {local_link_load/max(link_loads)}')\n",
    "display(results)\n",
    "all_weighted_paths, result_link_loads=LP.Solve_load_balancing(path_dict, edge_list,R2R_shift, _verbose=0)\n",
    "link_loads, local_link_load=_network.distribute_arbitrary_flow_on_weighted_paths_with_EPs(all_weighted_paths, EPR, shift_traffic_matrix)\n",
    "print(f'predicted saturation load (after optimization) = {local_link_load/max(link_loads)}')\n"
   ]
  },
  {
   "cell_type": "markdown",
   "metadata": {},
   "source": [
    "### Using shorter-than-3 paths"
   ]
  },
  {
   "cell_type": "code",
   "execution_count": 21,
   "metadata": {},
   "outputs": [
    {
     "name": "stdout",
     "output_type": "stream",
     "text": [
      "calculation done for (32, 6) with shorter-than-3 paths routing\n",
      "predicted saturation load (before optimization) = 0.29999999999999993\n"
     ]
    },
    {
     "data": {
      "text/plain": [
       "{'diameter': 3,\n",
       " 'ave_path_length_statistics': [1.5, 2.744836161822049, 3.0],\n",
       " 'num_paths_statistics': [1, 5.879032258064516, 13],\n",
       " 'link_load_statistics': [11.744441669441661,\n",
       "  14.181653502747242,\n",
       "  18.192496392496388]}"
      ]
     },
     "metadata": {},
     "output_type": "display_data"
    },
    {
     "name": "stdout",
     "output_type": "stream",
     "text": [
      "Set parameter WLSAccessID\n",
      "Set parameter WLSSecret\n",
      "Set parameter LicenseID to value 2411299\n",
      "Academic license - for non-commercial use only - registered to ziyue.zhang@ugent.be\n",
      "number of variables = 6024, number of constraints = 1182\n",
      "Optimal solution found\n",
      "Max link load is: 1.76130198915009\n",
      "predicted saturation load (after optimization) = 0.5677618069815151\n"
     ]
    }
   ],
   "source": [
    "results, _, path_dict = gl.calculate_data_paths_within_length(_network, config, 3)\n",
    "link_loads, local_link_load=_network.distribute_arbitrary_flow_on_paths_with_EPs(path_dict, EPR, shift_traffic_matrix)\n",
    "print(f'predicted saturation load (before optimization) = {local_link_load/max(link_loads)}')\n",
    "display(results)\n",
    "all_weighted_paths, result_link_loads=LP.Solve_load_balancing(path_dict, edge_list,R2R_shift, _verbose=0)\n",
    "link_loads, local_link_load=_network.distribute_arbitrary_flow_on_weighted_paths_with_EPs(all_weighted_paths, EPR, shift_traffic_matrix)\n",
    "print(f'predicted saturation load (after optimization) = {local_link_load/max(link_loads)}')"
   ]
  },
  {
   "cell_type": "markdown",
   "metadata": {},
   "source": [
    "### Using shorter-than-4 paths"
   ]
  },
  {
   "cell_type": "code",
   "execution_count": 22,
   "metadata": {},
   "outputs": [
    {
     "name": "stdout",
     "output_type": "stream",
     "text": [
      "calculation done for (32, 6) with shorter-than-4 paths routing\n",
      "predicted saturation load (before optimization) = 0.35043582636801285\n"
     ]
    },
    {
     "data": {
      "text/plain": [
       "{'diameter': 3,\n",
       " 'ave_path_length_statistics': [3.2916666666666665,\n",
       "  3.73536067677043,\n",
       "  3.942857142857143],\n",
       " 'num_paths_statistics': [12, 28.266129032258064, 41],\n",
       " 'link_load_statistics': [17.35321944538884,\n",
       "  19.299363496647278,\n",
       "  21.0212272347133]}"
      ]
     },
     "metadata": {},
     "output_type": "display_data"
    },
    {
     "name": "stdout",
     "output_type": "stream",
     "text": [
      "Set parameter WLSAccessID\n",
      "Set parameter WLSSecret\n",
      "Set parameter LicenseID to value 2411299\n",
      "Academic license - for non-commercial use only - registered to ziyue.zhang@ugent.be\n",
      "number of variables = 28232, number of constraints = 1184\n",
      "Optimal solution found\n",
      "Max link load is: 1.4469188529591213\n",
      "predicted saturation load (after optimization) = 0.6911237613324853\n"
     ]
    }
   ],
   "source": [
    "results, _, path_dict = gl.calculate_data_paths_within_length(_network, config, 4)\n",
    "link_loads, local_link_load=_network.distribute_arbitrary_flow_on_paths_with_EPs(path_dict, EPR, shift_traffic_matrix)\n",
    "print(f'predicted saturation load (before optimization) = {local_link_load/max(link_loads)}')\n",
    "display(results)\n",
    "all_weighted_paths, result_link_loads=LP.Solve_load_balancing(path_dict, edge_list,R2R_shift, _verbose=0)\n",
    "link_loads, local_link_load=_network.distribute_arbitrary_flow_on_weighted_paths_with_EPs(all_weighted_paths, EPR, shift_traffic_matrix)\n",
    "print(f'predicted saturation load (after optimization) = {local_link_load/max(link_loads)}')"
   ]
  },
  {
   "cell_type": "markdown",
   "metadata": {},
   "source": [
    "### Using shorter-than-5 paths"
   ]
  },
  {
   "cell_type": "code",
   "execution_count": 25,
   "metadata": {},
   "outputs": [
    {
     "name": "stdout",
     "output_type": "stream",
     "text": [
      "calculation done for (32, 6) with shorter-than-5 paths routing\n",
      "predicted saturation load (before optimization) = 0.3468554975501988\n"
     ]
    },
    {
     "data": {
      "text/plain": [
       "{'diameter': 3,\n",
       " 'ave_path_length_statistics': [4.467532467532467,\n",
       "  4.725981672449037,\n",
       "  4.828767123287672],\n",
       " 'num_paths_statistics': [77, 131.67943548387098, 163],\n",
       " 'link_load_statistics': [21.12270947347706,\n",
       "  24.417571974319905,\n",
       "  26.263981849905928]}"
      ]
     },
     "metadata": {},
     "output_type": "display_data"
    },
    {
     "name": "stdout",
     "output_type": "stream",
     "text": [
      "Set parameter WLSAccessID\n",
      "Set parameter WLSSecret\n",
      "Set parameter LicenseID to value 2411299\n",
      "Academic license - for non-commercial use only - registered to ziyue.zhang@ugent.be\n",
      "number of variables = 130818, number of constraints = 1184\n",
      "Optimal solution found\n",
      "Max link load is: 1.4425403225806444\n",
      "predicted saturation load (after optimization) = 0.6932215234101503\n"
     ]
    }
   ],
   "source": [
    "results, _, path_dict = gl.calculate_data_paths_within_length(_network, config, 5)\n",
    "link_loads, local_link_load=_network.distribute_arbitrary_flow_on_paths_with_EPs(path_dict, EPR, shift_traffic_matrix)\n",
    "print(f'predicted saturation load (before optimization) = {local_link_load/max(link_loads)}')\n",
    "display(results)\n",
    "all_weighted_paths, result_link_loads=LP.Solve_load_balancing(path_dict, edge_list,R2R_shift, _verbose=0)\n",
    "link_loads, local_link_load=_network.distribute_arbitrary_flow_on_weighted_paths_with_EPs(all_weighted_paths, EPR, shift_traffic_matrix)\n",
    "print(f'predicted saturation load (after optimization) = {local_link_load/max(link_loads)}')"
   ]
  },
  {
   "cell_type": "markdown",
   "metadata": {},
   "source": [
    "### Using shorter-than-6 paths"
   ]
  },
  {
   "cell_type": "code",
   "execution_count": 24,
   "metadata": {},
   "outputs": [],
   "source": [
    "# results, _, path_dict = gl.calculate_data_paths_within_length(_network, config, 6)\n",
    "# link_loads, local_link_load=_network.distribute_arbitrary_flow_on_paths_with_EPs(path_dict, EPR, shift_traffic_matrix)\n",
    "# print(f'predicted saturation load (before optimization) = {local_link_load/max(link_loads)}')\n",
    "# display(results)\n",
    "# all_weighted_paths, result_link_loads=LP.Solve_load_balancing(path_dict, edge_list,R2R_shift, _verbose=0)\n",
    "# link_loads, local_link_load=_network.distribute_arbitrary_flow_on_weighted_paths_with_EPs(all_weighted_paths, EPR, shift_traffic_matrix)\n",
    "# print(f'predicted saturation load (after optimization) = {local_link_load/max(link_loads)}')"
   ]
  },
  {
   "cell_type": "code",
   "execution_count": null,
   "metadata": {},
   "outputs": [],
   "source": []
  }
 ],
 "metadata": {
  "kernelspec": {
   "display_name": "Python 3",
   "language": "python",
   "name": "python3"
  },
  "language_info": {
   "codemirror_mode": {
    "name": "ipython",
    "version": 3
   },
   "file_extension": ".py",
   "mimetype": "text/x-python",
   "name": "python",
   "nbconvert_exporter": "python",
   "pygments_lexer": "ipython3",
   "version": "3.8.5"
  },
  "orig_nbformat": 4
 },
 "nbformat": 4,
 "nbformat_minor": 2
}
