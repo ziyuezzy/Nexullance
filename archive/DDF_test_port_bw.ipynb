{
 "cells": [
  {
   "cell_type": "code",
   "execution_count": 1,
   "metadata": {},
   "outputs": [],
   "source": [
    "import lp_load_balancing.LP_gurobi as LP\n",
    "import pickle\n",
    "import topologies.DDF as DDF\n",
    "import globals as gl"
   ]
  },
  {
   "cell_type": "code",
   "execution_count": 2,
   "metadata": {},
   "outputs": [],
   "source": [
    "config=(36, 5)\n",
    "EPR=5\n",
    "topo='ddf'\n",
    "_network=DDF.DDFtopo(config[0], config[1])"
   ]
  },
  {
   "cell_type": "code",
   "execution_count": 3,
   "metadata": {},
   "outputs": [
    {
     "name": "stdout",
     "output_type": "stream",
     "text": [
      "calculation done for (36, 5) with unipath routing\n"
     ]
    }
   ],
   "source": [
    "uniform_traffic_matrix=gl.generate_uniform_traffic_pattern(config[0], EPR)\n",
    "# R2R_uniform=gl.convert_p2p_traffic_matrix_to_R2R(uniform_traffic_matrix, config[0], EPR)\n",
    "results, _, path_dict = gl.calculate_DDF_routing(_network, config)\n",
    "link_loads, local_link_load=_network.distribute_arbitrary_flow_on_paths_with_EPs(path_dict, EPR, uniform_traffic_matrix)"
   ]
  },
  {
   "cell_type": "code",
   "execution_count": 4,
   "metadata": {},
   "outputs": [],
   "source": [
    "pickle.dump(path_dict, open(f'./pickled_data/graphs_and_paths/unipath_{config}_ddf_paths.pickle', 'wb'))"
   ]
  },
  {
   "cell_type": "code",
   "execution_count": 4,
   "metadata": {},
   "outputs": [
    {
     "name": "stdout",
     "output_type": "stream",
     "text": [
      "under uniform traffic\n",
      "predicted saturation load (local_bw:R2R_bw = 1:1) = 0.4211764705882353\n",
      "predicted saturation load (local_bw:R2R_bw = 1:2) = 0.8423529411764706\n",
      "predicted saturation load (local_bw:R2R_bw = 2:1) = 0.21058823529411766\n"
     ]
    }
   ],
   "source": [
    "print(f'under uniform traffic')\n",
    "print(f'predicted saturation load (local_bw:R2R_bw = 1:1) = {local_link_load/max(link_loads)}')\n",
    "print(f'predicted saturation load (local_bw:R2R_bw = 1:2) = {local_link_load*2/max(link_loads)}')\n",
    "print(f'predicted saturation load (local_bw:R2R_bw = 2:1) = {local_link_load/(2*max(link_loads))}')"
   ]
  },
  {
   "cell_type": "code",
   "execution_count": 5,
   "metadata": {},
   "outputs": [
    {
     "name": "stdout",
     "output_type": "stream",
     "text": [
      "calculation done for (36, 5) with unipath routing\n"
     ]
    }
   ],
   "source": [
    "shift_traffic_matrix=gl.generate_shift_traffic_pattern(config[0], EPR)\n",
    "# R2R_uniform=gl.convert_p2p_traffic_matrix_to_R2R(uniform_traffic_matrix, config[0], EPR)\n",
    "results, _, path_dict = gl.calculate_DDF_routing(_network, config)\n",
    "link_loads, local_link_load=_network.distribute_arbitrary_flow_on_paths_with_EPs(path_dict, EPR, shift_traffic_matrix)"
   ]
  },
  {
   "cell_type": "code",
   "execution_count": 6,
   "metadata": {},
   "outputs": [
    {
     "name": "stdout",
     "output_type": "stream",
     "text": [
      "under shift traffic\n",
      "predicted saturation load (local_bw:R2R_bw = 1:1) = 0.1\n",
      "predicted saturation load (local_bw:R2R_bw = 1:2) = 0.2\n",
      "predicted saturation load (local_bw:R2R_bw = 2:1) = 0.05\n"
     ]
    }
   ],
   "source": [
    "print(f'under shift traffic')\n",
    "print(f'predicted saturation load (local_bw:R2R_bw = 1:1) = {local_link_load/max(link_loads)}')\n",
    "print(f'predicted saturation load (local_bw:R2R_bw = 1:2) = {local_link_load*2/max(link_loads)}')\n",
    "print(f'predicted saturation load (local_bw:R2R_bw = 2:1) = {local_link_load/(2*max(link_loads))}')"
   ]
  }
 ],
 "metadata": {
  "kernelspec": {
   "display_name": "Python 3",
   "language": "python",
   "name": "python3"
  },
  "language_info": {
   "codemirror_mode": {
    "name": "ipython",
    "version": 3
   },
   "file_extension": ".py",
   "mimetype": "text/x-python",
   "name": "python",
   "nbconvert_exporter": "python",
   "pygments_lexer": "ipython3",
   "version": "3.8.5"
  },
  "orig_nbformat": 4
 },
 "nbformat": 4,
 "nbformat_minor": 2
}
