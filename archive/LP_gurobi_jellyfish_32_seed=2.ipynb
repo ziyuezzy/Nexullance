{
 "cells": [
  {
   "cell_type": "code",
   "execution_count": 1,
   "metadata": {},
   "outputs": [],
   "source": [
    "import nexullance.LP_gurobi as LP\n",
    "import pickle\n",
    "import topologies.RRG as RRG\n",
    "import globals as gl"
   ]
  },
  {
   "cell_type": "code",
   "execution_count": 2,
   "metadata": {},
   "outputs": [],
   "source": [
    "config=(32, 6)\n",
    "EPR=3\n",
    "topo='ddf'\n",
    "_network=RRG.RRGtopo(config[0], config[1], 2) # The last int: Seed for RRG\n",
    "edge_list=list(_network.nx_graph.edges())"
   ]
  },
  {
   "cell_type": "markdown",
   "metadata": {},
   "source": [
    "# Uniform traffic"
   ]
  },
  {
   "cell_type": "code",
   "execution_count": 3,
   "metadata": {},
   "outputs": [],
   "source": [
    "uniform_traffic_matrix=gl.generate_uniform_traffic_pattern(config[0], EPR)\n",
    "R2R_uniform=gl.convert_p2p_traffic_matrix_to_R2R(uniform_traffic_matrix, config[0], EPR)"
   ]
  },
  {
   "cell_type": "markdown",
   "metadata": {},
   "source": [
    "### Using all shortest paths"
   ]
  },
  {
   "cell_type": "code",
   "execution_count": 4,
   "metadata": {},
   "outputs": [
    {
     "name": "stdout",
     "output_type": "stream",
     "text": [
      "calculation done for (32, 6) with shortest paths routing\n",
      "predicted saturation load (before optimization) = 0.7075580059728909\n"
     ]
    },
    {
     "data": {
      "text/plain": [
       "{'diameter': 3,\n",
       " 'ave_path_length_statistics': [1.0, 2.0463709677419355, 3.0],\n",
       " 'num_paths_statistics': [1, 2.3951612903225805, 11],\n",
       " 'link_load_statistics': [5.226190476190476,\n",
       "  10.572916666666666,\n",
       "  14.91829004329004]}"
      ]
     },
     "metadata": {},
     "output_type": "display_data"
    },
    {
     "name": "stdout",
     "output_type": "stream",
     "text": [
      "Set parameter WLSAccessID\n",
      "Set parameter WLSSecret\n",
      "Set parameter LicenseID to value 2411299\n",
      "Academic license - for non-commercial use only - registered to ziyue.zhang@ugent.be\n",
      "number of variables = 2568, number of constraints = 658\n",
      "Optimal solution found\n",
      "Max link load is: 95.5531914893617\n",
      "predicted saturation load (after optimization) = 0.9942106435092284\n"
     ]
    }
   ],
   "source": [
    "results, _, path_dict = gl.calculate_data_shortest_paths(_network, config)\n",
    "link_loads, local_link_load=_network.distribute_arbitrary_flow_on_paths_with_EPs(path_dict, EPR, uniform_traffic_matrix)\n",
    "print(f'predicted saturation load (before optimization) = {local_link_load/max(link_loads)}')\n",
    "display(results)\n",
    "all_weighted_paths, result_link_loads=LP.Solve_load_balancing(path_dict, edge_list,R2R_uniform, _verbose=0)\n",
    "link_loads, local_link_load=_network.distribute_arbitrary_flow_on_weighted_paths_with_EPs(all_weighted_paths, EPR, uniform_traffic_matrix)\n",
    "print(f'predicted saturation load (after optimization) = {local_link_load/max(link_loads)}')\n"
   ]
  },
  {
   "cell_type": "markdown",
   "metadata": {},
   "source": [
    "### Using shorter-than-3 paths"
   ]
  },
  {
   "cell_type": "code",
   "execution_count": 5,
   "metadata": {},
   "outputs": [
    {
     "name": "stdout",
     "output_type": "stream",
     "text": [
      "calculation done for (32, 6) with shorter-than-3 paths routing\n",
      "predicted saturation load (before optimization) = 0.6336350643163412\n"
     ]
    },
    {
     "data": {
      "text/plain": [
       "{'diameter': 3,\n",
       " 'ave_path_length_statistics': [2.0, 2.747481293348229, 3.0],\n",
       " 'num_paths_statistics': [1, 5.872983870967742, 11],\n",
       " 'link_load_statistics': [12.289682539682534,\n",
       "  14.195320015632506,\n",
       "  16.65873015873015]}"
      ]
     },
     "metadata": {},
     "output_type": "display_data"
    },
    {
     "name": "stdout",
     "output_type": "stream",
     "text": [
      "Set parameter WLSAccessID\n",
      "Set parameter WLSSecret\n",
      "Set parameter LicenseID to value 2411299\n",
      "Academic license - for non-commercial use only - registered to ziyue.zhang@ugent.be\n",
      "number of variables = 6018, number of constraints = 1180\n",
      "Optimal solution found\n",
      "Max link load is: 95.5531914893617\n",
      "predicted saturation load (after optimization) = 0.99421064350922\n"
     ]
    }
   ],
   "source": [
    "results, _, path_dict = gl.calculate_data_paths_within_length(_network, config, 3)\n",
    "link_loads, local_link_load=_network.distribute_arbitrary_flow_on_paths_with_EPs(path_dict, EPR, uniform_traffic_matrix)\n",
    "print(f'predicted saturation load (before optimization) = {local_link_load/max(link_loads)}')\n",
    "display(results)\n",
    "all_weighted_paths, result_link_loads=LP.Solve_load_balancing(path_dict, edge_list,R2R_uniform, _verbose=0)\n",
    "link_loads, local_link_load=_network.distribute_arbitrary_flow_on_weighted_paths_with_EPs(all_weighted_paths, EPR, uniform_traffic_matrix)\n",
    "print(f'predicted saturation load (after optimization) = {local_link_load/max(link_loads)}')"
   ]
  },
  {
   "cell_type": "markdown",
   "metadata": {},
   "source": [
    "### Using shorter-than-4 paths"
   ]
  },
  {
   "cell_type": "code",
   "execution_count": 6,
   "metadata": {},
   "outputs": [
    {
     "name": "stdout",
     "output_type": "stream",
     "text": [
      "calculation done for (32, 6) with shorter-than-4 paths routing\n",
      "predicted saturation load (before optimization) = 0.5138373006082724\n"
     ]
    },
    {
     "data": {
      "text/plain": [
       "{'diameter': 3,\n",
       " 'ave_path_length_statistics': [3.3125, 3.73219757787712, 3.9375],\n",
       " 'num_paths_statistics': [13, 28.22983870967742, 42],\n",
       " 'link_load_statistics': [17.633836807054276,\n",
       "  19.283020819031854,\n",
       "  20.542602771460892]}"
      ]
     },
     "metadata": {},
     "output_type": "display_data"
    },
    {
     "name": "stdout",
     "output_type": "stream",
     "text": [
      "Set parameter WLSAccessID\n",
      "Set parameter WLSSecret\n",
      "Set parameter LicenseID to value 2411299\n",
      "Academic license - for non-commercial use only - registered to ziyue.zhang@ugent.be\n",
      "number of variables = 28196, number of constraints = 1184\n",
      "Optimal solution found\n",
      "Max link load is: 95.55319148936171\n",
      "predicted saturation load (after optimization) = 0.9942106435092248\n"
     ]
    }
   ],
   "source": [
    "results, _, path_dict = gl.calculate_data_paths_within_length(_network, config, 4)\n",
    "link_loads, local_link_load=_network.distribute_arbitrary_flow_on_paths_with_EPs(path_dict, EPR, uniform_traffic_matrix)\n",
    "print(f'predicted saturation load (before optimization) = {local_link_load/max(link_loads)}')\n",
    "display(results)\n",
    "all_weighted_paths, result_link_loads=LP.Solve_load_balancing(path_dict, edge_list,R2R_uniform, _verbose=0)\n",
    "link_loads, local_link_load=_network.distribute_arbitrary_flow_on_weighted_paths_with_EPs(all_weighted_paths, EPR, uniform_traffic_matrix)\n",
    "print(f'predicted saturation load (after optimization) = {local_link_load/max(link_loads)}')"
   ]
  },
  {
   "cell_type": "markdown",
   "metadata": {},
   "source": [
    "# With shift traffic"
   ]
  },
  {
   "cell_type": "code",
   "execution_count": 3,
   "metadata": {},
   "outputs": [],
   "source": [
    "shift_traffic_matrix=gl.generate_shift_traffic_pattern(config[0], EPR)\n",
    "R2R_shift=gl.convert_p2p_traffic_matrix_to_R2R(shift_traffic_matrix, config[0], EPR)"
   ]
  },
  {
   "cell_type": "markdown",
   "metadata": {},
   "source": [
    "### Using all shortest paths"
   ]
  },
  {
   "cell_type": "code",
   "execution_count": 8,
   "metadata": {},
   "outputs": [
    {
     "name": "stdout",
     "output_type": "stream",
     "text": [
      "calculation done for (32, 6) with shortest paths routing\n",
      "predicted saturation load (before optimization) = 0.16666666666666666\n"
     ]
    },
    {
     "data": {
      "text/plain": [
       "{'diameter': 3,\n",
       " 'ave_path_length_statistics': [1.0, 2.0463709677419355, 3.0],\n",
       " 'num_paths_statistics': [1, 2.3951612903225805, 11],\n",
       " 'link_load_statistics': [5.226190476190476,\n",
       "  10.572916666666666,\n",
       "  14.91829004329004]}"
      ]
     },
     "metadata": {},
     "output_type": "display_data"
    },
    {
     "name": "stdout",
     "output_type": "stream",
     "text": [
      "Set parameter WLSAccessID\n",
      "Set parameter WLSSecret\n",
      "Set parameter LicenseID to value 2411299\n",
      "Academic license - for non-commercial use only - registered to ziyue.zhang@ugent.be\n",
      "number of variables = 2568, number of constraints = 658\n",
      "Optimal solution found\n",
      "Max link load is: 6.0\n",
      "predicted saturation load (after optimization) = 0.16666666666666666\n"
     ]
    }
   ],
   "source": [
    "results, _, path_dict = gl.calculate_data_shortest_paths(_network, config)\n",
    "link_loads, local_link_load=_network.distribute_arbitrary_flow_on_paths_with_EPs(path_dict, EPR, shift_traffic_matrix)\n",
    "print(f'predicted saturation load (before optimization) = {local_link_load/max(link_loads)}')\n",
    "display(results)\n",
    "all_weighted_paths, result_link_loads=LP.Solve_load_balancing(path_dict, edge_list,R2R_shift, _verbose=0)\n",
    "link_loads, local_link_load=_network.distribute_arbitrary_flow_on_weighted_paths_with_EPs(all_weighted_paths, EPR, shift_traffic_matrix)\n",
    "print(f'predicted saturation load (after optimization) = {local_link_load/max(link_loads)}')\n"
   ]
  },
  {
   "cell_type": "markdown",
   "metadata": {},
   "source": [
    "### Using shorter-than-3 paths"
   ]
  },
  {
   "cell_type": "code",
   "execution_count": 9,
   "metadata": {},
   "outputs": [
    {
     "name": "stdout",
     "output_type": "stream",
     "text": [
      "calculation done for (32, 6) with shorter-than-3 paths routing\n",
      "predicted saturation load (before optimization) = 0.30501089324618735\n"
     ]
    },
    {
     "data": {
      "text/plain": [
       "{'diameter': 3,\n",
       " 'ave_path_length_statistics': [2.0, 2.747481293348229, 3.0],\n",
       " 'num_paths_statistics': [1, 5.872983870967742, 11],\n",
       " 'link_load_statistics': [12.289682539682534,\n",
       "  14.195320015632506,\n",
       "  16.65873015873015]}"
      ]
     },
     "metadata": {},
     "output_type": "display_data"
    },
    {
     "name": "stdout",
     "output_type": "stream",
     "text": [
      "Set parameter WLSAccessID\n",
      "Set parameter WLSSecret\n",
      "Set parameter LicenseID to value 2411299\n",
      "Academic license - for non-commercial use only - registered to ziyue.zhang@ugent.be\n",
      "number of variables = 6018, number of constraints = 1180\n",
      "Optimal solution found\n",
      "Max link load is: 1.6991150442477876\n",
      "predicted saturation load (after optimization) = 0.5885416666666646\n"
     ]
    }
   ],
   "source": [
    "results, _, path_dict = gl.calculate_data_paths_within_length(_network, config, 3)\n",
    "link_loads, local_link_load=_network.distribute_arbitrary_flow_on_paths_with_EPs(path_dict, EPR, shift_traffic_matrix)\n",
    "print(f'predicted saturation load (before optimization) = {local_link_load/max(link_loads)}')\n",
    "display(results)\n",
    "all_weighted_paths, result_link_loads=LP.Solve_load_balancing(path_dict, edge_list,R2R_shift, _verbose=0)\n",
    "link_loads, local_link_load=_network.distribute_arbitrary_flow_on_weighted_paths_with_EPs(all_weighted_paths, EPR, shift_traffic_matrix)\n",
    "print(f'predicted saturation load (after optimization) = {local_link_load/max(link_loads)}')"
   ]
  },
  {
   "cell_type": "markdown",
   "metadata": {},
   "source": [
    "### Using shorter-than-4 paths"
   ]
  },
  {
   "cell_type": "code",
   "execution_count": 10,
   "metadata": {},
   "outputs": [
    {
     "name": "stdout",
     "output_type": "stream",
     "text": [
      "calculation done for (32, 6) with shorter-than-4 paths routing\n",
      "predicted saturation load (before optimization) = 0.38401726872691766\n"
     ]
    },
    {
     "data": {
      "text/plain": [
       "{'diameter': 3,\n",
       " 'ave_path_length_statistics': [3.3125, 3.73219757787712, 3.9375],\n",
       " 'num_paths_statistics': [13, 28.22983870967742, 42],\n",
       " 'link_load_statistics': [17.633836807054276,\n",
       "  19.283020819031854,\n",
       "  20.542602771460892]}"
      ]
     },
     "metadata": {},
     "output_type": "display_data"
    },
    {
     "name": "stdout",
     "output_type": "stream",
     "text": [
      "Set parameter WLSAccessID\n",
      "Set parameter WLSSecret\n",
      "Set parameter LicenseID to value 2411299\n",
      "Academic license - for non-commercial use only - registered to ziyue.zhang@ugent.be\n",
      "number of variables = 28196, number of constraints = 1184\n",
      "Optimal solution found\n",
      "Max link load is: 1.4999999999999998\n",
      "predicted saturation load (after optimization) = 0.6666666666666599\n"
     ]
    }
   ],
   "source": [
    "results, _, path_dict = gl.calculate_data_paths_within_length(_network, config, 4)\n",
    "link_loads, local_link_load=_network.distribute_arbitrary_flow_on_paths_with_EPs(path_dict, EPR, shift_traffic_matrix)\n",
    "print(f'predicted saturation load (before optimization) = {local_link_load/max(link_loads)}')\n",
    "display(results)\n",
    "all_weighted_paths, result_link_loads=LP.Solve_load_balancing(path_dict, edge_list,R2R_shift, _verbose=0)\n",
    "link_loads, local_link_load=_network.distribute_arbitrary_flow_on_weighted_paths_with_EPs(all_weighted_paths, EPR, shift_traffic_matrix)\n",
    "print(f'predicted saturation load (after optimization) = {local_link_load/max(link_loads)}')"
   ]
  },
  {
   "cell_type": "markdown",
   "metadata": {},
   "source": [
    "### Using shorter-than-5 paths"
   ]
  },
  {
   "cell_type": "code",
   "execution_count": 4,
   "metadata": {},
   "outputs": [
    {
     "name": "stdout",
     "output_type": "stream",
     "text": [
      "calculation done for (32, 6) with shorter-than-5 paths routing\n",
      "predicted saturation load (before optimization) = 0.3485308287086796\n"
     ]
    },
    {
     "data": {
      "text/plain": [
       "{'diameter': 3,\n",
       " 'ave_path_length_statistics': [4.527027027027027,\n",
       "  4.726408559675101,\n",
       "  4.842105263157895],\n",
       " 'num_paths_statistics': [74, 131.69354838709677, 174],\n",
       " 'link_load_statistics': [21.370881914126894,\n",
       "  24.419777558321307,\n",
       "  26.064459309352696]}"
      ]
     },
     "metadata": {},
     "output_type": "display_data"
    },
    {
     "name": "stdout",
     "output_type": "stream",
     "text": [
      "Set parameter WLSAccessID\n",
      "Set parameter WLSSecret\n",
      "Set parameter LicenseID to value 2411299\n",
      "Academic license - for non-commercial use only - registered to ziyue.zhang@ugent.be\n",
      "number of variables = 130832, number of constraints = 1184\n",
      "Optimal solution found\n",
      "Max link load is: 1.5\n",
      "predicted saturation load (after optimization) = 0.6666666666665603\n"
     ]
    }
   ],
   "source": [
    "results, _, path_dict = gl.calculate_data_paths_within_length(_network, config, 5)\n",
    "link_loads, local_link_load=_network.distribute_arbitrary_flow_on_paths_with_EPs(path_dict, EPR, shift_traffic_matrix)\n",
    "print(f'predicted saturation load (before optimization) = {local_link_load/max(link_loads)}')\n",
    "display(results)\n",
    "all_weighted_paths, result_link_loads=LP.Solve_load_balancing(path_dict, edge_list,R2R_shift, _verbose=0)\n",
    "link_loads, local_link_load=_network.distribute_arbitrary_flow_on_weighted_paths_with_EPs(all_weighted_paths, EPR, shift_traffic_matrix)\n",
    "print(f'predicted saturation load (after optimization) = {local_link_load/max(link_loads)}')"
   ]
  },
  {
   "cell_type": "markdown",
   "metadata": {},
   "source": [
    "### Using shorter-than-6 paths"
   ]
  },
  {
   "cell_type": "code",
   "execution_count": 12,
   "metadata": {},
   "outputs": [],
   "source": [
    "# results, _, path_dict = gl.calculate_data_paths_within_length(_network, config, 6)\n",
    "# link_loads, local_link_load=_network.distribute_arbitrary_flow_on_paths_with_EPs(path_dict, EPR, shift_traffic_matrix)\n",
    "# print(f'predicted saturation load (before optimization) = {local_link_load/max(link_loads)}')\n",
    "# display(results)\n",
    "# all_weighted_paths, result_link_loads=LP.Solve_load_balancing(path_dict, edge_list,R2R_shift, _verbose=0)\n",
    "# link_loads, local_link_load=_network.distribute_arbitrary_flow_on_weighted_paths_with_EPs(all_weighted_paths, EPR, shift_traffic_matrix)\n",
    "# print(f'predicted saturation load (after optimization) = {local_link_load/max(link_loads)}')"
   ]
  },
  {
   "cell_type": "code",
   "execution_count": null,
   "metadata": {},
   "outputs": [],
   "source": []
  }
 ],
 "metadata": {
  "kernelspec": {
   "display_name": "Python 3",
   "language": "python",
   "name": "python3"
  },
  "language_info": {
   "codemirror_mode": {
    "name": "ipython",
    "version": 3
   },
   "file_extension": ".py",
   "mimetype": "text/x-python",
   "name": "python",
   "nbconvert_exporter": "python",
   "pygments_lexer": "ipython3",
   "version": "3.8.5"
  },
  "orig_nbformat": 4
 },
 "nbformat": 4,
 "nbformat_minor": 2
}
