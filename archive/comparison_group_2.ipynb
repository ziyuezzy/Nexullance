{
 "cells": [
  {
   "cell_type": "code",
   "execution_count": null,
   "metadata": {},
   "outputs": [],
   "source": [
    "from globals import *\n",
    "import topologies.RRG as RRG\n",
    "import topologies.Slimfly as Slimfly\n",
    "import topologies.Equality as Equality\n",
    "# import topologies.GDBG as GDBG\n",
    "import topologies.DDF as DDF\n",
    "import pickle"
   ]
  },
  {
   "cell_type": "code",
   "execution_count": null,
   "metadata": {},
   "outputs": [],
   "source": [
    "sf_config = (1058, 35)\n",
    "jf_config =  (1058, 35)\n",
    "eq_config = (1000, 33, [-1, 1, 27, 39, 45, 105, 215, 327, 365, 401, 455, 491, 523, 545, 547, 605, 653, 701, 715, 771, 801, 813, 865, 875, 955], [70, 180, 320, 430], \"E442\")"
   ]
  },
  {
   "cell_type": "code",
   "execution_count": null,
   "metadata": {},
   "outputs": [],
   "source": [
    "sf_edge_list=pickle.load(open(f'pickled_data/graphs_and_paths/(1058, 35)_slimfly_edgelist.pickle', 'rb'))\n",
    "sf_path_dict=pickle.load(open(f'pickled_data/graphs_and_paths/all_shortest_paths_(1058, 35)_slimfly_paths.pickle', 'rb'))\n",
    "jf_edge_list=pickle.load(open(f'pickled_data/graphs_and_paths/(1058, 35)_jellyfish_edgelist.pickle', 'rb'))\n",
    "jf_path_dict=pickle.load(open(f'pickled_data/graphs_and_paths/all_shortest_paths_(1058, 35)_jellyfish_paths.pickle', 'rb'))\n",
    "eq_edge_list=pickle.load(open(f'pickled_data/graphs_and_paths/E442_equality_edgelist.pickle', 'rb'))\n",
    "eq_path_dict=pickle.load(open(f'pickled_data/graphs_and_paths/all_shortest_paths_E442_equality_paths.pickle', 'rb'))\n",
    "\n",
    "sf=Slimfly.Slimflytopo(sf_edge_list)\n",
    "jf=RRG.RRGtopo(jf_edge_list)\n",
    "eq=Equality.Equalitytopo(eq_edge_list)"
   ]
  },
  {
   "cell_type": "code",
   "execution_count": null,
   "metadata": {},
   "outputs": [],
   "source": [
    "sf_link_occ, sf_local_link_occ, sf_link_load, sf_local_link_load = sf.distribute_uniform_flow_on_paths_with_EP(sf_path_dict, 18)\n",
    "jf_link_occ, jf_local_link_occ, jf_link_load, jf_local_link_load = jf.distribute_uniform_flow_on_paths_with_EP(jf_path_dict, 18)\n",
    "eq_link_occ, eq_local_link_occ, eq_link_load, eq_local_link_load = eq.distribute_uniform_flow_on_paths_with_EP(eq_path_dict, 18)"
   ]
  },
  {
   "cell_type": "code",
   "execution_count": null,
   "metadata": {},
   "outputs": [],
   "source": [
    "print(\"sf link occupancy rate (min, ave, max) = {}, {}, {}\".format(min(sf_link_occ), mean(sf_link_occ), max(sf_link_occ)))\n",
    "print(\"sf local link occupancy rate (min, ave, max) = {}, {}, {}\".format(min(sf_local_link_occ), mean(sf_local_link_occ), max(sf_local_link_occ)))\n",
    "print(\"sf link load (min, ave, max) = {}, {}, {}\".format(min(sf_link_load), mean(sf_link_load), max(sf_link_load)))\n",
    "print(\"sf local link load (min, ave, max) = {}, {}, {}\".format(min(sf_local_link_load), mean(sf_local_link_load), max(sf_local_link_load)))"
   ]
  },
  {
   "cell_type": "code",
   "execution_count": null,
   "metadata": {},
   "outputs": [],
   "source": [
    "print(\"jf link occupancy rate (min, ave, max) = {}, {}, {}\".format(min(jf_link_occ), mean(jf_link_occ), max(jf_link_occ)))\n",
    "print(\"jf local link occupancy rate (min, ave, max) = {}, {}, {}\".format(min(jf_local_link_occ), mean(jf_local_link_occ), max(jf_local_link_occ)))\n",
    "print(\"jf link load (min, ave, max) = {}, {}, {}\".format(min(jf_link_load), mean(jf_link_load), max(jf_link_load)))\n",
    "print(\"jf local link load (min, ave, max) = {}, {}, {}\".format(min(jf_local_link_load), mean(jf_local_link_load), max(jf_local_link_load)))"
   ]
  },
  {
   "cell_type": "code",
   "execution_count": null,
   "metadata": {},
   "outputs": [],
   "source": [
    "print(\"eq link occupancy rate (min, ave, max) = {}, {}, {}\".format(min(eq_link_occ), mean(eq_link_occ), max(eq_link_occ)))\n",
    "print(\"eq local link occupancy rate (min, ave, max) = {}, {}, {}\".format(min(eq_local_link_occ), mean(eq_local_link_occ), max(eq_local_link_occ)))\n",
    "print(\"eq link load (min, ave, max) = {}, {}, {}\".format(min(eq_link_load), mean(eq_link_load), max(eq_link_load)))\n",
    "print(\"eq local link load (min, ave, max) = {}, {}, {}\".format(min(eq_local_link_load), mean(eq_local_link_load), max(eq_local_link_load)))"
   ]
  }
 ],
 "metadata": {
  "kernelspec": {
   "display_name": "Python 3",
   "language": "python",
   "name": "python3"
  },
  "language_info": {
   "codemirror_mode": {
    "name": "ipython",
    "version": 3
   },
   "file_extension": ".py",
   "mimetype": "text/x-python",
   "name": "python",
   "nbconvert_exporter": "python",
   "pygments_lexer": "ipython3",
   "version": "3.8.5"
  },
  "orig_nbformat": 4
 },
 "nbformat": 4,
 "nbformat_minor": 2
}
