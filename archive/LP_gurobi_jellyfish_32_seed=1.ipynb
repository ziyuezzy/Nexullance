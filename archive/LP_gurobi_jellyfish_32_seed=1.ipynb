{
 "cells": [
  {
   "cell_type": "code",
   "execution_count": 1,
   "metadata": {},
   "outputs": [],
   "source": [
    "import lp_load_balancing.LP_gurobi as LP\n",
    "import pickle\n",
    "import topologies.RRG as RRG\n",
    "import globals as gl"
   ]
  },
  {
   "cell_type": "code",
   "execution_count": 2,
   "metadata": {},
   "outputs": [],
   "source": [
    "config=(32, 6)\n",
    "EPR=3\n",
    "topo='ddf'\n",
    "_network=RRG.RRGtopo(config[0], config[1], 1) # The last int: Seed for RRG\n",
    "edge_list=list(_network.nx_graph.edges())"
   ]
  },
  {
   "cell_type": "markdown",
   "metadata": {},
   "source": [
    "# Uniform traffic"
   ]
  },
  {
   "cell_type": "code",
   "execution_count": 3,
   "metadata": {},
   "outputs": [],
   "source": [
    "uniform_traffic_matrix=gl.generate_uniform_traffic_pattern(config[0], EPR)\n",
    "R2R_uniform=gl.convert_p2p_traffic_matrix_to_R2R(uniform_traffic_matrix, config[0], EPR)"
   ]
  },
  {
   "cell_type": "markdown",
   "metadata": {},
   "source": [
    "### Using all shortest paths"
   ]
  },
  {
   "cell_type": "code",
   "execution_count": 4,
   "metadata": {},
   "outputs": [
    {
     "name": "stdout",
     "output_type": "stream",
     "text": [
      "calculation done for (32, 6) with shortest paths routing\n",
      "predicted saturation load (before optimization) = 0.5963858122954132\n"
     ]
    },
    {
     "data": {
      "text/plain": [
       "{'diameter': 3,\n",
       " 'ave_path_length_statistics': [1.0, 2.0423387096774195, 3.0],\n",
       " 'num_paths_statistics': [1, 2.2701612903225805, 9],\n",
       " 'link_load_statistics': [4.852777777777778,\n",
       "  10.552083333333332,\n",
       "  17.699206349206346]}"
      ]
     },
     "metadata": {},
     "output_type": "display_data"
    },
    {
     "name": "stdout",
     "output_type": "stream",
     "text": [
      "Set parameter WLSAccessID\n",
      "Set parameter WLSSecret\n",
      "Set parameter LicenseID to value 2411299\n",
      "Academic license - for non-commercial use only - registered to ziyue.zhang@ugent.be\n",
      "number of variables = 2444, number of constraints = 646\n",
      "Optimal solution found\n",
      "Max link load is: 109.22727272727273\n",
      "predicted saturation load (after optimization) = 0.8697461506450261\n"
     ]
    }
   ],
   "source": [
    "results, _, path_dict = gl.calculate_data_shortest_paths(_network, config)\n",
    "link_loads, local_link_load=_network.distribute_arbitrary_flow_on_paths_with_EPs(path_dict, EPR, uniform_traffic_matrix)\n",
    "print(f'predicted saturation load (before optimization) = {local_link_load/max(link_loads)}')\n",
    "display(results)\n",
    "all_weighted_paths, result_link_loads=LP.Solve_load_balancing(path_dict, edge_list,R2R_uniform, _verbose=0)\n",
    "link_loads, local_link_load=_network.distribute_arbitrary_flow_on_weighted_paths_with_EPs(all_weighted_paths, EPR, uniform_traffic_matrix)\n",
    "print(f'predicted saturation load (after optimization) = {local_link_load/max(link_loads)}')\n"
   ]
  },
  {
   "cell_type": "markdown",
   "metadata": {},
   "source": [
    "### Using shorter-than-3 paths"
   ]
  },
  {
   "cell_type": "code",
   "execution_count": 5,
   "metadata": {},
   "outputs": [
    {
     "name": "stdout",
     "output_type": "stream",
     "text": [
      "calculation done for (32, 6) with shorter-than-3 paths routing\n",
      "predicted saturation load (before optimization) = 0.5793187559891977\n"
     ]
    },
    {
     "data": {
      "text/plain": [
       "{'diameter': 3,\n",
       " 'ave_path_length_statistics': [1.6666666666666667, 2.746577744612019, 3.0],\n",
       " 'num_paths_statistics': [1, 5.860887096774194, 12],\n",
       " 'link_load_statistics': [12.09545454545454,\n",
       "  14.19065168049542,\n",
       "  18.22063492063491]}"
      ]
     },
     "metadata": {},
     "output_type": "display_data"
    },
    {
     "name": "stdout",
     "output_type": "stream",
     "text": [
      "Set parameter WLSAccessID\n",
      "Set parameter WLSSecret\n",
      "Set parameter LicenseID to value 2411299\n",
      "Academic license - for non-commercial use only - registered to ziyue.zhang@ugent.be\n",
      "number of variables = 6006, number of constraints = 1178\n",
      "Optimal solution found\n",
      "Max link load is: 104.31818181818183\n",
      "predicted saturation load (after optimization) = 0.9106753812636115\n"
     ]
    }
   ],
   "source": [
    "results, _, path_dict = gl.calculate_data_paths_within_length(_network, config, 3)\n",
    "link_loads, local_link_load=_network.distribute_arbitrary_flow_on_paths_with_EPs(path_dict, EPR, uniform_traffic_matrix)\n",
    "print(f'predicted saturation load (before optimization) = {local_link_load/max(link_loads)}')\n",
    "display(results)\n",
    "all_weighted_paths, result_link_loads=LP.Solve_load_balancing(path_dict, edge_list,R2R_uniform, _verbose=0)\n",
    "link_loads, local_link_load=_network.distribute_arbitrary_flow_on_weighted_paths_with_EPs(all_weighted_paths, EPR, uniform_traffic_matrix)\n",
    "print(f'predicted saturation load (after optimization) = {local_link_load/max(link_loads)}')"
   ]
  },
  {
   "cell_type": "markdown",
   "metadata": {},
   "source": [
    "### Using shorter-than-4 paths"
   ]
  },
  {
   "cell_type": "code",
   "execution_count": 6,
   "metadata": {},
   "outputs": [
    {
     "name": "stdout",
     "output_type": "stream",
     "text": [
      "calculation done for (32, 6) with shorter-than-4 paths routing\n",
      "predicted saturation load (before optimization) = 0.5052285488094287\n"
     ]
    },
    {
     "data": {
      "text/plain": [
       "{'diameter': 3,\n",
       " 'ave_path_length_statistics': [3.3333333333333335,\n",
       "  3.734411775221683,\n",
       "  3.966666666666667],\n",
       " 'num_paths_statistics': [15, 28.16532258064516, 42],\n",
       " 'link_load_statistics': [16.491357493958255,\n",
       "  19.29446083864544,\n",
       "  20.892634789601196]}"
      ]
     },
     "metadata": {},
     "output_type": "display_data"
    },
    {
     "name": "stdout",
     "output_type": "stream",
     "text": [
      "Set parameter WLSAccessID\n",
      "Set parameter WLSSecret\n",
      "Set parameter LicenseID to value 2411299\n",
      "Academic license - for non-commercial use only - registered to ziyue.zhang@ugent.be\n",
      "number of variables = 28132, number of constraints = 1184\n",
      "Optimal solution found\n",
      "Max link load is: 104.31818181818181\n",
      "predicted saturation load (after optimization) = 0.910675381263588\n"
     ]
    }
   ],
   "source": [
    "results, _, path_dict = gl.calculate_data_paths_within_length(_network, config, 4)\n",
    "link_loads, local_link_load=_network.distribute_arbitrary_flow_on_paths_with_EPs(path_dict, EPR, uniform_traffic_matrix)\n",
    "print(f'predicted saturation load (before optimization) = {local_link_load/max(link_loads)}')\n",
    "display(results)\n",
    "all_weighted_paths, result_link_loads=LP.Solve_load_balancing(path_dict, edge_list,R2R_uniform, _verbose=0)\n",
    "link_loads, local_link_load=_network.distribute_arbitrary_flow_on_weighted_paths_with_EPs(all_weighted_paths, EPR, uniform_traffic_matrix)\n",
    "print(f'predicted saturation load (after optimization) = {local_link_load/max(link_loads)}')"
   ]
  },
  {
   "cell_type": "markdown",
   "metadata": {},
   "source": [
    "# With shift traffic"
   ]
  },
  {
   "cell_type": "code",
   "execution_count": 3,
   "metadata": {},
   "outputs": [],
   "source": [
    "shift_traffic_matrix=gl.generate_shift_traffic_pattern(config[0], EPR)\n",
    "R2R_shift=gl.convert_p2p_traffic_matrix_to_R2R(shift_traffic_matrix, config[0], EPR)"
   ]
  },
  {
   "cell_type": "markdown",
   "metadata": {},
   "source": [
    "### Using all shortest paths"
   ]
  },
  {
   "cell_type": "code",
   "execution_count": 8,
   "metadata": {},
   "outputs": [
    {
     "name": "stdout",
     "output_type": "stream",
     "text": [
      "calculation done for (32, 6) with shortest paths routing\n",
      "predicted saturation load (before optimization) = 0.16666666666666666\n"
     ]
    },
    {
     "data": {
      "text/plain": [
       "{'diameter': 3,\n",
       " 'ave_path_length_statistics': [1.0, 2.0423387096774195, 3.0],\n",
       " 'num_paths_statistics': [1, 2.2701612903225805, 9],\n",
       " 'link_load_statistics': [4.852777777777778,\n",
       "  10.552083333333332,\n",
       "  17.699206349206346]}"
      ]
     },
     "metadata": {},
     "output_type": "display_data"
    },
    {
     "name": "stdout",
     "output_type": "stream",
     "text": [
      "Set parameter WLSAccessID\n",
      "Set parameter WLSSecret\n",
      "Set parameter LicenseID to value 2411299\n",
      "Academic license - for non-commercial use only - registered to ziyue.zhang@ugent.be\n",
      "number of variables = 2444, number of constraints = 646\n",
      "Optimal solution found\n",
      "Max link load is: 6.0\n",
      "predicted saturation load (after optimization) = 0.16666666666666666\n"
     ]
    }
   ],
   "source": [
    "results, _, path_dict = gl.calculate_data_shortest_paths(_network, config)\n",
    "link_loads, local_link_load=_network.distribute_arbitrary_flow_on_paths_with_EPs(path_dict, EPR, shift_traffic_matrix)\n",
    "print(f'predicted saturation load (before optimization) = {local_link_load/max(link_loads)}')\n",
    "display(results)\n",
    "all_weighted_paths, result_link_loads=LP.Solve_load_balancing(path_dict, edge_list,R2R_shift, _verbose=0)\n",
    "link_loads, local_link_load=_network.distribute_arbitrary_flow_on_weighted_paths_with_EPs(all_weighted_paths, EPR, shift_traffic_matrix)\n",
    "print(f'predicted saturation load (after optimization) = {local_link_load/max(link_loads)}')\n"
   ]
  },
  {
   "cell_type": "markdown",
   "metadata": {},
   "source": [
    "### Using shorter-than-3 paths"
   ]
  },
  {
   "cell_type": "code",
   "execution_count": 9,
   "metadata": {},
   "outputs": [
    {
     "name": "stdout",
     "output_type": "stream",
     "text": [
      "calculation done for (32, 6) with shorter-than-3 paths routing\n",
      "predicted saturation load (before optimization) = 0.32407407407407407\n"
     ]
    },
    {
     "data": {
      "text/plain": [
       "{'diameter': 3,\n",
       " 'ave_path_length_statistics': [1.6666666666666667, 2.746577744612019, 3.0],\n",
       " 'num_paths_statistics': [1, 5.860887096774194, 12],\n",
       " 'link_load_statistics': [12.09545454545454,\n",
       "  14.19065168049542,\n",
       "  18.22063492063491]}"
      ]
     },
     "metadata": {},
     "output_type": "display_data"
    },
    {
     "name": "stdout",
     "output_type": "stream",
     "text": [
      "Set parameter WLSAccessID\n",
      "Set parameter WLSSecret\n",
      "Set parameter LicenseID to value 2411299\n",
      "Academic license - for non-commercial use only - registered to ziyue.zhang@ugent.be\n",
      "number of variables = 6006, number of constraints = 1178\n",
      "Optimal solution found\n",
      "Max link load is: 1.8620689655172418\n",
      "predicted saturation load (after optimization) = 0.5370370370370362\n"
     ]
    }
   ],
   "source": [
    "results, _, path_dict = gl.calculate_data_paths_within_length(_network, config, 3)\n",
    "link_loads, local_link_load=_network.distribute_arbitrary_flow_on_paths_with_EPs(path_dict, EPR, shift_traffic_matrix)\n",
    "print(f'predicted saturation load (before optimization) = {local_link_load/max(link_loads)}')\n",
    "display(results)\n",
    "all_weighted_paths, result_link_loads=LP.Solve_load_balancing(path_dict, edge_list,R2R_shift, _verbose=0)\n",
    "link_loads, local_link_load=_network.distribute_arbitrary_flow_on_weighted_paths_with_EPs(all_weighted_paths, EPR, shift_traffic_matrix)\n",
    "print(f'predicted saturation load (after optimization) = {local_link_load/max(link_loads)}')"
   ]
  },
  {
   "cell_type": "markdown",
   "metadata": {},
   "source": [
    "### Using shorter-than-4 paths"
   ]
  },
  {
   "cell_type": "code",
   "execution_count": 10,
   "metadata": {},
   "outputs": [
    {
     "name": "stdout",
     "output_type": "stream",
     "text": [
      "calculation done for (32, 6) with shorter-than-4 paths routing\n",
      "predicted saturation load (before optimization) = 0.3989739552277498\n"
     ]
    },
    {
     "data": {
      "text/plain": [
       "{'diameter': 3,\n",
       " 'ave_path_length_statistics': [3.3333333333333335,\n",
       "  3.734411775221683,\n",
       "  3.966666666666667],\n",
       " 'num_paths_statistics': [15, 28.16532258064516, 42],\n",
       " 'link_load_statistics': [16.491357493958255,\n",
       "  19.29446083864544,\n",
       "  20.892634789601196]}"
      ]
     },
     "metadata": {},
     "output_type": "display_data"
    },
    {
     "name": "stdout",
     "output_type": "stream",
     "text": [
      "Set parameter WLSAccessID\n",
      "Set parameter WLSSecret\n",
      "Set parameter LicenseID to value 2411299\n",
      "Academic license - for non-commercial use only - registered to ziyue.zhang@ugent.be\n",
      "number of variables = 28132, number of constraints = 1184\n",
      "Optimal solution found\n",
      "Max link load is: 1.4659090909090906\n",
      "predicted saturation load (after optimization) = 0.6821705426356022\n"
     ]
    }
   ],
   "source": [
    "results, _, path_dict = gl.calculate_data_paths_within_length(_network, config, 4)\n",
    "link_loads, local_link_load=_network.distribute_arbitrary_flow_on_paths_with_EPs(path_dict, EPR, shift_traffic_matrix)\n",
    "print(f'predicted saturation load (before optimization) = {local_link_load/max(link_loads)}')\n",
    "display(results)\n",
    "all_weighted_paths, result_link_loads=LP.Solve_load_balancing(path_dict, edge_list,R2R_shift, _verbose=0)\n",
    "link_loads, local_link_load=_network.distribute_arbitrary_flow_on_weighted_paths_with_EPs(all_weighted_paths, EPR, shift_traffic_matrix)\n",
    "print(f'predicted saturation load (after optimization) = {local_link_load/max(link_loads)}')"
   ]
  },
  {
   "cell_type": "markdown",
   "metadata": {},
   "source": [
    "### Using shorter-than-5 paths"
   ]
  },
  {
   "cell_type": "code",
   "execution_count": 4,
   "metadata": {},
   "outputs": [
    {
     "name": "stdout",
     "output_type": "stream",
     "text": [
      "calculation done for (32, 6) with shorter-than-5 paths routing\n",
      "predicted saturation load (before optimization) = 0.33682755634340855\n"
     ]
    },
    {
     "data": {
      "text/plain": [
       "{'diameter': 3,\n",
       " 'ave_path_length_statistics': [4.5, 4.72733287456461, 4.859154929577465],\n",
       " 'num_paths_statistics': [70, 131.25201612903226, 168],\n",
       " 'link_load_statistics': [20.23601030737934,\n",
       "  24.424553185250403,\n",
       "  26.346056606064682]}"
      ]
     },
     "metadata": {},
     "output_type": "display_data"
    },
    {
     "name": "stdout",
     "output_type": "stream",
     "text": [
      "Set parameter WLSAccessID\n",
      "Set parameter WLSSecret\n",
      "Set parameter LicenseID to value 2411299\n",
      "Academic license - for non-commercial use only - registered to ziyue.zhang@ugent.be\n",
      "number of variables = 130394, number of constraints = 1184\n",
      "Optimal solution found\n",
      "Max link load is: 1.4587912087912085\n",
      "predicted saturation load (after optimization) = 0.6854990583803987\n"
     ]
    }
   ],
   "source": [
    "results, _, path_dict = gl.calculate_data_paths_within_length(_network, config, 5)\n",
    "link_loads, local_link_load=_network.distribute_arbitrary_flow_on_paths_with_EPs(path_dict, EPR, shift_traffic_matrix)\n",
    "print(f'predicted saturation load (before optimization) = {local_link_load/max(link_loads)}')\n",
    "display(results)\n",
    "all_weighted_paths, result_link_loads=LP.Solve_load_balancing(path_dict, edge_list,R2R_shift, _verbose=0)\n",
    "link_loads, local_link_load=_network.distribute_arbitrary_flow_on_weighted_paths_with_EPs(all_weighted_paths, EPR, shift_traffic_matrix)\n",
    "print(f'predicted saturation load (after optimization) = {local_link_load/max(link_loads)}')"
   ]
  },
  {
   "cell_type": "markdown",
   "metadata": {},
   "source": [
    "### Using shorter-than-6 paths"
   ]
  },
  {
   "cell_type": "code",
   "execution_count": 12,
   "metadata": {},
   "outputs": [],
   "source": [
    "# results, _, path_dict = gl.calculate_data_paths_within_length(_network, config, 6)\n",
    "# link_loads, local_link_load=_network.distribute_arbitrary_flow_on_paths_with_EPs(path_dict, EPR, shift_traffic_matrix)\n",
    "# print(f'predicted saturation load (before optimization) = {local_link_load/max(link_loads)}')\n",
    "# display(results)\n",
    "# all_weighted_paths, result_link_loads=LP.Solve_load_balancing(path_dict, edge_list,R2R_shift, _verbose=0)\n",
    "# link_loads, local_link_load=_network.distribute_arbitrary_flow_on_weighted_paths_with_EPs(all_weighted_paths, EPR, shift_traffic_matrix)\n",
    "# print(f'predicted saturation load (after optimization) = {local_link_load/max(link_loads)}')"
   ]
  },
  {
   "cell_type": "code",
   "execution_count": null,
   "metadata": {},
   "outputs": [],
   "source": []
  }
 ],
 "metadata": {
  "kernelspec": {
   "display_name": "Python 3",
   "language": "python",
   "name": "python3"
  },
  "language_info": {
   "codemirror_mode": {
    "name": "ipython",
    "version": 3
   },
   "file_extension": ".py",
   "mimetype": "text/x-python",
   "name": "python",
   "nbconvert_exporter": "python",
   "pygments_lexer": "ipython3",
   "version": "3.8.5"
  },
  "orig_nbformat": 4
 },
 "nbformat": 4,
 "nbformat_minor": 2
}
