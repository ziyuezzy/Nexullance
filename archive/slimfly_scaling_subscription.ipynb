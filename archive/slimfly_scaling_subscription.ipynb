{
 "cells": [
  {
   "cell_type": "code",
   "execution_count": null,
   "metadata": {},
   "outputs": [],
   "source": [
    "from globals import *\n",
    "import matplotlib.pyplot as plt\n",
    "# import topologies.RRG as RRG\n",
    "import topologies.Slimfly as Slimfly\n",
    "# import topologies.Equality as Equality\n",
    "# import topologies.GDBG as GDBG\n",
    "# import topologies.fake_GDBG as fake_GDBG\n",
    "import pickle\n",
    "import math"
   ]
  },
  {
   "cell_type": "code",
   "execution_count": null,
   "metadata": {},
   "outputs": [],
   "source": []
  }
 ],
 "metadata": {
  "language_info": {
   "name": "python"
  },
  "orig_nbformat": 4
 },
 "nbformat": 4,
 "nbformat_minor": 2
}
