{
 "cells": [
  {
   "cell_type": "code",
   "execution_count": 1,
   "metadata": {},
   "outputs": [],
   "source": [
    "from globals import *\n",
    "import topologies.RRG as RRG\n",
    "import topologies.Slimfly as Slimfly\n",
    "import topologies.Equality as Equality\n",
    "# import topologies.GDBG as GDBG\n",
    "import topologies.DDF as DDF\n",
    "import pickle"
   ]
  },
  {
   "cell_type": "code",
   "execution_count": 2,
   "metadata": {},
   "outputs": [],
   "source": [
    "sf_config = (722, 29)\n",
    "jf_config =  (722, 29)\n",
    "ddf_config = (1386, 20)"
   ]
  },
  {
   "cell_type": "code",
   "execution_count": 3,
   "metadata": {},
   "outputs": [],
   "source": [
    "sf_edge_list=pickle.load(open(f'pickled_data/graphs_and_paths/(722, 29)_slimfly_edgelist.pickle', 'rb'))\n",
    "sf_path_dict=pickle.load(open(f'pickled_data/graphs_and_paths/all_shortest_paths_(722, 29)_slimfly_paths.pickle', 'rb'))\n",
    "jf_edge_list=pickle.load(open(f'pickled_data/graphs_and_paths/(722, 29)_jellyfish_edgelist.pickle', 'rb'))\n",
    "jf_path_dict=pickle.load(open(f'pickled_data/graphs_and_paths/all_shortest_paths_(722, 29)_jellyfish_paths.pickle', 'rb'))\n",
    "ddf_edge_list=pickle.load(open(f'pickled_data/graphs_and_paths/(1386, 20)_ddf_edgelist.pickle', 'rb'))\n",
    "ddf_path_dict=pickle.load(open(f'pickled_data/graphs_and_paths/unipath_(1386, 20)_ddf_paths.pickle', 'rb'))\n",
    "\n",
    "sf=Slimfly.Slimflytopo(sf_edge_list)\n",
    "jf=RRG.RRGtopo(jf_edge_list)\n",
    "ddf=DDF.DDFtopo(ddf_edge_list)"
   ]
  },
  {
   "cell_type": "code",
   "execution_count": 4,
   "metadata": {},
   "outputs": [],
   "source": [
    "sf_link_occ, sf_local_link_occ, sf_link_load, sf_local_link_load = sf.distribute_uniform_flow_on_paths_with_EP(sf_path_dict, 15)\n",
    "jf_link_occ, jf_local_link_occ, jf_link_load, jf_local_link_load = jf.distribute_uniform_flow_on_paths_with_EP(jf_path_dict, 15)\n",
    "ddf_link_occ, ddf_local_link_occ, ddf_link_load, ddf_local_link_load = ddf.distribute_uniform_flow_on_paths_with_EP(ddf_path_dict, 7)"
   ]
  },
  {
   "cell_type": "code",
   "execution_count": 5,
   "metadata": {},
   "outputs": [
    {
     "name": "stdout",
     "output_type": "stream",
     "text": [
      "sf link occupancy rate (min, ave, max) = 4872.857142856895, 10962.93103448271, 12375.0\n",
      "sf local link occupancy rate (min, ave, max) = 10829, 10829, 10829\n",
      "sf link load (min, ave, max) = 4.1549602094039365e-05, 9.347809897010335e-05, 0.00010551844858974913\n",
      "sf local link load (min, ave, max) = 9.233610341643582e-05, 9.233610341643582e-05, 9.233610341643582e-05\n"
     ]
    }
   ],
   "source": [
    "print(\"sf link occupancy rate (min, ave, max) = {}, {}, {}\".format(min(sf_link_occ), mean(sf_link_occ), max(sf_link_occ)))\n",
    "print(\"sf local link occupancy rate (min, ave, max) = {}, {}, {}\".format(min(sf_local_link_occ), mean(sf_local_link_occ), max(sf_local_link_occ)))\n",
    "print(\"sf link load (min, ave, max) = {}, {}, {}\".format(min(sf_link_load), mean(sf_link_load), max(sf_link_load)))\n",
    "print(\"sf local link load (min, ave, max) = {}, {}, {}\".format(min(sf_local_link_load), mean(sf_local_link_load), max(sf_local_link_load)))"
   ]
  },
  {
   "cell_type": "code",
   "execution_count": 6,
   "metadata": {},
   "outputs": [
    {
     "name": "stdout",
     "output_type": "stream",
     "text": [
      "jf link occupancy rate (min, ave, max) = 9239.725888795507, 12623.23287802096, 15934.062573297873\n",
      "jf local link occupancy rate (min, ave, max) = 10829, 10829, 10829\n",
      "jf link load (min, ave, max) = 7.878477100446406e-05, 0.00010763506662431398, 0.00013586566161344463\n",
      "jf local link load (min, ave, max) = 9.233610341643582e-05, 9.233610341643582e-05, 9.233610341643582e-05\n"
     ]
    }
   ],
   "source": [
    "print(\"jf link occupancy rate (min, ave, max) = {}, {}, {}\".format(min(jf_link_occ), mean(jf_link_occ), max(jf_link_occ)))\n",
    "print(\"jf local link occupancy rate (min, ave, max) = {}, {}, {}\".format(min(jf_local_link_occ), mean(jf_local_link_occ), max(jf_local_link_occ)))\n",
    "print(\"jf link load (min, ave, max) = {}, {}, {}\".format(min(jf_link_load), mean(jf_link_load), max(jf_link_load)))\n",
    "print(\"jf local link load (min, ave, max) = {}, {}, {}\".format(min(jf_local_link_load), mean(jf_local_link_load), max(jf_local_link_load)))"
   ]
  },
  {
   "cell_type": "code",
   "execution_count": 7,
   "metadata": {},
   "outputs": [
    {
     "name": "stdout",
     "output_type": "stream",
     "text": [
      "ddf link occupancy rate (min, ave, max) = 9604.0, 9635.85, 9653.0\n"
     ]
    },
    {
     "name": "stdout",
     "output_type": "stream",
     "text": [
      "ddf local link occupancy rate (min, ave, max) = 9701, 9701, 9701\n",
      "ddf link load (min, ave, max) = 0.00010204092257488814, 0.00010237932359363139, 0.00010256153952680084\n",
      "ddf local link load (min, ave, max) = 0.00010307153164296021, 0.00010307153164296021, 0.00010307153164296021\n"
     ]
    }
   ],
   "source": [
    "print(\"ddf link occupancy rate (min, ave, max) = {}, {}, {}\".format(min(ddf_link_occ), mean(ddf_link_occ), max(ddf_link_occ)))\n",
    "print(\"ddf local link occupancy rate (min, ave, max) = {}, {}, {}\".format(min(ddf_local_link_occ), mean(ddf_local_link_occ), max(ddf_local_link_occ)))\n",
    "print(\"ddf link load (min, ave, max) = {}, {}, {}\".format(min(ddf_link_load), mean(ddf_link_load), max(ddf_link_load)))\n",
    "print(\"ddf local link load (min, ave, max) = {}, {}, {}\".format(min(ddf_local_link_load), mean(ddf_local_link_load), max(ddf_local_link_load)))"
   ]
  }
 ],
 "metadata": {
  "kernelspec": {
   "display_name": "Python 3",
   "language": "python",
   "name": "python3"
  },
  "language_info": {
   "codemirror_mode": {
    "name": "ipython",
    "version": 3
   },
   "file_extension": ".py",
   "mimetype": "text/x-python",
   "name": "python",
   "nbconvert_exporter": "python",
   "pygments_lexer": "ipython3",
   "version": "3.8.5"
  },
  "orig_nbformat": 4
 },
 "nbformat": 4,
 "nbformat_minor": 2
}
