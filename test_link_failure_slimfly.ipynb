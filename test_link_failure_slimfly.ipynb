{
 "cells": [
  {
   "cell_type": "code",
   "execution_count": 1,
   "metadata": {},
   "outputs": [],
   "source": [
    "import topologies.Slimfly as Slimfly\n",
    "import globals as gl\n",
    "import lp_load_balancing.LP_gurobi as LP"
   ]
  },
  {
   "cell_type": "code",
   "execution_count": 2,
   "metadata": {},
   "outputs": [],
   "source": [
    "config=(98, 11)\n",
    "# config=(114, 8)\n",
    "EPR=6\n",
    "topo='ddf'\n",
    "_network=Slimfly.Slimflytopo(config[0], config[1])\n",
    "uniform_traffic_matrix=gl.generate_uniform_traffic_pattern(config[0], EPR)\n",
    "R2R_uniform=gl.convert_p2p_traffic_matrix_to_R2R(uniform_traffic_matrix, config[0], EPR)\n"
   ]
  },
  {
   "cell_type": "code",
   "execution_count": 3,
   "metadata": {},
   "outputs": [
    {
     "name": "stdout",
     "output_type": "stream",
     "text": [
      "calculation done for (98, 11) with shortest paths routing\n"
     ]
    },
    {
     "data": {
      "text/plain": [
       "{'diameter': 2,\n",
       " 'ave_path_length_statistics': [1.0, 1.8865979381443299, 2.0],\n",
       " 'num_paths_statistics': [1, 1.1855670103092784, 3],\n",
       " 'link_load_statistics': [8.666666666666666, 16.636363636363637, 19.0]}"
      ]
     },
     "metadata": {},
     "output_type": "display_data"
    },
    {
     "name": "stdout",
     "output_type": "stream",
     "text": [
      "predicted saturation load = 0.8581871345029239\n",
      "Set parameter WLSAccessID\n",
      "Set parameter WLSSecret\n",
      "Set parameter LicenseID to value 2411299\n",
      "Academic license - for non-commercial use only - registered to ziyue.zhang@ugent.be\n",
      "number of variables = 12348, number of constraints = 2646\n",
      "Set parameter Threads to value 5\n",
      "Optimal solution found\n",
      "Max link load is: 684.0\n",
      "predicted saturation load after LP = 0.8581871345029239\n"
     ]
    }
   ],
   "source": [
    "# without any link failure\n",
    "_result, edge_list, path_dict=gl.calculate_data_shortest_paths(_network, config)\n",
    "display(_result)\n",
    "link_loads, local_link_load=_network.distribute_arbitrary_flow_on_paths_with_EPs(path_dict, EPR, uniform_traffic_matrix)\n",
    "print(f'predicted saturation load = {local_link_load/max(link_loads)}')\n",
    "# display(paths_dict)\n",
    "all_weighted_paths, result_link_loads=LP.Solve_load_balancing(path_dict, edge_list,R2R_uniform, _verbose=0)\n",
    "link_loads, local_link_load=_network.distribute_arbitrary_flow_on_weighted_paths_with_EPs(all_weighted_paths, EPR, uniform_traffic_matrix)\n",
    "print(f'predicted saturation load after LP = {local_link_load/max(link_loads)}')\n"
   ]
  },
  {
   "cell_type": "code",
   "execution_count": 4,
   "metadata": {},
   "outputs": [
    {
     "name": "stdout",
     "output_type": "stream",
     "text": [
      "5 edge(s) has been deleted from inter-group edge list\n",
      "calculation done for (98, 11) with shortest paths routing\n",
      "Set parameter WLSAccessID\n",
      "Set parameter WLSSecret\n",
      "Set parameter LicenseID to value 2411299\n",
      "Academic license - for non-commercial use only - registered to ziyue.zhang@ugent.be\n",
      "number of variables = 13308, number of constraints = 2670\n",
      "Set parameter Threads to value 5\n",
      "Optimal solution found\n",
      "Max link load is: 702.0\n"
     ]
    }
   ],
   "source": [
    "link_failure_ratio=0.01\n",
    "diameter=[]\n",
    "average_path_length=[]\n",
    "average_path_diversity=[]\n",
    "predicted_saturation_load=[]\n",
    "LP_saturation_load=[]\n",
    "for seed in range(1):\n",
    "    # set link failures\n",
    "    _network=Slimfly.Slimflytopo(config[0], config[1]) #reset network\n",
    "    _network.set_random_link_failures(link_failure_ratio, seed)\n",
    "    # display(list(_network.nx_graph.edges()))\n",
    "    _result, edge_list, path_dict=gl.calculate_data_shortest_paths(_network, config)\n",
    "    diameter.append(_result['diameter'])\n",
    "    average_path_length.append(_result['ave_path_length_statistics'][1])\n",
    "    average_path_diversity.append(_result['num_paths_statistics'][1])\n",
    "    link_loads, local_link_load=_network.distribute_arbitrary_flow_on_paths_with_EPs(path_dict, EPR, uniform_traffic_matrix)\n",
    "    predicted_saturation_load.append(local_link_load/max(link_loads))\n",
    "\n",
    "    all_weighted_paths, result_link_loads=LP.Solve_load_balancing(path_dict, edge_list,R2R_uniform, _verbose=0)\n",
    "    link_loads, local_link_load=_network.distribute_arbitrary_flow_on_weighted_paths_with_EPs(all_weighted_paths, EPR, uniform_traffic_matrix)\n",
    "    LP_saturation_load.append(local_link_load/max(link_loads))\n",
    "\n",
    "#TODO: print out for python execution\n"
   ]
  },
  {
   "cell_type": "code",
   "execution_count": 5,
   "metadata": {},
   "outputs": [
    {
     "data": {
      "text/plain": [
       "[1.8981695771091942]"
      ]
     },
     "execution_count": 5,
     "metadata": {},
     "output_type": "execute_result"
    }
   ],
   "source": [
    "average_path_length"
   ]
  },
  {
   "cell_type": "code",
   "execution_count": 6,
   "metadata": {},
   "outputs": [
    {
     "data": {
      "text/plain": [
       "[1.2876078266358089]"
      ]
     },
     "execution_count": 6,
     "metadata": {},
     "output_type": "execute_result"
    }
   ],
   "source": [
    "average_path_diversity"
   ]
  },
  {
   "cell_type": "code",
   "execution_count": 7,
   "metadata": {},
   "outputs": [
    {
     "data": {
      "text/plain": [
       "[0.8361823361823362]"
      ]
     },
     "execution_count": 7,
     "metadata": {},
     "output_type": "execute_result"
    }
   ],
   "source": [
    "LP_saturation_load"
   ]
  },
  {
   "cell_type": "code",
   "execution_count": 8,
   "metadata": {},
   "outputs": [
    {
     "data": {
      "text/plain": [
       "[0.7826228835682837]"
      ]
     },
     "execution_count": 8,
     "metadata": {},
     "output_type": "execute_result"
    }
   ],
   "source": [
    "predicted_saturation_load"
   ]
  },
  {
   "cell_type": "code",
   "execution_count": 9,
   "metadata": {},
   "outputs": [
    {
     "name": "stdout",
     "output_type": "stream",
     "text": [
      "==========results for critical link failure_ratio=0.01 ============\n",
      "5 edge(s) has been deleted from inter-group edge list\n",
      "calculation done for (98, 11) with shortest paths routing\n",
      "Set parameter WLSAccessID\n",
      "Set parameter WLSSecret\n",
      "Set parameter LicenseID to value 2411299\n",
      "Academic license - for non-commercial use only - registered to ziyue.zhang@ugent.be\n",
      "number of variables = 13902, number of constraints = 2762\n",
      "Set parameter Threads to value 5\n",
      "Optimal solution found\n",
      "Max link load is: 702.0\n",
      "With seed = 0, average path length = 1.9051125604881127\n",
      "With seed = 0, average path diversity = 1.3500946770460762\n",
      "With seed = 0, predicted saturation load before LP = 0.7683611785425248\n",
      "With seed = 0, predicted saturation load after LP = 0.8361823361823362\n"
     ]
    },
    {
     "ename": "NameError",
     "evalue": "name 'mean' is not defined",
     "output_type": "error",
     "traceback": [
      "\u001b[0;31m---------------------------------------------------------------------------\u001b[0m",
      "\u001b[0;31mNameError\u001b[0m                                 Traceback (most recent call last)",
      "\u001b[1;32m/users/ziyzhang/topology-research/test_link_failure_slimfly.ipynb Cell 9\u001b[0m line \u001b[0;36m2\n\u001b[1;32m     <a href='vscode-notebook-cell://ssh-remote%2Bilabt-node-1/users/ziyzhang/topology-research/test_link_failure_slimfly.ipynb#X13sdnNjb2RlLXJlbW90ZQ%3D%3D?line=25'>26</a>\u001b[0m     \u001b[39mprint\u001b[39m(\u001b[39mf\u001b[39m\u001b[39m'\u001b[39m\u001b[39mWith seed = \u001b[39m\u001b[39m{\u001b[39;00mseed\u001b[39m}\u001b[39;00m\u001b[39m, predicted saturation load before LP = \u001b[39m\u001b[39m{\u001b[39;00mpredicted_saturation_load[seed]\u001b[39m}\u001b[39;00m\u001b[39m'\u001b[39m)\n\u001b[1;32m     <a href='vscode-notebook-cell://ssh-remote%2Bilabt-node-1/users/ziyzhang/topology-research/test_link_failure_slimfly.ipynb#X13sdnNjb2RlLXJlbW90ZQ%3D%3D?line=26'>27</a>\u001b[0m     \u001b[39mprint\u001b[39m(\u001b[39mf\u001b[39m\u001b[39m'\u001b[39m\u001b[39mWith seed = \u001b[39m\u001b[39m{\u001b[39;00mseed\u001b[39m}\u001b[39;00m\u001b[39m, predicted saturation load after LP = \u001b[39m\u001b[39m{\u001b[39;00mLP_saturation_load[seed]\u001b[39m}\u001b[39;00m\u001b[39m'\u001b[39m)\n\u001b[0;32m---> <a href='vscode-notebook-cell://ssh-remote%2Bilabt-node-1/users/ziyzhang/topology-research/test_link_failure_slimfly.ipynb#X13sdnNjb2RlLXJlbW90ZQ%3D%3D?line=28'>29</a>\u001b[0m \u001b[39mprint\u001b[39m(\u001b[39mf\u001b[39m\u001b[39m'\u001b[39m\u001b[39mAcross 10 seeds, (min, ave, max) average path length = (\u001b[39m\u001b[39m{\u001b[39;00m\u001b[39mmin\u001b[39m(average_path_length)\u001b[39m}\u001b[39;00m\u001b[39m, \u001b[39m\u001b[39m{\u001b[39;00mmean(average_path_length)\u001b[39m}\u001b[39;00m\u001b[39m, \u001b[39m\u001b[39m{\u001b[39;00m\u001b[39mmax\u001b[39m(average_path_length)\u001b[39m}\u001b[39;00m\u001b[39m)\u001b[39m\u001b[39m'\u001b[39m)\n\u001b[1;32m     <a href='vscode-notebook-cell://ssh-remote%2Bilabt-node-1/users/ziyzhang/topology-research/test_link_failure_slimfly.ipynb#X13sdnNjb2RlLXJlbW90ZQ%3D%3D?line=29'>30</a>\u001b[0m \u001b[39mprint\u001b[39m(\u001b[39mf\u001b[39m\u001b[39m'\u001b[39m\u001b[39mAcross 10 seeds, (min, ave, max) average path diversity = (\u001b[39m\u001b[39m{\u001b[39;00m\u001b[39mmin\u001b[39m(average_path_diversity)\u001b[39m}\u001b[39;00m\u001b[39m, \u001b[39m\u001b[39m{\u001b[39;00mmean(average_path_diversity)\u001b[39m}\u001b[39;00m\u001b[39m, \u001b[39m\u001b[39m{\u001b[39;00m\u001b[39mmax\u001b[39m(average_path_diversity)\u001b[39m}\u001b[39;00m\u001b[39m)\u001b[39m\u001b[39m'\u001b[39m)\n\u001b[1;32m     <a href='vscode-notebook-cell://ssh-remote%2Bilabt-node-1/users/ziyzhang/topology-research/test_link_failure_slimfly.ipynb#X13sdnNjb2RlLXJlbW90ZQ%3D%3D?line=30'>31</a>\u001b[0m \u001b[39mprint\u001b[39m(\u001b[39mf\u001b[39m\u001b[39m'\u001b[39m\u001b[39mAcross 10 seeds, (min, ave, max) predicted saturation load before LP = (\u001b[39m\u001b[39m{\u001b[39;00m\u001b[39mmin\u001b[39m(predicted_saturation_load)\u001b[39m}\u001b[39;00m\u001b[39m, \u001b[39m\u001b[39m{\u001b[39;00mmean(predicted_saturation_load)\u001b[39m}\u001b[39;00m\u001b[39m, \u001b[39m\u001b[39m{\u001b[39;00m\u001b[39mmax\u001b[39m(predicted_saturation_load)\u001b[39m}\u001b[39;00m\u001b[39m)\u001b[39m\u001b[39m'\u001b[39m)\n",
      "\u001b[0;31mNameError\u001b[0m: name 'mean' is not defined"
     ]
    }
   ],
   "source": [
    "link_failure_ratio=0.01\n",
    "print(f'==========results for critical link failure_ratio={link_failure_ratio} ============')\n",
    "diameter=[]\n",
    "average_path_length=[]\n",
    "average_path_diversity=[]\n",
    "predicted_saturation_load=[]\n",
    "LP_saturation_load=[]\n",
    "for seed in range(1):\n",
    "    # set link failures\n",
    "    _network=Slimfly.Slimflytopo(config[0], config[1]) #reset network\n",
    "    _network.set_critical_link_failures(link_failure_ratio, seed)\n",
    "    # display(list(_network.nx_graph.edges()))\n",
    "    _result, edge_list, path_dict=gl.calculate_data_shortest_paths(_network, config)\n",
    "    diameter.append(_result['diameter'])\n",
    "    average_path_length.append(_result['ave_path_length_statistics'][1])\n",
    "    average_path_diversity.append(_result['num_paths_statistics'][1])\n",
    "    link_loads, local_link_load=_network.distribute_arbitrary_flow_on_paths_with_EPs(path_dict, EPR, uniform_traffic_matrix)\n",
    "    predicted_saturation_load.append(local_link_load/max(link_loads))\n",
    "\n",
    "    all_weighted_paths, result_link_loads=LP.Solve_load_balancing(path_dict, edge_list,R2R_uniform, _verbose=0)\n",
    "    link_loads, local_link_load=_network.distribute_arbitrary_flow_on_weighted_paths_with_EPs(all_weighted_paths, EPR, uniform_traffic_matrix)\n",
    "    LP_saturation_load.append(local_link_load/max(link_loads))\n",
    "\n",
    "    print(f'With seed = {seed}, average path length = {average_path_length[seed]}')\n",
    "    print(f'With seed = {seed}, average path diversity = {average_path_diversity[seed]}')\n",
    "    print(f'With seed = {seed}, predicted saturation load before LP = {predicted_saturation_load[seed]}')\n",
    "    print(f'With seed = {seed}, predicted saturation load after LP = {LP_saturation_load[seed]}')\n",
    "\n",
    "print(f'Across 10 seeds, (min, ave, max) average path length = ({min(average_path_length)}, \n {mean(average_path_length)}, \n {max(average_path_length)})')\n",
    "print(f'Across 10 seeds, (min, ave, max) average path diversity = ({min(average_path_diversity)}, \n {mean(average_path_diversity)}, \n {max(average_path_diversity)})')\n",
    "print(f'Across 10 seeds, (min, ave, max) predicted saturation load before LP = ({min(predicted_saturation_load)}, \n {mean(predicted_saturation_load)}, \n {max(predicted_saturation_load)})')\n",
    "print(f'Across 10 seeds, (min, ave, max) predicted saturation load after LP = ({min(LP_saturation_load)}, \n {mean(LP_saturation_load)}, \n {max(LP_saturation_load)})')\n"
   ]
  },
  {
   "cell_type": "code",
   "execution_count": 10,
   "metadata": {},
   "outputs": [
    {
     "name": "stdout",
     "output_type": "stream",
     "text": [
      "==========results for non critical link failure_ratio=0.01 ============\n",
      "5 edge(s) has been deleted from inter-group edge list\n",
      "calculation done for (98, 11) with shortest paths routing\n",
      "Set parameter WLSAccessID\n",
      "Set parameter WLSSecret\n",
      "Set parameter LicenseID to value 2411299\n",
      "Academic license - for non-commercial use only - registered to ziyue.zhang@ugent.be\n",
      "number of variables = 13128, number of constraints = 2666\n",
      "Set parameter Threads to value 5\n",
      "Optimal solution found\n",
      "Max link load is: 684.0\n",
      "With seed = 0, average path length = 1.8966968230591206\n",
      "With seed = 0, average path diversity = 1.2686724174205766\n",
      "With seed = 0, predicted saturation load before LP = 0.833365599308215\n",
      "With seed = 0, predicted saturation load after LP = 0.8581871345029239\n"
     ]
    },
    {
     "ename": "NameError",
     "evalue": "name 'mean' is not defined",
     "output_type": "error",
     "traceback": [
      "\u001b[0;31m---------------------------------------------------------------------------\u001b[0m",
      "\u001b[0;31mNameError\u001b[0m                                 Traceback (most recent call last)",
      "\u001b[1;32m/users/ziyzhang/topology-research/test_link_failure_slimfly.ipynb Cell 10\u001b[0m line \u001b[0;36m2\n\u001b[1;32m     <a href='vscode-notebook-cell://ssh-remote%2Bilabt-node-1/users/ziyzhang/topology-research/test_link_failure_slimfly.ipynb#X14sdnNjb2RlLXJlbW90ZQ%3D%3D?line=25'>26</a>\u001b[0m     \u001b[39mprint\u001b[39m(\u001b[39mf\u001b[39m\u001b[39m'\u001b[39m\u001b[39mWith seed = \u001b[39m\u001b[39m{\u001b[39;00mseed\u001b[39m}\u001b[39;00m\u001b[39m, predicted saturation load before LP = \u001b[39m\u001b[39m{\u001b[39;00mpredicted_saturation_load[seed]\u001b[39m}\u001b[39;00m\u001b[39m'\u001b[39m)\n\u001b[1;32m     <a href='vscode-notebook-cell://ssh-remote%2Bilabt-node-1/users/ziyzhang/topology-research/test_link_failure_slimfly.ipynb#X14sdnNjb2RlLXJlbW90ZQ%3D%3D?line=26'>27</a>\u001b[0m     \u001b[39mprint\u001b[39m(\u001b[39mf\u001b[39m\u001b[39m'\u001b[39m\u001b[39mWith seed = \u001b[39m\u001b[39m{\u001b[39;00mseed\u001b[39m}\u001b[39;00m\u001b[39m, predicted saturation load after LP = \u001b[39m\u001b[39m{\u001b[39;00mLP_saturation_load[seed]\u001b[39m}\u001b[39;00m\u001b[39m'\u001b[39m)\n\u001b[0;32m---> <a href='vscode-notebook-cell://ssh-remote%2Bilabt-node-1/users/ziyzhang/topology-research/test_link_failure_slimfly.ipynb#X14sdnNjb2RlLXJlbW90ZQ%3D%3D?line=28'>29</a>\u001b[0m \u001b[39mprint\u001b[39m(\u001b[39mf\u001b[39m\u001b[39m'\u001b[39m\u001b[39mAcross 10 seeds, (min, ave, max) average path length = (\u001b[39m\u001b[39m{\u001b[39;00m\u001b[39mmin\u001b[39m(average_path_length)\u001b[39m}\u001b[39;00m\u001b[39m, \u001b[39m\u001b[39m{\u001b[39;00mmean(average_path_length)\u001b[39m}\u001b[39;00m\u001b[39m, \u001b[39m\u001b[39m{\u001b[39;00m\u001b[39mmax\u001b[39m(average_path_length)\u001b[39m}\u001b[39;00m\u001b[39m)\u001b[39m\u001b[39m'\u001b[39m)\n\u001b[1;32m     <a href='vscode-notebook-cell://ssh-remote%2Bilabt-node-1/users/ziyzhang/topology-research/test_link_failure_slimfly.ipynb#X14sdnNjb2RlLXJlbW90ZQ%3D%3D?line=29'>30</a>\u001b[0m \u001b[39mprint\u001b[39m(\u001b[39mf\u001b[39m\u001b[39m'\u001b[39m\u001b[39mAcross 10 seeds, (min, ave, max) average path diversity = (\u001b[39m\u001b[39m{\u001b[39;00m\u001b[39mmin\u001b[39m(average_path_diversity)\u001b[39m}\u001b[39;00m\u001b[39m, \u001b[39m\u001b[39m{\u001b[39;00mmean(average_path_diversity)\u001b[39m}\u001b[39;00m\u001b[39m, \u001b[39m\u001b[39m{\u001b[39;00m\u001b[39mmax\u001b[39m(average_path_diversity)\u001b[39m}\u001b[39;00m\u001b[39m)\u001b[39m\u001b[39m'\u001b[39m)\n\u001b[1;32m     <a href='vscode-notebook-cell://ssh-remote%2Bilabt-node-1/users/ziyzhang/topology-research/test_link_failure_slimfly.ipynb#X14sdnNjb2RlLXJlbW90ZQ%3D%3D?line=30'>31</a>\u001b[0m \u001b[39mprint\u001b[39m(\u001b[39mf\u001b[39m\u001b[39m'\u001b[39m\u001b[39mAcross 10 seeds, (min, ave, max) predicted saturation load before LP = (\u001b[39m\u001b[39m{\u001b[39;00m\u001b[39mmin\u001b[39m(predicted_saturation_load)\u001b[39m}\u001b[39;00m\u001b[39m, \u001b[39m\u001b[39m{\u001b[39;00mmean(predicted_saturation_load)\u001b[39m}\u001b[39;00m\u001b[39m, \u001b[39m\u001b[39m{\u001b[39;00m\u001b[39mmax\u001b[39m(predicted_saturation_load)\u001b[39m}\u001b[39;00m\u001b[39m)\u001b[39m\u001b[39m'\u001b[39m)\n",
      "\u001b[0;31mNameError\u001b[0m: name 'mean' is not defined"
     ]
    }
   ],
   "source": [
    "link_failure_ratio=0.01\n",
    "print(f'==========results for non critical link failure_ratio={link_failure_ratio} ============')\n",
    "diameter=[]\n",
    "average_path_length=[]\n",
    "average_path_diversity=[]\n",
    "predicted_saturation_load=[]\n",
    "LP_saturation_load=[]\n",
    "for seed in range(1):\n",
    "    # set link failures\n",
    "    _network=Slimfly.Slimflytopo(config[0], config[1]) #reset network\n",
    "    _network.set_noncritical_link_failures(link_failure_ratio, seed)\n",
    "    # display(list(_network.nx_graph.edges()))\n",
    "    _result, edge_list, path_dict=gl.calculate_data_shortest_paths(_network, config)\n",
    "    diameter.append(_result['diameter'])\n",
    "    average_path_length.append(_result['ave_path_length_statistics'][1])\n",
    "    average_path_diversity.append(_result['num_paths_statistics'][1])\n",
    "    link_loads, local_link_load=_network.distribute_arbitrary_flow_on_paths_with_EPs(path_dict, EPR, uniform_traffic_matrix)\n",
    "    predicted_saturation_load.append(local_link_load/max(link_loads))\n",
    "\n",
    "    all_weighted_paths, result_link_loads=LP.Solve_load_balancing(path_dict, edge_list,R2R_uniform, _verbose=0)\n",
    "    link_loads, local_link_load=_network.distribute_arbitrary_flow_on_weighted_paths_with_EPs(all_weighted_paths, EPR, uniform_traffic_matrix)\n",
    "    LP_saturation_load.append(local_link_load/max(link_loads))\n",
    "\n",
    "    print(f'With seed = {seed}, average path length = {average_path_length[seed]}')\n",
    "    print(f'With seed = {seed}, average path diversity = {average_path_diversity[seed]}')\n",
    "    print(f'With seed = {seed}, predicted saturation load before LP = {predicted_saturation_load[seed]}')\n",
    "    print(f'With seed = {seed}, predicted saturation load after LP = {LP_saturation_load[seed]}')\n",
    "\n",
    "print(f'Across 10 seeds, (min, ave, max) average path length = ({min(average_path_length)}, \n {mean(average_path_length)}, \n {max(average_path_length)})')\n",
    "print(f'Across 10 seeds, (min, ave, max) average path diversity = ({min(average_path_diversity)}, \n {mean(average_path_diversity)}, \n {max(average_path_diversity)})')\n",
    "print(f'Across 10 seeds, (min, ave, max) predicted saturation load before LP = ({min(predicted_saturation_load)}, \n {mean(predicted_saturation_load)}, \n {max(predicted_saturation_load)})')\n",
    "print(f'Across 10 seeds, (min, ave, max) predicted saturation load after LP = ({min(LP_saturation_load)}, \n {mean(LP_saturation_load)}, \n {max(LP_saturation_load)})')\n"
   ]
  },
  {
   "cell_type": "code",
   "execution_count": null,
   "metadata": {},
   "outputs": [],
   "source": []
  }
 ],
 "metadata": {
  "kernelspec": {
   "display_name": "Python 3",
   "language": "python",
   "name": "python3"
  },
  "language_info": {
   "codemirror_mode": {
    "name": "ipython",
    "version": 3
   },
   "file_extension": ".py",
   "mimetype": "text/x-python",
   "name": "python",
   "nbconvert_exporter": "python",
   "pygments_lexer": "ipython3",
   "version": "3.8.5"
  },
  "orig_nbformat": 4
 },
 "nbformat": 4,
 "nbformat_minor": 2
}
