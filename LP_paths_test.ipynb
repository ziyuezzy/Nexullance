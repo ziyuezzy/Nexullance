{
 "cells": [
  {
   "cell_type": "code",
   "execution_count": 1,
   "metadata": {},
   "outputs": [],
   "source": [
    "import topologies.DDF as DDF\n",
    "import globals as gl\n",
    "import nexullance.LP_gurobi as LP"
   ]
  },
  {
   "cell_type": "code",
   "execution_count": 2,
   "metadata": {},
   "outputs": [],
   "source": [
    "#define edge_list, traffic_matrix\n",
    "# config=(6, 2)\n",
    "config=(36, 5)\n",
    "EPR=3\n",
    "topo='ddf'\n",
    "_network=DDF.DDFtopo(config[0], config[1])\n",
    "_nx_graph=_network.nx_graph\n",
    "M_EPs=gl.generate_shift_traffic_pattern(config[0], EPR)\n",
    "local_link_flows=gl.local_link_flows_from_M_EPs(M_EPs)\n",
    "M_R=gl.convert_M_EPs_to_M_R(M_EPs, config[0], EPR)"
   ]
  },
  {
   "cell_type": "code",
   "execution_count": 3,
   "metadata": {},
   "outputs": [
    {
     "name": "stdout",
     "output_type": "stream",
     "text": [
      "calculation done for (36, 5) with shorter-than-4 paths routing\n",
      "Set parameter WLSAccessID\n",
      "Set parameter WLSSecret\n",
      "Set parameter LicenseID to value 2411299\n",
      "Academic license - for non-commercial use only - registered to ziyue.zhang@ugent.be\n",
      "Set parameter Threads to value 1\n",
      "Set parameter Method to value 0\n",
      "Gurobi Optimizer version 10.0.2 build v10.0.2rc0 (linux64)\n",
      "\n",
      "CPU model: Intel(R) Xeon(R) CPU           E5645  @ 2.40GHz, instruction set [SSE2]\n",
      "Thread count: 12 physical cores, 24 logical processors, using up to 24 threads\n",
      "\n",
      "Academic license - for non-commercial use only - registered to ziyue.zhang@ugent.be\n",
      "Optimize a model with 1620 rows, 13465 columns and 15828 nonzeros\n",
      "Model fingerprint: 0x255fdc18\n",
      "Coefficient statistics:\n",
      "  Matrix range     [1e+00, 3e+00]\n",
      "  Objective range  [1e+00, 1e+00]\n",
      "  Bounds range     [1e+00, 1e+00]\n",
      "  RHS range        [1e+00, 1e+00]\n",
      "Presolve removed 1404 rows and 12924 columns\n",
      "Presolve time: 0.02s\n",
      "Presolved: 216 rows, 541 columns, 2724 nonzeros\n",
      "\n",
      "Iteration    Objective       Primal Inf.    Dual Inf.      Time\n",
      "       0    1.2000000e+01   0.000000e+00   1.440000e+02      0s\n",
      "      91    2.5000000e+00   0.000000e+00   0.000000e+00      0s\n",
      "\n",
      "Use crossover to convert LP symmetric solution to basic solution...\n",
      "Crossover log...\n",
      "\n",
      "       0 DPushes remaining with DInf 0.0000000e+00                 0s\n",
      "\n",
      "      60 PPushes remaining with PInf 0.0000000e+00                 0s\n",
      "       0 PPushes remaining with PInf 0.0000000e+00                 0s\n",
      "\n",
      "  Push phase complete: Pinf 0.0000000e+00, Dinf 2.3869795e-15      0s\n",
      "\n",
      "Iteration    Objective       Primal Inf.    Dual Inf.      Time\n",
      "     159    2.5000000e+00   0.000000e+00   0.000000e+00      0s\n",
      "\n",
      "Solved in 159 iterations and 0.05 seconds (0.01 work units)\n",
      "Optimal objective  2.500000000e+00\n",
      "Optimal solution found\n",
      "LP stats:\n",
      "\n",
      "Statistics for modelUnnamed:\n",
      "  Linear constraint matrix    : 1620 Constrs, 13465 Vars, 15828 NZs\n",
      "  Matrix coefficient range    : [ 1, 3 ]\n",
      "  Objective coefficient range : [ 1, 1 ]\n",
      "  Variable bound range        : [ 1, 1 ]\n",
      "  RHS coefficient range       : [ 1, 1 ]\n",
      "Max link load is: 2.4999999999999996\n",
      "predicted saturation load = 0.4000000000000001\n"
     ]
    }
   ],
   "source": [
    "_, edge_list, path_dict = gl.calculate_data_paths_within_length(_network, config, 4)\n",
    "_,_,max_link_load=LP.Solve_load_balancing(path_dict, edge_list, M_R, _verbose=1)\n",
    "print(f'predicted saturation load = {max(local_link_flows)/max_link_load}')"
   ]
  },
  {
   "cell_type": "code",
   "execution_count": 4,
   "metadata": {},
   "outputs": [
    {
     "name": "stdout",
     "output_type": "stream",
     "text": [
      "For APST-4:\n",
      "number of raw variables:  22681\n",
      "number of raw constraints:  1655\n"
     ]
    }
   ],
   "source": [
    "E=_nx_graph.number_of_edges()\n",
    "V=config[0]\n",
    "D=config[1]\n",
    "assert(E==V*D//2)\n",
    "print(\"For APST-4:\")\n",
    "num_paths=V*D**4\n",
    "num_var= num_paths + 2*E +1\n",
    "print(\"number of raw variables: \", num_var)\n",
    "num_constr = 2*E +2*E + (V**2-1)\n",
    "print(\"number of raw constraints: \", num_constr)"
   ]
  },
  {
   "cell_type": "code",
   "execution_count": 5,
   "metadata": {},
   "outputs": [
    {
     "name": "stdout",
     "output_type": "stream",
     "text": [
      "calculation done for (36, 5) with shorter-than-3 paths routing\n",
      "Set parameter WLSAccessID\n",
      "Set parameter WLSSecret\n",
      "Set parameter LicenseID to value 2411299\n",
      "Academic license - for non-commercial use only - registered to ziyue.zhang@ugent.be\n",
      "Set parameter Threads to value 1\n",
      "Set parameter Method to value 0\n",
      "Gurobi Optimizer version 10.0.2 build v10.0.2rc0 (linux64)\n",
      "\n",
      "CPU model: Intel(R) Xeon(R) CPU           E5645  @ 2.40GHz, instruction set [SSE2]\n",
      "Thread count: 12 physical cores, 24 logical processors, using up to 24 threads\n",
      "\n",
      "Academic license - for non-commercial use only - registered to ziyue.zhang@ugent.be\n",
      "Optimize a model with 1314 rows, 3439 columns and 12564 nonzeros\n",
      "Model fingerprint: 0x4fe43803\n",
      "Coefficient statistics:\n",
      "  Matrix range     [1e+00, 9e+00]\n",
      "  Objective range  [1e+00, 1e+00]\n",
      "  Bounds range     [1e+00, 1e+00]\n",
      "  RHS range        [1e+00, 5e+01]\n",
      "Presolve removed 342 rows and 342 columns\n",
      "Presolve time: 0.02s\n",
      "Presolved: 972 rows, 3097 columns, 11880 nonzeros\n",
      "\n",
      "Iteration    Objective       Primal Inf.    Dual Inf.      Time\n",
      "       0    2.6100000e+02   0.000000e+00   1.170000e+02      0s\n",
      "      61    1.4904878e+02   0.000000e+00   0.000000e+00      0s\n",
      "\n",
      "Use crossover to convert LP symmetric solution to basic solution...\n",
      "Crossover log...\n",
      "\n",
      "       0 DPushes remaining with DInf 0.0000000e+00                 0s\n",
      "\n",
      "     148 PPushes remaining with PInf 0.0000000e+00                 0s\n",
      "       0 PPushes remaining with PInf 0.0000000e+00                 0s\n",
      "\n",
      "  Push phase complete: Pinf 0.0000000e+00, Dinf 1.2056328e-14      0s\n",
      "\n",
      "Iteration    Objective       Primal Inf.    Dual Inf.      Time\n",
      "     435    1.4904878e+02   0.000000e+00   0.000000e+00      0s\n",
      "\n",
      "Solved in 435 iterations and 0.06 seconds (0.02 work units)\n",
      "Optimal objective  1.490487805e+02\n",
      "Optimal solution found\n",
      "LP stats:\n",
      "\n",
      "Statistics for modelUnnamed:\n",
      "  Linear constraint matrix    : 1314 Constrs, 3439 Vars, 12564 NZs\n",
      "  Matrix coefficient range    : [ 1, 9 ]\n",
      "  Objective coefficient range : [ 1, 1 ]\n",
      "  Variable bound range        : [ 1, 1 ]\n",
      "  RHS coefficient range       : [ 1, 54 ]\n",
      "Max link load is: 149.04878048780486\n",
      "predicted saturation load = 0.71788577974145\n"
     ]
    }
   ],
   "source": [
    "M_EPs=gl.generate_uniform_traffic_pattern(config[0], EPR)\n",
    "local_link_flows=gl.local_link_flows_from_M_EPs(M_EPs)\n",
    "M_R=gl.convert_M_EPs_to_M_R(M_EPs, config[0], EPR)\n",
    "\n",
    "_, edge_list, path_dict = gl.calculate_data_paths_within_length(_network, config, 3)\n",
    "_,_,max_link_load=LP.Solve_load_balancing(path_dict, edge_list, M_R, _verbose=1)\n",
    "print(f'predicted saturation load = {max(local_link_flows)/max_link_load}')"
   ]
  },
  {
   "cell_type": "code",
   "execution_count": 6,
   "metadata": {},
   "outputs": [
    {
     "name": "stdout",
     "output_type": "stream",
     "text": [
      "For APST-3:\n",
      "number of raw variables:  4681\n",
      "number of raw constraints:  1655\n"
     ]
    }
   ],
   "source": [
    "E=_nx_graph.number_of_edges()\n",
    "V=config[0]\n",
    "D=config[1]\n",
    "assert(E==V*D//2)\n",
    "print(\"For APST-3:\")\n",
    "num_paths=V*D**3\n",
    "num_var= num_paths + 2*E +1\n",
    "print(\"number of raw variables: \", num_var)\n",
    "num_constr = 2*E +2*E + (V**2-1)\n",
    "print(\"number of raw constraints: \", num_constr)"
   ]
  },
  {
   "cell_type": "code",
   "execution_count": null,
   "metadata": {},
   "outputs": [],
   "source": []
  }
 ],
 "metadata": {
  "kernelspec": {
   "display_name": "Python 3",
   "language": "python",
   "name": "python3"
  },
  "language_info": {
   "codemirror_mode": {
    "name": "ipython",
    "version": 3
   },
   "file_extension": ".py",
   "mimetype": "text/x-python",
   "name": "python",
   "nbconvert_exporter": "python",
   "pygments_lexer": "ipython3",
   "version": "3.8.5"
  }
 },
 "nbformat": 4,
 "nbformat_minor": 2
}
