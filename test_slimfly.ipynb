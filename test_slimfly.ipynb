{
 "cells": [
  {
   "cell_type": "code",
   "execution_count": 1,
   "metadata": {},
   "outputs": [],
   "source": [
    "import matplotlib.pyplot as plt\n",
    "import networkx as nx\n",
    "import topologies.Slimfly as Slimfly"
   ]
  },
  {
   "cell_type": "code",
   "execution_count": 2,
   "metadata": {},
   "outputs": [],
   "source": [
    "sf=Slimfly.Slimflytopo(98)"
   ]
  },
  {
   "cell_type": "code",
   "execution_count": 3,
   "metadata": {},
   "outputs": [
    {
     "data": {
      "text/plain": [
       "2"
      ]
     },
     "execution_count": 3,
     "metadata": {},
     "output_type": "execute_result"
    }
   ],
   "source": [
    "sf.calculate_diameter()"
   ]
  },
  {
   "cell_type": "code",
   "execution_count": 4,
   "metadata": {},
   "outputs": [
    {
     "name": "stdout",
     "output_type": "stream",
     "text": [
      "Searching for slimfly configurations: (num_vertices, k'), Number of routers between 500 and 3000\n",
      "slimfly configuration found: (578, 25)\n",
      "slimfly configuration found: (722, 28)\n",
      "slimfly configuration found: (1058, 34)\n",
      "slimfly configuration found: (1682, 43)\n",
      "slimfly configuration found: (1922, 46)\n",
      "slimfly configuration found: (2738, 55)\n"
     ]
    }
   ],
   "source": [
    "# list of prime number less than 10: 2, 3, 5, 7, 11, 13, 17, 19, 23, 29, 31, 37, 41, 43, 47, 53, 59, 61, 67, 71, 73, 79, 83, 89, 97 \n",
    "# This should be enough for finding all slimfly configurations with less than 20k nodes\n",
    "prime_numbers=[2, 3, 5, 7, 11, 13, 17, 19, 23, 29, 31, 37, 41, 43, 47, 53, 59, 61, 67, 71, 73, 79, 83, 89, 97 ]\n",
    "search_min=500  #lower bound of the search\n",
    "search_max=3000 #upper bound of the search\n",
    "print(f\"Searching for slimfly configurations: (num_vertices, k'), Number of routers between {search_min} and {search_max}\")\n",
    "for prime in prime_numbers:\n",
    "    power = 1\n",
    "    while(1):\n",
    "        q=pow(prime,power)\n",
    "        num_vertices=q**2*2\n",
    "        if(search_min <= num_vertices <= search_max ):\n",
    "            kp=int((3*q-1)/2)\n",
    "            print(f\"slimfly configuration found: ({num_vertices}, {kp})\")\n",
    "            power+=1\n",
    "        else:\n",
    "            break\n"
   ]
  },
  {
   "cell_type": "code",
   "execution_count": null,
   "metadata": {},
   "outputs": [],
   "source": []
  }
 ],
 "metadata": {
  "kernelspec": {
   "display_name": "Python 3",
   "language": "python",
   "name": "python3"
  },
  "language_info": {
   "codemirror_mode": {
    "name": "ipython",
    "version": 3
   },
   "file_extension": ".py",
   "mimetype": "text/x-python",
   "name": "python",
   "nbconvert_exporter": "python",
   "pygments_lexer": "ipython3",
   "version": "3.8.2"
  },
  "orig_nbformat": 4
 },
 "nbformat": 4,
 "nbformat_minor": 2
}
