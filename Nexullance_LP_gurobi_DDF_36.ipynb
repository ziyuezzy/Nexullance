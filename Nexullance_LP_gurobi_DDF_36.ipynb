{
 "cells": [
  {
   "cell_type": "code",
   "execution_count": 1,
   "metadata": {},
   "outputs": [],
   "source": [
    "import nexullance.LP_gurobi as LP\n",
    "import pickle\n",
    "import topologies.DDF as DDF\n",
    "import globals as gl"
   ]
  },
  {
   "cell_type": "code",
   "execution_count": 2,
   "metadata": {},
   "outputs": [],
   "source": [
    "config=(36, 5)\n",
    "EPR=3\n",
    "topo='ddf'\n",
    "_network=DDF.DDFtopo(config[0], config[1])\n",
    "edge_list=list(_network.nx_graph.edges())"
   ]
  },
  {
   "cell_type": "markdown",
   "metadata": {},
   "source": [
    "# Uniform traffic"
   ]
  },
  {
   "cell_type": "code",
   "execution_count": 3,
   "metadata": {},
   "outputs": [],
   "source": [
    "uniform_traffic_matrix=gl.generate_uniform_traffic_pattern(config[0], EPR)\n",
    "R2R_uniform=gl.convert_p2p_traffic_matrix_to_R2R(uniform_traffic_matrix, config[0], EPR)"
   ]
  },
  {
   "cell_type": "markdown",
   "metadata": {},
   "source": [
    "### DDF Benchmark:"
   ]
  },
  {
   "cell_type": "code",
   "execution_count": 4,
   "metadata": {},
   "outputs": [
    {
     "name": "stdout",
     "output_type": "stream",
     "text": [
      "calculation done for (36, 5) with unipath routing\n",
      "predicted saturation load (DDF benchmark) = 0.6993464052287581\n"
     ]
    }
   ],
   "source": [
    "results, _, path_dict = gl.calculate_DDF_routing(_network, config)\n",
    "link_loads, local_link_load=_network.distribute_arbitrary_flow_on_paths_with_EPs(path_dict, EPR, uniform_traffic_matrix)\n",
    "print(f'predicted saturation load (DDF benchmark) = {local_link_load/max(link_loads)}')"
   ]
  },
  {
   "cell_type": "markdown",
   "metadata": {},
   "source": [
    "### Using all shortest paths"
   ]
  },
  {
   "cell_type": "code",
   "execution_count": 6,
   "metadata": {},
   "outputs": [
    {
     "name": "stdout",
     "output_type": "stream",
     "text": [
      "calculation done for (36, 5) with shortest paths routing\n",
      "predicted saturation load (before optimization) = 0.5150421179302034\n"
     ]
    },
    {
     "data": {
      "text/plain": [
       "{'diameter': 3,\n",
       " 'ave_path_length_statistics': [1.0, 2.342857142857143, 3.0],\n",
       " 'num_paths_statistics': [1, 1.542857142857143, 4],\n",
       " 'link_load_statistics': [12.166666666666666, 16.4, 23.083333333333336]}"
      ]
     },
     "metadata": {},
     "output_type": "display_data"
    },
    {
     "name": "stdout",
     "output_type": "stream",
     "text": [
      "Set parameter WLSAccessID\n",
      "Set parameter WLSSecret\n",
      "Set parameter LicenseID to value 2411299\n",
      "Academic license - for non-commercial use only - registered to ziyue.zhang@ugent.be\n",
      "number of variables = 2124, number of constraints = 558\n",
      "Optimal solution found\n",
      "Max link load is: 158.14285714285714\n",
      "predicted saturation load (after optimization) = 0.6766034327009911\n"
     ]
    }
   ],
   "source": [
    "results, _, path_dict = gl.calculate_data_shortest_paths(_network, config)\n",
    "link_loads, local_link_load=_network.distribute_arbitrary_flow_on_paths_with_EPs(path_dict, EPR, uniform_traffic_matrix)\n",
    "print(f'predicted saturation load (before optimization) = {local_link_load/max(link_loads)}')\n",
    "display(results)\n",
    "all_weighted_paths, result_link_loads=LP.Solve_load_balancing(path_dict, edge_list,R2R_uniform, _verbose=0)\n",
    "link_loads, local_link_load=_network.distribute_arbitrary_flow_on_weighted_paths_with_EPs(all_weighted_paths, EPR, uniform_traffic_matrix)\n",
    "print(f'predicted saturation load (after optimization) = {local_link_load/max(link_loads)}')\n"
   ]
  },
  {
   "cell_type": "markdown",
   "metadata": {},
   "source": [
    "### Using shorter-than-3 paths"
   ]
  },
  {
   "cell_type": "code",
   "execution_count": 6,
   "metadata": {},
   "outputs": [
    {
     "name": "stdout",
     "output_type": "stream",
     "text": [
      "calculation done for (36, 5) with shortest paths routing\n",
      "predicted saturation load (before optimization) = 0.519543578538478\n"
     ]
    },
    {
     "data": {
      "text/plain": [
       "{'diameter': 3,\n",
       " 'ave_path_length_statistics': [1.0, 2.7314285714285713, 3.0],\n",
       " 'num_paths_statistics': [1, 2.8285714285714287, 6],\n",
       " 'link_load_statistics': [15.53333333333333,\n",
       "  19.119999999999997,\n",
       "  22.883333333333336]}"
      ]
     },
     "metadata": {},
     "output_type": "display_data"
    },
    {
     "name": "stdout",
     "output_type": "stream",
     "text": [
      "Set parameter WLSAccessID\n",
      "Set parameter WLSSecret\n",
      "Set parameter LicenseID to value 2411299\n",
      "Academic license - for non-commercial use only - registered to ziyue.zhang@ugent.be\n",
      "number of variables = 3744, number of constraints = 1134\n",
      "Optimal solution found\n",
      "Max link load is: 149.04878048780486\n",
      "predicted saturation load (after optimization) = 0.717885779741432\n"
     ]
    }
   ],
   "source": [
    "results, _, path_dict = gl.calculate_data_paths_within_length(_network, config, 3)\n",
    "link_loads, local_link_load=_network.distribute_arbitrary_flow_on_paths_with_EPs(path_dict, EPR, uniform_traffic_matrix)\n",
    "print(f'predicted saturation load (before optimization) = {local_link_load/max(link_loads)}')\n",
    "display(results)\n",
    "all_weighted_paths, result_link_loads=LP.Solve_load_balancing(path_dict, edge_list,R2R_uniform, _verbose=0)\n",
    "link_loads, local_link_load=_network.distribute_arbitrary_flow_on_weighted_paths_with_EPs(all_weighted_paths, EPR, uniform_traffic_matrix)\n",
    "print(f'predicted saturation load (after optimization) = {local_link_load/max(link_loads)}')"
   ]
  },
  {
   "cell_type": "markdown",
   "metadata": {},
   "source": [
    "### Using shorter-than-4 paths"
   ]
  },
  {
   "cell_type": "code",
   "execution_count": 7,
   "metadata": {},
   "outputs": [
    {
     "name": "stdout",
     "output_type": "stream",
     "text": [
      "calculation done for (36, 5) with shortest paths routing\n",
      "predicted saturation load (before optimization) = 0.4280337808878019\n"
     ]
    },
    {
     "data": {
      "text/plain": [
       "{'diameter': 3,\n",
       " 'ave_path_length_statistics': [2.2, 3.5883005090147946, 3.9166666666666665],\n",
       " 'num_paths_statistics': [3, 10.542857142857143, 16],\n",
       " 'link_load_statistics': [22.55499777999774,\n",
       "  25.118103563103535,\n",
       "  27.775585525585516]}"
      ]
     },
     "metadata": {},
     "output_type": "display_data"
    },
    {
     "name": "stdout",
     "output_type": "stream",
     "text": [
      "Set parameter WLSAccessID\n",
      "Set parameter WLSSecret\n",
      "Set parameter LicenseID to value 2411299\n",
      "Academic license - for non-commercial use only - registered to ziyue.zhang@ugent.be\n",
      "number of variables = 13464, number of constraints = 1440\n",
      "Optimal solution found\n",
      "Max link load is: 149.0487804878049\n",
      "predicted saturation load (after optimization) = 0.7178857797414413\n"
     ]
    }
   ],
   "source": [
    "results, _, path_dict = gl.calculate_data_paths_within_length(_network, config, 4)\n",
    "link_loads, local_link_load=_network.distribute_arbitrary_flow_on_paths_with_EPs(path_dict, EPR, uniform_traffic_matrix)\n",
    "print(f'predicted saturation load (before optimization) = {local_link_load/max(link_loads)}')\n",
    "display(results)\n",
    "all_weighted_paths, result_link_loads=LP.Solve_load_balancing(path_dict, edge_list,R2R_uniform, _verbose=0)\n",
    "link_loads, local_link_load=_network.distribute_arbitrary_flow_on_weighted_paths_with_EPs(all_weighted_paths, EPR, uniform_traffic_matrix)\n",
    "print(f'predicted saturation load (after optimization) = {local_link_load/max(link_loads)}')"
   ]
  },
  {
   "cell_type": "markdown",
   "metadata": {},
   "source": [
    "### Using 4-shortest paths"
   ]
  },
  {
   "cell_type": "code",
   "execution_count": 5,
   "metadata": {},
   "outputs": [
    {
     "name": "stdout",
     "output_type": "stream",
     "text": [
      "calculation done for (36, 5) with 4 shortest paths routing\n",
      "predicted saturation load (before optimization) = 0.4030131826741996\n"
     ]
    },
    {
     "data": {
      "text/plain": [
       "{'diameter': 3,\n",
       " 'ave_path_length_statistics': [2.0, 3.125, 3.75],\n",
       " 'num_paths_statistics': [4, 4, 4],\n",
       " 'link_load_statistics': [15.5, 21.875, 29.5]}"
      ]
     },
     "metadata": {},
     "output_type": "display_data"
    },
    {
     "name": "stdout",
     "output_type": "stream",
     "text": [
      "Set parameter WLSAccessID\n",
      "Set parameter WLSSecret\n",
      "Set parameter LicenseID to value 2411299\n",
      "Academic license - for non-commercial use only - registered to ziyue.zhang@ugent.be\n",
      "number of variables = 5220, number of constraints = 1440\n",
      "Set parameter Threads to value 5\n",
      "Optimal solution found\n",
      "Max link load is: 149.0487804878049\n",
      "predicted saturation load (after optimization) = 0.7178857797414439\n"
     ]
    }
   ],
   "source": [
    "results, _, path_dict = gl.calculate_data_k_shortest_paths(_network, config, 4)\n",
    "link_loads, local_link_load=_network.distribute_arbitrary_flow_on_paths_with_EPs(path_dict, EPR, uniform_traffic_matrix)\n",
    "print(f'predicted saturation load (before optimization) = {local_link_load/max(link_loads)}')\n",
    "display(results)\n",
    "all_weighted_paths, result_link_loads=LP.Solve_load_balancing(path_dict, edge_list,R2R_uniform, _verbose=0)\n",
    "link_loads, local_link_load=_network.distribute_arbitrary_flow_on_weighted_paths_with_EPs(all_weighted_paths, EPR, uniform_traffic_matrix)\n",
    "print(f'predicted saturation load (after optimization) = {local_link_load/max(link_loads)}')"
   ]
  },
  {
   "cell_type": "markdown",
   "metadata": {},
   "source": [
    "# With shift traffic"
   ]
  },
  {
   "cell_type": "code",
   "execution_count": 3,
   "metadata": {},
   "outputs": [],
   "source": [
    "shift_traffic_matrix=gl.generate_shift_traffic_pattern(config[0], EPR)\n",
    "R2R_shift=gl.convert_p2p_traffic_matrix_to_R2R(shift_traffic_matrix, config[0], EPR)"
   ]
  },
  {
   "cell_type": "markdown",
   "metadata": {},
   "source": [
    "### Using all shortest paths"
   ]
  },
  {
   "cell_type": "code",
   "execution_count": 9,
   "metadata": {},
   "outputs": [
    {
     "name": "stdout",
     "output_type": "stream",
     "text": [
      "calculation done for (36, 5) with shortest paths routing\n",
      "predicted saturation load (before optimization) = 0.16666666666666666\n"
     ]
    },
    {
     "data": {
      "text/plain": [
       "{'diameter': 3,\n",
       " 'ave_path_length_statistics': [1.0, 2.342857142857143, 3.0],\n",
       " 'num_paths_statistics': [1, 1.542857142857143, 4],\n",
       " 'link_load_statistics': [12.166666666666666, 16.4, 23.083333333333336]}"
      ]
     },
     "metadata": {},
     "output_type": "display_data"
    },
    {
     "name": "stdout",
     "output_type": "stream",
     "text": [
      "Set parameter WLSAccessID\n",
      "Set parameter WLSSecret\n",
      "Set parameter LicenseID to value 2411299\n",
      "Academic license - for non-commercial use only - registered to ziyue.zhang@ugent.be\n",
      "number of variables = 2124, number of constraints = 558\n",
      "Optimal solution found\n",
      "Max link load is: 6.0\n",
      "predicted saturation load (after optimization) = 0.16666666666666666\n"
     ]
    }
   ],
   "source": [
    "results, _, path_dict = gl.calculate_data_shortest_paths(_network, config)\n",
    "link_loads, local_link_load=_network.distribute_arbitrary_flow_on_paths_with_EPs(path_dict, EPR, shift_traffic_matrix)\n",
    "print(f'predicted saturation load (before optimization) = {local_link_load/max(link_loads)}')\n",
    "display(results)\n",
    "all_weighted_paths, result_link_loads=LP.Solve_load_balancing(path_dict, edge_list,R2R_shift, _verbose=0)\n",
    "link_loads, local_link_load=_network.distribute_arbitrary_flow_on_weighted_paths_with_EPs(all_weighted_paths, EPR, shift_traffic_matrix)\n",
    "print(f'predicted saturation load (after optimization) = {local_link_load/max(link_loads)}')\n"
   ]
  },
  {
   "cell_type": "markdown",
   "metadata": {},
   "source": [
    "### Using shorter-than-3 paths"
   ]
  },
  {
   "cell_type": "code",
   "execution_count": 10,
   "metadata": {},
   "outputs": [
    {
     "name": "stdout",
     "output_type": "stream",
     "text": [
      "calculation done for (36, 5) with shortest paths routing\n",
      "predicted saturation load (before optimization) = 0.21739130434782605\n"
     ]
    },
    {
     "data": {
      "text/plain": [
       "{'diameter': 3,\n",
       " 'ave_path_length_statistics': [1.0, 2.7314285714285713, 3.0],\n",
       " 'num_paths_statistics': [1, 2.8285714285714287, 6],\n",
       " 'link_load_statistics': [15.53333333333333,\n",
       "  19.119999999999997,\n",
       "  22.883333333333336]}"
      ]
     },
     "metadata": {},
     "output_type": "display_data"
    },
    {
     "name": "stdout",
     "output_type": "stream",
     "text": [
      "Set parameter WLSAccessID\n",
      "Set parameter WLSSecret\n",
      "Set parameter LicenseID to value 2411299\n",
      "Academic license - for non-commercial use only - registered to ziyue.zhang@ugent.be\n",
      "number of variables = 3744, number of constraints = 1134\n",
      "Optimal solution found\n",
      "Max link load is: 3.200000000000001\n",
      "predicted saturation load (after optimization) = 0.3124999999999992\n"
     ]
    }
   ],
   "source": [
    "results, _, path_dict = gl.calculate_data_paths_within_length(_network, config, 3)\n",
    "link_loads, local_link_load=_network.distribute_arbitrary_flow_on_paths_with_EPs(path_dict, EPR, shift_traffic_matrix)\n",
    "print(f'predicted saturation load (before optimization) = {local_link_load/max(link_loads)}')\n",
    "display(results)\n",
    "all_weighted_paths, result_link_loads=LP.Solve_load_balancing(path_dict, edge_list,R2R_shift, _verbose=0)\n",
    "link_loads, local_link_load=_network.distribute_arbitrary_flow_on_weighted_paths_with_EPs(all_weighted_paths, EPR, shift_traffic_matrix)\n",
    "print(f'predicted saturation load (after optimization) = {local_link_load/max(link_loads)}')"
   ]
  },
  {
   "cell_type": "markdown",
   "metadata": {},
   "source": [
    "### Using shorter-than-4 paths"
   ]
  },
  {
   "cell_type": "code",
   "execution_count": 11,
   "metadata": {},
   "outputs": [
    {
     "name": "stdout",
     "output_type": "stream",
     "text": [
      "calculation done for (36, 5) with shortest paths routing\n",
      "predicted saturation load (before optimization) = 0.24999999999999967\n"
     ]
    },
    {
     "data": {
      "text/plain": [
       "{'diameter': 3,\n",
       " 'ave_path_length_statistics': [2.2, 3.5883005090147946, 3.9166666666666665],\n",
       " 'num_paths_statistics': [3, 10.542857142857143, 16],\n",
       " 'link_load_statistics': [22.55499777999774,\n",
       "  25.118103563103535,\n",
       "  27.775585525585516]}"
      ]
     },
     "metadata": {},
     "output_type": "display_data"
    },
    {
     "name": "stdout",
     "output_type": "stream",
     "text": [
      "Set parameter WLSAccessID\n",
      "Set parameter WLSSecret\n",
      "Set parameter LicenseID to value 2411299\n",
      "Academic license - for non-commercial use only - registered to ziyue.zhang@ugent.be\n",
      "number of variables = 13464, number of constraints = 1440\n",
      "Optimal solution found\n",
      "Max link load is: 2.4999999999999996\n",
      "predicted saturation load (after optimization) = 0.3999999999999943\n"
     ]
    }
   ],
   "source": [
    "results, _, path_dict = gl.calculate_data_paths_within_length(_network, config, 4)\n",
    "link_loads, local_link_load=_network.distribute_arbitrary_flow_on_paths_with_EPs(path_dict, EPR, shift_traffic_matrix)\n",
    "print(f'predicted saturation load (before optimization) = {local_link_load/max(link_loads)}')\n",
    "display(results)\n",
    "all_weighted_paths, result_link_loads=LP.Solve_load_balancing(path_dict, edge_list,R2R_shift, _verbose=0)\n",
    "link_loads, local_link_load=_network.distribute_arbitrary_flow_on_weighted_paths_with_EPs(all_weighted_paths, EPR, shift_traffic_matrix)\n",
    "print(f'predicted saturation load (after optimization) = {local_link_load/max(link_loads)}')"
   ]
  },
  {
   "cell_type": "markdown",
   "metadata": {},
   "source": [
    "### Using shorter-than-5 paths"
   ]
  },
  {
   "cell_type": "code",
   "execution_count": 12,
   "metadata": {},
   "outputs": [
    {
     "name": "stdout",
     "output_type": "stream",
     "text": [
      "calculation done for (36, 5) with shortest paths routing\n",
      "predicted saturation load (before optimization) = 0.2974381641711327\n"
     ]
    },
    {
     "data": {
      "text/plain": [
       "{'diameter': 3,\n",
       " 'ave_path_length_statistics': [3.933333333333333, 4.598712257157483, 4.8],\n",
       " 'num_paths_statistics': [15, 38.885714285714286, 51],\n",
       " 'link_load_statistics': [28.440597825975154,\n",
       "  32.19098580010254,\n",
       "  37.54126653052542]}"
      ]
     },
     "metadata": {},
     "output_type": "display_data"
    },
    {
     "name": "stdout",
     "output_type": "stream",
     "text": [
      "Set parameter WLSAccessID\n",
      "Set parameter WLSSecret\n",
      "Set parameter LicenseID to value 2411299\n",
      "Academic license - for non-commercial use only - registered to ziyue.zhang@ugent.be\n",
      "number of variables = 49176, number of constraints = 1440\n",
      "Optimal solution found\n",
      "Max link load is: 2.4000000000000004\n",
      "predicted saturation load (after optimization) = 0.41666666666664387\n"
     ]
    }
   ],
   "source": [
    "results, _, path_dict = gl.calculate_data_paths_within_length(_network, config, 5)\n",
    "link_loads, local_link_load=_network.distribute_arbitrary_flow_on_paths_with_EPs(path_dict, EPR, shift_traffic_matrix)\n",
    "print(f'predicted saturation load (before optimization) = {local_link_load/max(link_loads)}')\n",
    "display(results)\n",
    "all_weighted_paths, result_link_loads=LP.Solve_load_balancing(path_dict, edge_list,R2R_shift, _verbose=0)\n",
    "link_loads, local_link_load=_network.distribute_arbitrary_flow_on_weighted_paths_with_EPs(all_weighted_paths, EPR, shift_traffic_matrix)\n",
    "print(f'predicted saturation load (after optimization) = {local_link_load/max(link_loads)}')"
   ]
  },
  {
   "cell_type": "markdown",
   "metadata": {},
   "source": [
    "### Using shorter-than-6 paths"
   ]
  },
  {
   "cell_type": "code",
   "execution_count": 4,
   "metadata": {},
   "outputs": [
    {
     "name": "stdout",
     "output_type": "stream",
     "text": [
      "calculation done for (36, 5) with shorter-than-6 paths routing\n",
      "predicted saturation load (before optimization) = 0.226050406248965\n"
     ]
    },
    {
     "data": {
      "text/plain": [
       "{'diameter': 3,\n",
       " 'ave_path_length_statistics': [5.458715596330276,\n",
       "  5.614426406875146,\n",
       "  5.737704918032787],\n",
       " 'num_paths_statistics': [69, 140.4857142857143, 186],\n",
       " 'link_load_statistics': [34.9290034079921,\n",
       "  39.30098484812515,\n",
       "  46.16491637886062]}"
      ]
     },
     "metadata": {},
     "output_type": "display_data"
    },
    {
     "name": "stdout",
     "output_type": "stream",
     "text": [
      "Set parameter WLSAccessID\n",
      "Set parameter WLSSecret\n",
      "Set parameter LicenseID to value 2411299\n",
      "Academic license - for non-commercial use only - registered to ziyue.zhang@ugent.be\n",
      "number of variables = 177192, number of constraints = 1440\n",
      "Optimal solution found\n",
      "Max link load is: 2.4\n",
      "predicted saturation load (after optimization) = 0.4166666666666655\n"
     ]
    }
   ],
   "source": [
    "results, _, path_dict = gl.calculate_data_paths_within_length(_network, config, 6)\n",
    "link_loads, local_link_load=_network.distribute_arbitrary_flow_on_paths_with_EPs(path_dict, EPR, shift_traffic_matrix)\n",
    "print(f'predicted saturation load (before optimization) = {local_link_load/max(link_loads)}')\n",
    "display(results)\n",
    "all_weighted_paths, result_link_loads=LP.Solve_load_balancing(path_dict, edge_list,R2R_shift, _verbose=0)\n",
    "link_loads, local_link_load=_network.distribute_arbitrary_flow_on_weighted_paths_with_EPs(all_weighted_paths, EPR, shift_traffic_matrix)\n",
    "print(f'predicted saturation load (after optimization) = {local_link_load/max(link_loads)}')"
   ]
  },
  {
   "cell_type": "markdown",
   "metadata": {},
   "source": [
    "### Using 20-shortest paths"
   ]
  },
  {
   "cell_type": "code",
   "execution_count": 6,
   "metadata": {},
   "outputs": [
    {
     "name": "stdout",
     "output_type": "stream",
     "text": [
      "calculation done for (36, 5) with 20 shortest paths routing\n",
      "predicted saturation load (before optimization) = 0.22222222222222263\n"
     ]
    },
    {
     "data": {
      "text/plain": [
       "{'diameter': 3,\n",
       " 'ave_path_length_statistics': [3.95, 4.298571428571429, 4.7],\n",
       " 'num_paths_statistics': [20, 20, 20],\n",
       " 'link_load_statistics': [21.850000000000176,\n",
       "  30.09000000000023,\n",
       "  38.69999999999994]}"
      ]
     },
     "metadata": {},
     "output_type": "display_data"
    },
    {
     "name": "stdout",
     "output_type": "stream",
     "text": [
      "Set parameter WLSAccessID\n",
      "Set parameter WLSSecret\n",
      "Set parameter LicenseID to value 2411299\n",
      "Academic license - for non-commercial use only - registered to ziyue.zhang@ugent.be\n",
      "number of variables = 25380, number of constraints = 1440\n",
      "Set parameter Threads to value 5\n",
      "Optimal solution found\n",
      "Max link load is: 2.454545454545455\n",
      "predicted saturation load (after optimization) = 0.40740740740740505\n"
     ]
    }
   ],
   "source": [
    "results, _, path_dict = gl.calculate_data_k_shortest_paths(_network, config, 20)\n",
    "link_loads, local_link_load=_network.distribute_arbitrary_flow_on_paths_with_EPs(path_dict, EPR, shift_traffic_matrix)\n",
    "print(f'predicted saturation load (before optimization) = {local_link_load/max(link_loads)}')\n",
    "display(results)\n",
    "all_weighted_paths, result_link_loads=LP.Solve_load_balancing(path_dict, edge_list,R2R_shift, _verbose=0)\n",
    "link_loads, local_link_load=_network.distribute_arbitrary_flow_on_weighted_paths_with_EPs(all_weighted_paths, EPR, shift_traffic_matrix)\n",
    "print(f'predicted saturation load (after optimization) = {local_link_load/max(link_loads)}')"
   ]
  },
  {
   "cell_type": "code",
   "execution_count": null,
   "metadata": {},
   "outputs": [],
   "source": []
  }
 ],
 "metadata": {
  "kernelspec": {
   "display_name": "Python 3",
   "language": "python",
   "name": "python3"
  },
  "language_info": {
   "codemirror_mode": {
    "name": "ipython",
    "version": 3
   },
   "file_extension": ".py",
   "mimetype": "text/x-python",
   "name": "python",
   "nbconvert_exporter": "python",
   "pygments_lexer": "ipython3",
   "version": "3.10.12"
  },
  "orig_nbformat": 4
 },
 "nbformat": 4,
 "nbformat_minor": 2
}
