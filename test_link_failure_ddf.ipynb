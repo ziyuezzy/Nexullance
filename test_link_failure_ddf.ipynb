{
 "cells": [
  {
   "cell_type": "code",
   "execution_count": 1,
   "metadata": {},
   "outputs": [],
   "source": [
    "import topologies.DDF as DDF\n",
    "import globals as gl\n",
    "import nexullance.LP_gurobi as LP"
   ]
  },
  {
   "cell_type": "code",
   "execution_count": 2,
   "metadata": {},
   "outputs": [],
   "source": [
    "config=(264, 11)\n",
    "# config=(114, 8)\n",
    "EPR=5\n",
    "topo='ddf'\n",
    "_network=DDF.DDFtopo(config[0], config[1])\n",
    "uniform_traffic_matrix=gl.generate_uniform_traffic_pattern(config[0], EPR)\n",
    "R2R_uniform=gl.convert_p2p_traffic_matrix_to_R2R(uniform_traffic_matrix, config[0], EPR)\n"
   ]
  },
  {
   "cell_type": "code",
   "execution_count": 3,
   "metadata": {},
   "outputs": [
    {
     "name": "stdout",
     "output_type": "stream",
     "text": [
      "calculation done for (264, 11) with shortest paths routing\n"
     ]
    },
    {
     "data": {
      "text/plain": [
       "{'diameter': 3,\n",
       " 'ave_path_length_statistics': [1.0, 2.6863117870722433, 3.0],\n",
       " 'num_paths_statistics': [1, 1.94106463878327, 11],\n",
       " 'link_load_statistics': [30.123160173160148,\n",
       "  64.22727272727275,\n",
       "  95.10952380952392]}"
      ]
     },
     "metadata": {},
     "output_type": "display_data"
    },
    {
     "name": "stdout",
     "output_type": "stream",
     "text": [
      "predicted saturation load = 0.5547288839933759\n",
      "Set parameter Username\n",
      "Set parameter WLSAccessID\n",
      "Set parameter WLSSecret\n",
      "Set parameter LicenseID to value 2411299\n",
      "Academic license - for non-commercial use only - registered to ziyue.zhang@ugent.be\n",
      "number of variables = 137676, number of constraints = 22506\n",
      "Optimal solution found\n",
      "Max link load is: 1666.9999999999998\n",
      "predicted saturation load after LP = 0.7912417516496096\n"
     ]
    }
   ],
   "source": [
    "# without any link failure\n",
    "_result, edge_list, path_dict=gl.calculate_data_shortest_paths(_network, config)\n",
    "display(_result)\n",
    "link_loads, local_link_load=_network.distribute_arbitrary_flow_on_paths_with_EPs(path_dict, EPR, uniform_traffic_matrix)\n",
    "print(f'predicted saturation load = {local_link_load/max(link_loads)}')\n",
    "# display(paths_dict)\n",
    "all_weighted_paths, result_link_loads=LP.Solve_load_balancing(path_dict, edge_list,R2R_uniform, _verbose=0)\n",
    "link_loads, local_link_load=_network.distribute_arbitrary_flow_on_weighted_paths_with_EPs(all_weighted_paths, EPR, uniform_traffic_matrix)\n",
    "print(f'predicted saturation load after LP = {local_link_load/max(link_loads)}')\n"
   ]
  },
  {
   "cell_type": "code",
   "execution_count": 4,
   "metadata": {},
   "outputs": [
    {
     "name": "stdout",
     "output_type": "stream",
     "text": [
      "14 edge(s) has been deleted from inter-group edge list\n",
      "calculation done for (264, 11) with shortest paths routing\n",
      "Set parameter Username\n",
      "Set parameter WLSAccessID\n",
      "Set parameter WLSSecret\n",
      "Set parameter LicenseID to value 2411299\n",
      "Academic license - for non-commercial use only - registered to ziyue.zhang@ugent.be\n",
      "number of variables = 148378, number of constraints = 23394\n",
      "Optimal solution found\n",
      "Max link load is: 1774.1379310344832\n"
     ]
    }
   ],
   "source": [
    "link_failure_ratio=0.01\n",
    "diameter=[]\n",
    "average_path_length=[]\n",
    "average_path_diversity=[]\n",
    "predicted_saturation_load=[]\n",
    "LP_saturation_load=[]\n",
    "for seed in range(1):\n",
    "    # set link failures\n",
    "    _network=DDF.DDFtopo(config[0], config[1]) #reset network\n",
    "    _network.set_random_link_failures(link_failure_ratio, seed)\n",
    "    # display(list(_network.nx_graph.edges()))\n",
    "    _result, edge_list, path_dict=gl.calculate_data_shortest_paths(_network, config)\n",
    "    diameter.append(_result['diameter'])\n",
    "    average_path_length.append(_result['ave_path_length_statistics'][1])\n",
    "    average_path_diversity.append(_result['num_paths_statistics'][1])\n",
    "    link_loads, local_link_load=_network.distribute_arbitrary_flow_on_paths_with_EPs(path_dict, EPR, uniform_traffic_matrix)\n",
    "    predicted_saturation_load.append(local_link_load/max(link_loads))\n",
    "\n",
    "    all_weighted_paths, result_link_loads=LP.Solve_load_balancing(path_dict, edge_list,R2R_uniform, _verbose=0)\n",
    "    link_loads, local_link_load=_network.distribute_arbitrary_flow_on_weighted_paths_with_EPs(all_weighted_paths, EPR, uniform_traffic_matrix)\n",
    "    LP_saturation_load.append(local_link_load/max(link_loads))\n",
    "\n",
    "#TODO: print out for python execution\n"
   ]
  },
  {
   "cell_type": "code",
   "execution_count": 5,
   "metadata": {},
   "outputs": [
    {
     "data": {
      "text/plain": [
       "[2.7047470906786497]"
      ]
     },
     "execution_count": 5,
     "metadata": {},
     "output_type": "execute_result"
    }
   ],
   "source": [
    "average_path_length"
   ]
  },
  {
   "cell_type": "code",
   "execution_count": 6,
   "metadata": {},
   "outputs": [
    {
     "data": {
      "text/plain": [
       "[2.0956043322963476]"
      ]
     },
     "execution_count": 6,
     "metadata": {},
     "output_type": "execute_result"
    }
   ],
   "source": [
    "average_path_diversity"
   ]
  },
  {
   "cell_type": "code",
   "execution_count": 7,
   "metadata": {},
   "outputs": [
    {
     "data": {
      "text/plain": [
       "[0.7434596695820972]"
      ]
     },
     "execution_count": 7,
     "metadata": {},
     "output_type": "execute_result"
    }
   ],
   "source": [
    "LP_saturation_load"
   ]
  },
  {
   "cell_type": "code",
   "execution_count": 8,
   "metadata": {},
   "outputs": [
    {
     "data": {
      "text/plain": [
       "[0.493201507985811]"
      ]
     },
     "execution_count": 8,
     "metadata": {},
     "output_type": "execute_result"
    }
   ],
   "source": [
    "predicted_saturation_load"
   ]
  },
  {
   "cell_type": "code",
   "execution_count": 9,
   "metadata": {},
   "outputs": [],
   "source": [
    "# # set link failures\n",
    "# _network=DDF.DDFtopo(config[0], config[1]) #reset network\n",
    "# link_failure_ratio=0.01\n",
    "# _network.set_intergroup_link_failures(link_failure_ratio)\n",
    "# # display(list(_network.nx_graph.edges()))\n",
    "# _result, _, path_dict=gl.calculate_data_shortest_paths(_network, config)\n",
    "# display(_result)\n",
    "# link_loads, local_link_load=_network.distribute_arbitrary_flow_on_paths_with_EPs(path_dict, EPR, uniform_traffic_matrix)\n",
    "# print(f'With {100*link_failure_ratio}% inter-group link failure,predicted saturation load = {local_link_load/max(link_loads)}')\n",
    "# # display(paths_dict)"
   ]
  },
  {
   "cell_type": "code",
   "execution_count": 10,
   "metadata": {},
   "outputs": [],
   "source": [
    "# # set link failures\n",
    "# _network=DDF.DDFtopo(config[0], config[1]) #reset network\n",
    "# link_failure_ratio=0.01\n",
    "# _network.set_intragroup_link_failures(link_failure_ratio)\n",
    "# # display(list(_network.nx_graph.edges()))\n",
    "# _result, _, path_dict=gl.calculate_data_shortest_paths(_network, config)\n",
    "# display(_result)\n",
    "# link_loads, local_link_load=_network.distribute_arbitrary_flow_on_paths_with_EPs(path_dict, EPR, uniform_traffic_matrix)\n",
    "# print(f'With {100*link_failure_ratio}% intra-group link failure,predicted saturation load = {local_link_load/max(link_loads)}')\n",
    "# # display(paths_dict)"
   ]
  }
 ],
 "metadata": {
  "kernelspec": {
   "display_name": "Python 3",
   "language": "python",
   "name": "python3"
  },
  "language_info": {
   "codemirror_mode": {
    "name": "ipython",
    "version": 3
   },
   "file_extension": ".py",
   "mimetype": "text/x-python",
   "name": "python",
   "nbconvert_exporter": "python",
   "pygments_lexer": "ipython3",
   "version": "3.8.5"
  },
  "orig_nbformat": 4
 },
 "nbformat": 4,
 "nbformat_minor": 2
}
