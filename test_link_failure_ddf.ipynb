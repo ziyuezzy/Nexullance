{
 "cells": [
  {
   "cell_type": "code",
   "execution_count": 1,
   "metadata": {},
   "outputs": [],
   "source": [
    "import topologies.DDF as DDF"
   ]
  },
  {
   "cell_type": "code",
   "execution_count": 6,
   "metadata": {},
   "outputs": [
    {
     "data": {
      "text/plain": [
       "[(0, 1), (0, 2), (1, 4), (2, 3), (3, 5), (4, 5)]"
      ]
     },
     "metadata": {},
     "output_type": "display_data"
    },
    {
     "name": "stdout",
     "output_type": "stream",
     "text": [
      "1 edge(s) has been deleted from inter-group edge list\n"
     ]
    },
    {
     "data": {
      "text/plain": [
       "[(0, 1), (0, 2), (1, 4), (2, 3), (4, 5)]"
      ]
     },
     "metadata": {},
     "output_type": "display_data"
    }
   ],
   "source": [
    "config=(6, 2)\n",
    "EPR=1\n",
    "topo='ddf'\n",
    "_network=DDF.DDFtopo(config[0], config[1])\n",
    "display(list(_network.nx_graph.edges()))\n",
    "_network.set_random_link_failures(1/6)\n",
    "display(list(_network.nx_graph.edges()))\n",
    "#TODO: compute paths and link loads on network"
   ]
  },
  {
   "cell_type": "code",
   "execution_count": 3,
   "metadata": {},
   "outputs": [
    {
     "data": {
      "text/plain": [
       "[(0, 1), (0, 2), (1, 4), (2, 3), (3, 5), (4, 5)]"
      ]
     },
     "metadata": {},
     "output_type": "display_data"
    },
    {
     "name": "stdout",
     "output_type": "stream",
     "text": [
      "1 edge(s) has been deleted from inter-group edge list\n"
     ]
    },
    {
     "data": {
      "text/plain": [
       "[(0, 1), (1, 4), (2, 3), (3, 5), (4, 5)]"
      ]
     },
     "metadata": {},
     "output_type": "display_data"
    }
   ],
   "source": [
    "config=(6, 2)\n",
    "EPR=1\n",
    "topo='ddf'\n",
    "_network=DDF.DDFtopo(config[0], config[1])\n",
    "display(list(_network.nx_graph.edges()))\n",
    "_network.set_intergroup_link_failures(1/6)\n",
    "display(list(_network.nx_graph.edges()))"
   ]
  },
  {
   "cell_type": "code",
   "execution_count": 4,
   "metadata": {},
   "outputs": [
    {
     "data": {
      "text/plain": [
       "[(0, 1), (0, 2), (1, 4), (2, 3), (3, 5), (4, 5)]"
      ]
     },
     "metadata": {},
     "output_type": "display_data"
    },
    {
     "name": "stdout",
     "output_type": "stream",
     "text": [
      "1 edge(s) has been deleted from inter-group edge list\n"
     ]
    },
    {
     "data": {
      "text/plain": [
       "[(0, 1), (0, 2), (1, 4), (3, 5), (4, 5)]"
      ]
     },
     "metadata": {},
     "output_type": "display_data"
    }
   ],
   "source": [
    "config=(6, 2)\n",
    "EPR=1\n",
    "topo='ddf'\n",
    "_network=DDF.DDFtopo(config[0], config[1])\n",
    "display(list(_network.nx_graph.edges()))\n",
    "_network.set_intragroup_link_failures(1/6)\n",
    "display(list(_network.nx_graph.edges()))"
   ]
  },
  {
   "cell_type": "code",
   "execution_count": null,
   "metadata": {},
   "outputs": [],
   "source": []
  }
 ],
 "metadata": {
  "kernelspec": {
   "display_name": "Python 3",
   "language": "python",
   "name": "python3"
  },
  "language_info": {
   "codemirror_mode": {
    "name": "ipython",
    "version": 3
   },
   "file_extension": ".py",
   "mimetype": "text/x-python",
   "name": "python",
   "nbconvert_exporter": "python",
   "pygments_lexer": "ipython3",
   "version": "3.8.5"
  },
  "orig_nbformat": 4
 },
 "nbformat": 4,
 "nbformat_minor": 2
}
